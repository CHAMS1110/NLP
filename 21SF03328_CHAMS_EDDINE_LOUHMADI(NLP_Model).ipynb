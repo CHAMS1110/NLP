{
  "cells": [
    {
      "cell_type": "markdown",
      "metadata": {
        "id": "view-in-github",
        "colab_type": "text"
      },
      "source": [
        "<a href=\"https://colab.research.google.com/github/CHAMS1110/NLP/blob/main/21SF03328_CHAMS_EDDINE_LOUHMADI(NLP_Model).ipynb\" target=\"_parent\"><img src=\"https://colab.research.google.com/assets/colab-badge.svg\" alt=\"Open In Colab\"/></a>"
      ]
    },
    {
      "cell_type": "markdown",
      "source": [
        "# Training & testing"
      ],
      "metadata": {
        "id": "aeaqhvDXxrbT"
      }
    },
    {
      "cell_type": "markdown",
      "metadata": {
        "id": "Uo1qa6Q-yhcN"
      },
      "source": [
        "1. importing  libraries"
      ]
    },
    {
      "cell_type": "code",
      "source": [
        "#install torchnlp in order to load the dataset\n",
        "!pip install torchnlp"
      ],
      "metadata": {
        "colab": {
          "base_uri": "https://localhost:8080/"
        },
        "id": "7odgEG1Jo1Ym",
        "outputId": "f5e1be0b-7904-4c43-f5b0-9e5efaf4b9d1"
      },
      "execution_count": 1,
      "outputs": [
        {
          "output_type": "stream",
          "name": "stdout",
          "text": [
            "Collecting torchnlp\n",
            "  Downloading torchnlp-0.0.0.1-py3-none-any.whl (5.7 kB)\n",
            "Collecting scikit-learn==0.20.2\n",
            "  Downloading scikit_learn-0.20.2-cp37-cp37m-manylinux1_x86_64.whl (5.4 MB)\n",
            "\u001b[K     |████████████████████████████████| 5.4 MB 24.4 MB/s \n",
            "\u001b[?25hCollecting torchtext==0.4.0\n",
            "  Downloading torchtext-0.4.0-py3-none-any.whl (53 kB)\n",
            "\u001b[K     |████████████████████████████████| 53 kB 1.7 MB/s \n",
            "\u001b[?25hCollecting pytorch-crf==0.7.0\n",
            "  Downloading pytorch_crf-0.7.0-py3-none-any.whl (10 kB)\n",
            "Collecting tqdm==4.28.1\n",
            "  Downloading tqdm-4.28.1-py2.py3-none-any.whl (45 kB)\n",
            "\u001b[K     |████████████████████████████████| 45 kB 3.8 MB/s \n",
            "\u001b[?25hRequirement already satisfied: nltk in /usr/local/lib/python3.7/dist-packages (from torchnlp) (3.2.5)\n",
            "Requirement already satisfied: jieba in /usr/local/lib/python3.7/dist-packages (from torchnlp) (0.42.1)\n",
            "Collecting revtok\n",
            "  Downloading revtok-0.0.3-py3-none-any.whl (4.3 kB)\n",
            "Collecting torch==1.0.0\n",
            "  Downloading torch-1.0.0-cp37-cp37m-manylinux1_x86_64.whl (591.8 MB)\n",
            "\u001b[K     |████████████████████████████████| 591.8 MB 633 bytes/s \n",
            "\u001b[?25hRequirement already satisfied: regex in /usr/local/lib/python3.7/dist-packages (from torchnlp) (2019.12.20)\n",
            "Requirement already satisfied: numpy>=1.8.2 in /usr/local/lib/python3.7/dist-packages (from scikit-learn==0.20.2->torchnlp) (1.21.6)\n",
            "Requirement already satisfied: scipy>=0.13.3 in /usr/local/lib/python3.7/dist-packages (from scikit-learn==0.20.2->torchnlp) (1.4.1)\n",
            "Requirement already satisfied: six in /usr/local/lib/python3.7/dist-packages (from torchtext==0.4.0->torchnlp) (1.15.0)\n",
            "Requirement already satisfied: requests in /usr/local/lib/python3.7/dist-packages (from torchtext==0.4.0->torchnlp) (2.23.0)\n",
            "Requirement already satisfied: certifi>=2017.4.17 in /usr/local/lib/python3.7/dist-packages (from requests->torchtext==0.4.0->torchnlp) (2021.10.8)\n",
            "Requirement already satisfied: idna<3,>=2.5 in /usr/local/lib/python3.7/dist-packages (from requests->torchtext==0.4.0->torchnlp) (2.10)\n",
            "Requirement already satisfied: chardet<4,>=3.0.2 in /usr/local/lib/python3.7/dist-packages (from requests->torchtext==0.4.0->torchnlp) (3.0.4)\n",
            "Requirement already satisfied: urllib3!=1.25.0,!=1.25.1,<1.26,>=1.21.1 in /usr/local/lib/python3.7/dist-packages (from requests->torchtext==0.4.0->torchnlp) (1.24.3)\n",
            "Installing collected packages: tqdm, torch, torchtext, scikit-learn, revtok, pytorch-crf, torchnlp\n",
            "  Attempting uninstall: tqdm\n",
            "    Found existing installation: tqdm 4.64.0\n",
            "    Uninstalling tqdm-4.64.0:\n",
            "      Successfully uninstalled tqdm-4.64.0\n",
            "  Attempting uninstall: torch\n",
            "    Found existing installation: torch 1.11.0+cu113\n",
            "    Uninstalling torch-1.11.0+cu113:\n",
            "      Successfully uninstalled torch-1.11.0+cu113\n",
            "  Attempting uninstall: torchtext\n",
            "    Found existing installation: torchtext 0.12.0\n",
            "    Uninstalling torchtext-0.12.0:\n",
            "      Successfully uninstalled torchtext-0.12.0\n",
            "  Attempting uninstall: scikit-learn\n",
            "    Found existing installation: scikit-learn 1.0.2\n",
            "    Uninstalling scikit-learn-1.0.2:\n",
            "      Successfully uninstalled scikit-learn-1.0.2\n",
            "\u001b[31mERROR: pip's dependency resolver does not currently take into account all the packages that are installed. This behaviour is the source of the following dependency conflicts.\n",
            "yellowbrick 1.4 requires scikit-learn>=1.0.0, but you have scikit-learn 0.20.2 which is incompatible.\n",
            "torchvision 0.12.0+cu113 requires torch==1.11.0, but you have torch 1.0.0 which is incompatible.\n",
            "torchaudio 0.11.0+cu113 requires torch==1.11.0, but you have torch 1.0.0 which is incompatible.\n",
            "spacy 2.2.4 requires tqdm<5.0.0,>=4.38.0, but you have tqdm 4.28.1 which is incompatible.\n",
            "panel 0.12.1 requires tqdm>=4.48.0, but you have tqdm 4.28.1 which is incompatible.\n",
            "imbalanced-learn 0.8.1 requires scikit-learn>=0.24, but you have scikit-learn 0.20.2 which is incompatible.\n",
            "fbprophet 0.7.1 requires tqdm>=4.36.1, but you have tqdm 4.28.1 which is incompatible.\u001b[0m\n",
            "Successfully installed pytorch-crf-0.7.0 revtok-0.0.3 scikit-learn-0.20.2 torch-1.0.0 torchnlp-0.0.0.1 torchtext-0.4.0 tqdm-4.28.1\n"
          ]
        }
      ]
    },
    {
      "cell_type": "code",
      "execution_count": 2,
      "metadata": {
        "id": "tq9ZqCCnb0hU"
      },
      "outputs": [],
      "source": [
        "#used lebraries during the data loading and data pre-processing\n",
        "import os\n",
        "import glob\n",
        "import torch\n",
        "import torch.nn as nn\n",
        "import pandas as pd\n",
        "from torch.autograd import Variable\n",
        "from torch import optim\n",
        "import torch.nn.functional as F\n",
        "from torchnlp import *"
      ]
    },
    {
      "cell_type": "markdown",
      "source": [
        "2. Data Collection"
      ],
      "metadata": {
        "id": "gijRUDV-zBse"
      }
    },
    {
      "cell_type": "code",
      "execution_count": 3,
      "metadata": {
        "id": "X49dYosebvrg"
      },
      "outputs": [],
      "source": [
        "# this function download the dataset that we will use it on this application, and devide it into training and testing directory, \n",
        "def imdb_dataset(directory='data/',\n",
        "                 train=False,\n",
        "                 test=False,\n",
        "                 train_directory='train',\n",
        "                 test_directory='test',extracted_name='aclImdb',\n",
        "                 check_files=['aclImdb/README'],\n",
        "                 url='http://ai.stanford.edu/~amaas/data/sentiment/aclImdb_v1.tar.gz',\n",
        "                 sentiments=['pos', 'neg']):\n",
        "                 download_file_maybe_extract(url=url, directory=directory, check_files=check_files)\n",
        "                 x= []\n",
        "                 splits = [\n",
        "                 dir_ for (requested, dir_) in [(train, train_directory), (test, test_directory)]\n",
        "                 if requested\n",
        "                 ]\n",
        "                 for split_directory in splits:\n",
        "                  full_path = os.path.join(directory, extracted_name, split_directory)\n",
        "                  examples = []\n",
        "                 for sentiment in sentiments:\n",
        "                  for filename in glob.iglob(os.path.join(full_path, sentiment, '*.txt')):\n",
        "                    with open(filename, 'r', encoding=\"utf-8\") as f:\n",
        "                      textnew = f.readline()\n",
        "                      examples.append({\n",
        "                      'text': textnew ,\n",
        "                      'sentiment': sentiment,})\n",
        "                      list.append(examples)\n",
        "                 if len(x) == 1:\n",
        "                  return x[0]\n",
        "                 else:\n",
        "                  return tuple(x)"
      ]
    },
    {
      "cell_type": "markdown",
      "source": [
        "3. Code Implementation using Keras Library"
      ],
      "metadata": {
        "id": "1SIcNmfGzMYL"
      }
    },
    {
      "cell_type": "code",
      "execution_count": 4,
      "metadata": {
        "id": "NOU1Tzk_zZlJ"
      },
      "outputs": [],
      "source": [
        "#used machine learnining libreries\n",
        "from keras.datasets import imdb\n",
        "from keras.models import Sequential\n",
        "from keras.layers import Dense, LSTM\n",
        "from keras.layers.embeddings import Embedding\n",
        "from keras.preprocessing import sequence"
      ]
    },
    {
      "cell_type": "code",
      "execution_count": 5,
      "metadata": {
        "id": "K93SusJCXurT",
        "colab": {
          "base_uri": "https://localhost:8080/"
        },
        "outputId": "aa26fa01-1fc3-4ce2-9a3e-bfeb25e79852"
      },
      "outputs": [
        {
          "output_type": "stream",
          "name": "stdout",
          "text": [
            "Downloading data from https://storage.googleapis.com/tensorflow/tf-keras-datasets/imdb.npz\n",
            "17465344/17464789 [==============================] - 0s 0us/step\n",
            "17473536/17464789 [==============================] - 0s 0us/step\n"
          ]
        }
      ],
      "source": [
        "#the maximum words that use on training is 5000\n",
        "maximum_words = 5000\n",
        "(X_train, y_train), (X_test, y_test) = imdb.load_data(num_words=maximum_words)"
      ]
    },
    {
      "cell_type": "code",
      "execution_count": 12,
      "metadata": {
        "colab": {
          "base_uri": "https://localhost:8080/"
        },
        "id": "u-GOy-DAX5oI",
        "outputId": "edae8cdf-36f7-4867-85e0-be05016c19d9"
      },
      "outputs": [
        {
          "output_type": "stream",
          "name": "stdout",
          "text": [
            "Model: \"sequential_2\"\n",
            "_________________________________________________________________\n",
            " Layer (type)                Output Shape              Param #   \n",
            "=================================================================\n",
            " embedding_2 (Embedding)     (None, 500, 32)           160000    \n",
            "                                                                 \n",
            " lstm_2 (LSTM)               (None, 100)               53200     \n",
            "                                                                 \n",
            " dense_2 (Dense)             (None, 1)                 101       \n",
            "                                                                 \n",
            "=================================================================\n",
            "Total params: 213,301\n",
            "Trainable params: 213,301\n",
            "Non-trainable params: 0\n",
            "_________________________________________________________________\n",
            "None\n"
          ]
        }
      ],
      "source": [
        "#the maximum reviews or comment that we use on training is 500\n",
        "max_review = 500\n",
        "X_train = sequence.pad_sequences(X_train, maxlen=max_review)\n",
        "X_test = sequence.pad_sequences(X_test, maxlen=max_review)\n",
        "embedding_vector_length = 32\n",
        "model = Sequential()\n",
        "model.add(Embedding( maximum_words, embedding_vector_length, input_length = max_review))\n",
        "model.add(LSTM(100))\n",
        "model.add(Dense(1, activation='sigmoid'))\n",
        "model.compile(loss='binary_crossentropy', optimizer='adam', metrics=['accuracy'])\n",
        "print(model.summary())"
      ]
    },
    {
      "cell_type": "code",
      "source": [
        "!pip install plot_keras_history"
      ],
      "metadata": {
        "colab": {
          "base_uri": "https://localhost:8080/"
        },
        "id": "KS-2qHqzOedp",
        "outputId": "a4b4f4ab-533f-4b64-d663-7124df3e707c"
      },
      "execution_count": 9,
      "outputs": [
        {
          "output_type": "stream",
          "name": "stdout",
          "text": [
            "Collecting plot_keras_history\n",
            "  Downloading plot_keras_history-1.1.36.tar.gz (9.1 kB)\n",
            "Requirement already satisfied: matplotlib in /usr/local/lib/python3.7/dist-packages (from plot_keras_history) (3.2.2)\n",
            "Requirement already satisfied: pandas in /usr/local/lib/python3.7/dist-packages (from plot_keras_history) (1.3.5)\n",
            "Requirement already satisfied: scipy in /usr/local/lib/python3.7/dist-packages (from plot_keras_history) (1.4.1)\n",
            "Collecting sanitize_ml_labels>=1.0.33\n",
            "  Downloading sanitize_ml_labels-1.0.37.tar.gz (323 kB)\n",
            "\u001b[K     |████████████████████████████████| 323 kB 26.3 MB/s \n",
            "\u001b[?25hCollecting compress_json\n",
            "  Downloading compress_json-1.0.7.tar.gz (5.4 kB)\n",
            "Requirement already satisfied: python-dateutil>=2.1 in /usr/local/lib/python3.7/dist-packages (from matplotlib->plot_keras_history) (2.8.2)\n",
            "Requirement already satisfied: numpy>=1.11 in /usr/local/lib/python3.7/dist-packages (from matplotlib->plot_keras_history) (1.21.6)\n",
            "Requirement already satisfied: pyparsing!=2.0.4,!=2.1.2,!=2.1.6,>=2.0.1 in /usr/local/lib/python3.7/dist-packages (from matplotlib->plot_keras_history) (3.0.8)\n",
            "Requirement already satisfied: kiwisolver>=1.0.1 in /usr/local/lib/python3.7/dist-packages (from matplotlib->plot_keras_history) (1.4.2)\n",
            "Requirement already satisfied: cycler>=0.10 in /usr/local/lib/python3.7/dist-packages (from matplotlib->plot_keras_history) (0.11.0)\n",
            "Requirement already satisfied: typing-extensions in /usr/local/lib/python3.7/dist-packages (from kiwisolver>=1.0.1->matplotlib->plot_keras_history) (4.2.0)\n",
            "Requirement already satisfied: six>=1.5 in /usr/local/lib/python3.7/dist-packages (from python-dateutil>=2.1->matplotlib->plot_keras_history) (1.15.0)\n",
            "Requirement already satisfied: pytz>=2017.3 in /usr/local/lib/python3.7/dist-packages (from pandas->plot_keras_history) (2022.1)\n",
            "Building wheels for collected packages: plot-keras-history, sanitize-ml-labels, compress-json\n",
            "  Building wheel for plot-keras-history (setup.py) ... \u001b[?25l\u001b[?25hdone\n",
            "  Created wheel for plot-keras-history: filename=plot_keras_history-1.1.36-py3-none-any.whl size=9236 sha256=c38bb8f5a579ea136eacca28fa9bef3b97610c72e6c6c20e1379c48fc5eb6987\n",
            "  Stored in directory: /root/.cache/pip/wheels/ca/73/ed/41022b42c1d9ce60a8a2ebb71f042c7f895673760404d39fd7\n",
            "  Building wheel for sanitize-ml-labels (setup.py) ... \u001b[?25l\u001b[?25hdone\n",
            "  Created wheel for sanitize-ml-labels: filename=sanitize_ml_labels-1.0.37-py3-none-any.whl size=322417 sha256=fd1779e88a24dfbc5e95f27b7674c4eddab7649432088fe381519ab578415b09\n",
            "  Stored in directory: /root/.cache/pip/wheels/0c/78/94/e86b788d7355576044865917a12917f95aaf6e79bcbec931e7\n",
            "  Building wheel for compress-json (setup.py) ... \u001b[?25l\u001b[?25hdone\n",
            "  Created wheel for compress-json: filename=compress_json-1.0.7-py3-none-any.whl size=5233 sha256=819754ec66a7bd85478df5be59bacf9b57c7c6d888d9e907545d019a2587689e\n",
            "  Stored in directory: /root/.cache/pip/wheels/6d/7e/13/0e370d719528969d430498ca952417324595d116776840b279\n",
            "Successfully built plot-keras-history sanitize-ml-labels compress-json\n",
            "Installing collected packages: compress-json, sanitize-ml-labels, plot-keras-history\n",
            "Successfully installed compress-json-1.0.7 plot-keras-history-1.1.36 sanitize-ml-labels-1.0.37\n"
          ]
        }
      ]
    },
    {
      "cell_type": "code",
      "source": [
        "from matplotlib import pyplot\n",
        "from plot_keras_history import plot_history\n",
        "import keras\n",
        "# The patience parameter is the amount of epochs to check for improvement\n",
        "early_stop = keras.callbacks.EarlyStopping(monitor='val_loss', patience=10)\n",
        "history = model.fit(X_train, y_train, epochs=50, batch_size=64)\n",
        "scores = model.evaluate(X_test, y_test, verbose=0)\n",
        "print(\"Model accuracy on the IMDb dataset: {0:.2f}%\".format(scores[1]*100))\n",
        "plot_history(history)"
      ],
      "metadata": {
        "colab": {
          "base_uri": "https://localhost:8080/",
          "height": 1000
        },
        "id": "KUwfekn_Y4cx",
        "outputId": "1af03480-0195-4092-e489-89b39ac5e6cc"
      },
      "execution_count": 14,
      "outputs": [
        {
          "output_type": "stream",
          "name": "stdout",
          "text": [
            "Epoch 1/50\n",
            "391/391 [==============================] - 208s 530ms/step - loss: 0.4572 - accuracy: 0.7877\n",
            "Epoch 2/50\n",
            "391/391 [==============================] - 208s 532ms/step - loss: 0.2875 - accuracy: 0.8848\n",
            "Epoch 3/50\n",
            "391/391 [==============================] - 209s 534ms/step - loss: 0.2340 - accuracy: 0.9084\n",
            "Epoch 4/50\n",
            "391/391 [==============================] - 208s 531ms/step - loss: 0.2025 - accuracy: 0.9216\n",
            "Epoch 5/50\n",
            "391/391 [==============================] - 208s 532ms/step - loss: 0.1800 - accuracy: 0.9314\n",
            "Epoch 6/50\n",
            "391/391 [==============================] - 210s 538ms/step - loss: 0.1595 - accuracy: 0.9405\n",
            "Epoch 7/50\n",
            "391/391 [==============================] - 209s 534ms/step - loss: 0.1374 - accuracy: 0.9499\n",
            "Epoch 8/50\n",
            "391/391 [==============================] - 208s 531ms/step - loss: 0.1540 - accuracy: 0.9413\n",
            "Epoch 9/50\n",
            "391/391 [==============================] - 207s 528ms/step - loss: 0.1806 - accuracy: 0.9326\n",
            "Epoch 10/50\n",
            "391/391 [==============================] - 208s 533ms/step - loss: 0.1080 - accuracy: 0.9614\n",
            "Epoch 11/50\n",
            "391/391 [==============================] - 209s 533ms/step - loss: 0.0886 - accuracy: 0.9698\n",
            "Epoch 12/50\n",
            "391/391 [==============================] - 208s 532ms/step - loss: 0.1049 - accuracy: 0.9610\n",
            "Epoch 13/50\n",
            "391/391 [==============================] - 209s 533ms/step - loss: 0.0840 - accuracy: 0.9700\n",
            "Epoch 14/50\n",
            "391/391 [==============================] - 208s 531ms/step - loss: 0.1241 - accuracy: 0.9532\n",
            "Epoch 15/50\n",
            "391/391 [==============================] - 206s 527ms/step - loss: 0.0829 - accuracy: 0.9720\n",
            "Epoch 16/50\n",
            "391/391 [==============================] - 206s 527ms/step - loss: 0.0604 - accuracy: 0.9806\n",
            "Epoch 17/50\n",
            "391/391 [==============================] - 208s 532ms/step - loss: 0.0671 - accuracy: 0.9773\n",
            "Epoch 18/50\n",
            "391/391 [==============================] - 207s 531ms/step - loss: 0.0566 - accuracy: 0.9823\n",
            "Epoch 19/50\n",
            "391/391 [==============================] - 207s 531ms/step - loss: 0.0537 - accuracy: 0.9831\n",
            "Epoch 20/50\n",
            "391/391 [==============================] - 206s 528ms/step - loss: 0.0462 - accuracy: 0.9866\n",
            "Epoch 21/50\n",
            "391/391 [==============================] - 204s 522ms/step - loss: 0.0293 - accuracy: 0.9920\n",
            "Epoch 22/50\n",
            "391/391 [==============================] - 204s 522ms/step - loss: 0.0242 - accuracy: 0.9938\n",
            "Epoch 23/50\n",
            "391/391 [==============================] - 205s 523ms/step - loss: 0.0367 - accuracy: 0.9888\n",
            "Epoch 24/50\n",
            "391/391 [==============================] - 206s 526ms/step - loss: 0.1589 - accuracy: 0.9449\n",
            "Epoch 25/50\n",
            "391/391 [==============================] - 206s 526ms/step - loss: 0.0631 - accuracy: 0.9812\n",
            "Epoch 26/50\n",
            "391/391 [==============================] - 205s 524ms/step - loss: 0.0227 - accuracy: 0.9947\n",
            "Epoch 27/50\n",
            "391/391 [==============================] - 206s 526ms/step - loss: 0.0365 - accuracy: 0.9888\n",
            "Epoch 28/50\n",
            "391/391 [==============================] - 207s 528ms/step - loss: 0.0278 - accuracy: 0.9926\n",
            "Epoch 29/50\n",
            "391/391 [==============================] - 206s 528ms/step - loss: 0.0119 - accuracy: 0.9974\n",
            "Epoch 30/50\n",
            "391/391 [==============================] - 206s 528ms/step - loss: 0.0182 - accuracy: 0.9954\n",
            "Epoch 31/50\n",
            "391/391 [==============================] - 211s 539ms/step - loss: 0.0190 - accuracy: 0.9947\n",
            "Epoch 32/50\n",
            "391/391 [==============================] - 206s 528ms/step - loss: 0.0378 - accuracy: 0.9893\n",
            "Epoch 33/50\n",
            "391/391 [==============================] - 205s 524ms/step - loss: 0.0177 - accuracy: 0.9953\n",
            "Epoch 34/50\n",
            "391/391 [==============================] - 204s 522ms/step - loss: 0.0158 - accuracy: 0.9954\n",
            "Epoch 35/50\n",
            "391/391 [==============================] - 205s 524ms/step - loss: 0.0049 - accuracy: 0.9991\n",
            "Epoch 36/50\n",
            "391/391 [==============================] - 206s 528ms/step - loss: 0.0173 - accuracy: 0.9955\n",
            "Epoch 37/50\n",
            "391/391 [==============================] - 206s 528ms/step - loss: 0.0344 - accuracy: 0.9908\n",
            "Epoch 38/50\n",
            "391/391 [==============================] - 206s 527ms/step - loss: 0.0099 - accuracy: 0.9975\n",
            "Epoch 39/50\n",
            "391/391 [==============================] - 206s 526ms/step - loss: 0.0047 - accuracy: 0.9992\n",
            "Epoch 40/50\n",
            "391/391 [==============================] - 208s 532ms/step - loss: 0.0310 - accuracy: 0.9914\n",
            "Epoch 41/50\n",
            "391/391 [==============================] - 208s 532ms/step - loss: 0.0125 - accuracy: 0.9966\n",
            "Epoch 42/50\n",
            "391/391 [==============================] - 207s 530ms/step - loss: 0.0105 - accuracy: 0.9977\n",
            "Epoch 43/50\n",
            "391/391 [==============================] - 206s 526ms/step - loss: 0.0135 - accuracy: 0.9963\n",
            "Epoch 44/50\n",
            "391/391 [==============================] - 206s 526ms/step - loss: 0.0611 - accuracy: 0.9817\n",
            "Epoch 45/50\n",
            "391/391 [==============================] - 206s 526ms/step - loss: 0.0329 - accuracy: 0.9898\n",
            "Epoch 46/50\n",
            "391/391 [==============================] - 206s 526ms/step - loss: 0.0074 - accuracy: 0.9986\n",
            "Epoch 47/50\n",
            "391/391 [==============================] - 207s 529ms/step - loss: 0.0070 - accuracy: 0.9985\n",
            "Epoch 48/50\n",
            "391/391 [==============================] - 206s 526ms/step - loss: 0.0046 - accuracy: 0.9991\n",
            "Epoch 49/50\n",
            "391/391 [==============================] - 206s 526ms/step - loss: 0.0128 - accuracy: 0.9968\n",
            "Epoch 50/50\n",
            "391/391 [==============================] - 208s 532ms/step - loss: 0.0253 - accuracy: 0.9927\n",
            "Model accuracy on the IMDb dataset: 85.47%\n"
          ]
        },
        {
          "output_type": "execute_result",
          "data": {
            "text/plain": [
              "(<Figure size 720x360 with 2 Axes>,\n",
              " array([<matplotlib.axes._subplots.AxesSubplot object at 0x7f38419e2ad0>,\n",
              "        <matplotlib.axes._subplots.AxesSubplot object at 0x7f3841e12110>],\n",
              "       dtype=object))"
            ]
          },
          "metadata": {},
          "execution_count": 14
        },
        {
          "output_type": "display_data",
          "data": {
            "text/plain": [
              "<Figure size 720x360 with 2 Axes>"
            ],
            "image/png": "[encoded data removed]"
          },
          "metadata": {
            "needs_background": "light"
          }
        }
      ]
    },
    {
      "cell_type": "code",
      "source": [
        "print(X_test)\n",
        "print(len(X_test))"
      ],
      "metadata": {
        "colab": {
          "base_uri": "https://localhost:8080/"
        },
        "id": "tZEUQG_6ml9b",
        "outputId": "b7bbcffc-8f14-4cbd-a40a-c7654a3b3e2e"
      },
      "execution_count": 15,
      "outputs": [
        {
          "output_type": "stream",
          "name": "stdout",
          "text": [
            "[[   0    0    0 ...   14    6  717]\n",
            " [   0    0    0 ...  125    4 3077]\n",
            " [  33    6   58 ...    9   57  975]\n",
            " ...\n",
            " [   0    0    0 ...   21  846    2]\n",
            " [   0    0    0 ... 2302    7  470]\n",
            " [   0    0    0 ...   34 2005 2643]]\n",
            "25000\n"
          ]
        }
      ]
    },
    {
      "cell_type": "code",
      "source": [
        "#predict value\n",
        "final_result = model.predict(X_test)"
      ],
      "metadata": {
        "id": "s4KOVgDalkwQ"
      },
      "execution_count": 16,
      "outputs": []
    },
    {
      "cell_type": "code",
      "source": [
        "#set a sentimental function POS <0.5 NEG >0.5\n",
        "positive = 0 \n",
        "negative = 0 \n",
        "neutral  = 0\n",
        "for i in range(len(final_result)):\n",
        "  if final_result[i] > 0.555555: \n",
        "    positive = positive + 1\n",
        "  elif final_result[i] < 0.555555:\n",
        "    negative = negative + 1\n",
        "  else :\n",
        "    neutral = neutral + 1\n",
        "print('positive comment:',positive)\n",
        "print()\n",
        "print('negative comment:',negative)\n",
        "print()\n",
        "print('neutral comment:',neutral)"
      ],
      "metadata": {
        "colab": {
          "base_uri": "https://localhost:8080/"
        },
        "id": "HnjZKvtTmDJN",
        "outputId": "490770a9-b8dc-418e-8dbd-589d09cb9e3b"
      },
      "execution_count": 19,
      "outputs": [
        {
          "output_type": "stream",
          "name": "stdout",
          "text": [
            "positive comment: 12447\n",
            "\n",
            "negative comment: 12553\n",
            "\n",
            "neutral comment: 0\n"
          ]
        }
      ]
    },
    {
      "cell_type": "code",
      "source": [
        "#show the result as graph\n",
        "from matplotlib import pyplot as plt\n",
        "import numpy as np\n",
        "sentiment = ['positive','NEGATIVE','neutral']\n",
        "data=[positive, negative, neutral]\n",
        "\n",
        "def func(pct, allvalues):\n",
        "    absolute = int(pct / 100.*np.sum(allvalues))\n",
        "    return \"{:.1f}%\\n{:d}\".format(pct, absolute)\n",
        "\n",
        "fig = plt.figure(figsize=(6,6), dpi=100)\n",
        "plt.pie(data, labels= sentiment, autopct = lambda pct: func(pct, data) )\n",
        "plt.title(\"Sentiment analysis study conserning Movies Review\")\n",
        "plt.show()"
      ],
      "metadata": {
        "colab": {
          "base_uri": "https://localhost:8080/",
          "height": 512
        },
        "id": "L6ZRUrmfmjY4",
        "outputId": "856f413c-56e9-4699-c8fd-a6855133b3b0"
      },
      "execution_count": 20,
      "outputs": [
        {
          "output_type": "display_data",
          "data": {
            "text/plain": [
              "<Figure size 600x600 with 1 Axes>"
            ],
            "image/png": "[encoded data removed]"
          },
          "metadata": {}
        }
      ]
    },
    {
      "cell_type": "markdown",
      "source": [
        "# Tweeter sentiment analysis study"
      ],
      "metadata": {
        "id": "NJyEOuLElsek"
      }
    },
    {
      "cell_type": "markdown",
      "source": [
        "1. install libraries and features"
      ],
      "metadata": {
        "id": "rTUBDnsv0Kpf"
      }
    },
    {
      "cell_type": "code",
      "execution_count": 275,
      "metadata": {
        "id": "eXCLZxFR1Wsp",
        "colab": {
          "base_uri": "https://localhost:8080/"
        },
        "outputId": "910dcccd-96c7-4e91-ad93-804d7745c420"
      },
      "outputs": [
        {
          "output_type": "stream",
          "name": "stdout",
          "text": [
            "Requirement already satisfied: transformers in /usr/local/lib/python3.7/dist-packages (4.18.0)\n",
            "Requirement already satisfied: filelock in /usr/local/lib/python3.7/dist-packages (from transformers) (3.6.0)\n",
            "Requirement already satisfied: packaging>=20.0 in /usr/local/lib/python3.7/dist-packages (from transformers) (21.3)\n",
            "Requirement already satisfied: sacremoses in /usr/local/lib/python3.7/dist-packages (from transformers) (0.0.53)\n",
            "Requirement already satisfied: tqdm>=4.27 in /usr/local/lib/python3.7/dist-packages (from transformers) (4.28.1)\n",
            "Requirement already satisfied: numpy>=1.17 in /usr/local/lib/python3.7/dist-packages (from transformers) (1.21.6)\n",
            "Requirement already satisfied: regex!=2019.12.17 in /usr/local/lib/python3.7/dist-packages (from transformers) (2019.12.20)\n",
            "Requirement already satisfied: tokenizers!=0.11.3,<0.13,>=0.11.1 in /usr/local/lib/python3.7/dist-packages (from transformers) (0.12.1)\n",
            "Requirement already satisfied: importlib-metadata in /usr/local/lib/python3.7/dist-packages (from transformers) (4.11.3)\n",
            "Requirement already satisfied: huggingface-hub<1.0,>=0.1.0 in /usr/local/lib/python3.7/dist-packages (from transformers) (0.5.1)\n",
            "Requirement already satisfied: pyyaml>=5.1 in /usr/local/lib/python3.7/dist-packages (from transformers) (6.0)\n",
            "Requirement already satisfied: requests in /usr/local/lib/python3.7/dist-packages (from transformers) (2.23.0)\n",
            "Requirement already satisfied: typing-extensions>=3.7.4.3 in /usr/local/lib/python3.7/dist-packages (from huggingface-hub<1.0,>=0.1.0->transformers) (4.2.0)\n",
            "Requirement already satisfied: pyparsing!=3.0.5,>=2.0.2 in /usr/local/lib/python3.7/dist-packages (from packaging>=20.0->transformers) (3.0.8)\n",
            "Requirement already satisfied: zipp>=0.5 in /usr/local/lib/python3.7/dist-packages (from importlib-metadata->transformers) (3.8.0)\n",
            "Requirement already satisfied: urllib3!=1.25.0,!=1.25.1,<1.26,>=1.21.1 in /usr/local/lib/python3.7/dist-packages (from requests->transformers) (1.24.3)\n",
            "Requirement already satisfied: chardet<4,>=3.0.2 in /usr/local/lib/python3.7/dist-packages (from requests->transformers) (3.0.4)\n",
            "Requirement already satisfied: certifi>=2017.4.17 in /usr/local/lib/python3.7/dist-packages (from requests->transformers) (2021.10.8)\n",
            "Requirement already satisfied: idna<3,>=2.5 in /usr/local/lib/python3.7/dist-packages (from requests->transformers) (2.10)\n",
            "Requirement already satisfied: joblib in /usr/local/lib/python3.7/dist-packages (from sacremoses->transformers) (1.1.0)\n",
            "Requirement already satisfied: six in /usr/local/lib/python3.7/dist-packages (from sacremoses->transformers) (1.15.0)\n",
            "Requirement already satisfied: click in /usr/local/lib/python3.7/dist-packages (from sacremoses->transformers) (7.1.2)\n"
          ]
        }
      ],
      "source": [
        "!pip install transformers"
      ]
    },
    {
      "cell_type": "markdown",
      "metadata": {
        "id": "2bOehKWVi9ry"
      },
      "source": [
        "2. Download data from Twitter"
      ]
    },
    {
      "cell_type": "code",
      "execution_count": 276,
      "metadata": {
        "colab": {
          "base_uri": "https://localhost:8080/"
        },
        "id": "hfVjl8oFirz9",
        "outputId": "9c5e609c-4863-402d-d968-4327c7d96b9c"
      },
      "outputs": [
        {
          "output_type": "stream",
          "name": "stdout",
          "text": [
            "Requirement already satisfied: snscrape in /usr/local/lib/python3.7/dist-packages (0.3.4)\n",
            "Requirement already satisfied: requests[socks] in /usr/local/lib/python3.7/dist-packages (from snscrape) (2.23.0)\n",
            "Requirement already satisfied: lxml in /usr/local/lib/python3.7/dist-packages (from snscrape) (4.2.6)\n",
            "Requirement already satisfied: beautifulsoup4 in /usr/local/lib/python3.7/dist-packages (from snscrape) (4.6.3)\n",
            "Requirement already satisfied: urllib3!=1.25.0,!=1.25.1,<1.26,>=1.21.1 in /usr/local/lib/python3.7/dist-packages (from requests[socks]->snscrape) (1.24.3)\n",
            "Requirement already satisfied: idna<3,>=2.5 in /usr/local/lib/python3.7/dist-packages (from requests[socks]->snscrape) (2.10)\n",
            "Requirement already satisfied: certifi>=2017.4.17 in /usr/local/lib/python3.7/dist-packages (from requests[socks]->snscrape) (2021.10.8)\n",
            "Requirement already satisfied: chardet<4,>=3.0.2 in /usr/local/lib/python3.7/dist-packages (from requests[socks]->snscrape) (3.0.4)\n",
            "Requirement already satisfied: PySocks!=1.5.7,>=1.5.6 in /usr/local/lib/python3.7/dist-packages (from requests[socks]->snscrape) (1.7.1)\n"
          ]
        }
      ],
      "source": [
        "!pip install snscrape"
      ]
    },
    {
      "cell_type": "code",
      "execution_count": 277,
      "metadata": {
        "id": "qkqoW1KCjRYr"
      },
      "outputs": [],
      "source": [
        "#important features\n",
        "import snscrape.modules.twitter as sntwitter\n",
        "import pandas as pd\n",
        "import progressbar\n",
        "from time import sleep\n",
        "from datetime import datetime\n",
        "import os\n",
        "#choose a keyword\n",
        "movie_dict = {'Emmanuel Macron': ['Emmanuel Macron since:2022-01-01 until:2022-04-23', 500]}"
      ]
    },
    {
      "cell_type": "code",
      "execution_count": 278,
      "metadata": {
        "colab": {
          "base_uri": "https://localhost:8080/"
        },
        "id": "A7j4GWLrjvIH",
        "outputId": "29f8c980-4084-4887-9743-a1915257ac7b"
      },
      "outputs": [
        {
          "output_type": "stream",
          "name": "stderr",
          "text": [
            "\r                                                                               \r\r[                                                                        ] N/A%"
          ]
        },
        {
          "output_type": "stream",
          "name": "stdout",
          "text": [
            "Emmanuel Macron %\n"
          ]
        },
        {
          "output_type": "stream",
          "name": "stderr",
          "text": [
            "[========================================================================] 100%\n"
          ]
        }
      ],
      "source": [
        "#build a filter\n",
        "today = datetime.today().strftime('%Y%m%d')[2:]+'_'\n",
        "for index, movie_name in enumerate(movie_dict):\n",
        "    print(movie_name, '%')\n",
        "    tweets_list1 = []\n",
        "    bar = progressbar.ProgressBar(maxval=movie_dict[movie_name][1]+2, widgets=[progressbar.Bar('=', '[', ']'), ' ', progressbar.Percentage()])\n",
        "    bar.start()\n",
        "    for i,tweet in enumerate(sntwitter.TwitterSearchScraper(f'{movie_dict[movie_name][0]}').get_items()): \n",
        "      #declare a username\n",
        "        bar.update(i+1)\n",
        "        if i>movie_dict[movie_name][1]: \n",
        "          #number of tweets you want to scrape\n",
        "            break\n",
        "        #print(movie_name, i, tweet)\n",
        "        tweets_list1.append([tweet.date, tweet.id, tweet.content, tweet.username]) \n",
        "        #declare the attributes to be returned\n",
        "    tweets_df1 = pd.DataFrame(tweets_list1, columns=['Datetime', 'Tweet Id', 'Text', 'Username'])\n",
        "\n",
        "    tweets_df1[['Datetime', 'Text']].to_csv(f'{index}.csv')\n",
        "    bar.finish()"
      ]
    },
    {
      "cell_type": "markdown",
      "metadata": {
        "id": "HZEU9qeNlIR2"
      },
      "source": [
        "3. Pre-process the data"
      ]
    },
    {
      "cell_type": "code",
      "execution_count": 279,
      "metadata": {
        "colab": {
          "base_uri": "https://localhost:8080/",
          "height": 423
        },
        "id": "LIIeNsDBlGCo",
        "outputId": "766548dc-3edd-42a7-d616-a15d575b5b86"
      },
      "outputs": [
        {
          "output_type": "execute_result",
          "data": {
            "text/plain": [
              "                                                  Text\n",
              "0            @franceinter @EmmanuelMacron Excellent !!\n",
              "1    @KarsentyHelene @DIVIZIO1 @ZemmourEric @leJDD ...\n",
              "2    @GDarmanin @EmmanuelMacron T’as de la chance t...\n",
              "3    Encore une fake news d'Emmanuel Macron. Dimanc...\n",
              "4    @EmmanuelMacron Monsieur Macron allez-vous fai...\n",
              "..                                                 ...\n",
              "496  @LulaOficial @ricardostuckert @EmmanuelMacron ...\n",
              "497  @EmmanuelMacron Le Pen .. mandou bem!!\\nhttps:...\n",
              "498  Às vésperas das eleições francesas, pesquisas ...\n",
              "499  @AntiSceptick @manuelvalls @EmmanuelMacron htt...\n",
              "500  @VoltaLuna @SamSaoul3 @DanielRiolo @EmmanuelMa...\n",
              "\n",
              "[501 rows x 1 columns]"
            ],
            "text/html": [
              "\n",
              "  <div id=\"df-fb8ee354-2010-45ac-8c79-e36e893e3e87\">\n",
              "    <div class=\"colab-df-container\">\n",
              "      <div>\n",
              "<style scoped>\n",
              "    .dataframe tbody tr th:only-of-type {\n",
              "        vertical-align: middle;\n",
              "    }\n",
              "\n",
              "    .dataframe tbody tr th {\n",
              "        vertical-align: top;\n",
              "    }\n",
              "\n",
              "    .dataframe thead th {\n",
              "        text-align: right;\n",
              "    }\n",
              "</style>\n",
              "<table border=\"1\" class=\"dataframe\">\n",
              "  <thead>\n",
              "    <tr style=\"text-align: right;\">\n",
              "      <th></th>\n",
              "      <th>Text</th>\n",
              "    </tr>\n",
              "  </thead>\n",
              "  <tbody>\n",
              "    <tr>\n",
              "      <th>0</th>\n",
              "      <td>@franceinter @EmmanuelMacron Excellent !!</td>\n",
              "    </tr>\n",
              "    <tr>\n",
              "      <th>1</th>\n",
              "      <td>@KarsentyHelene @DIVIZIO1 @ZemmourEric @leJDD ...</td>\n",
              "    </tr>\n",
              "    <tr>\n",
              "      <th>2</th>\n",
              "      <td>@GDarmanin @EmmanuelMacron T’as de la chance t...</td>\n",
              "    </tr>\n",
              "    <tr>\n",
              "      <th>3</th>\n",
              "      <td>Encore une fake news d'Emmanuel Macron. Dimanc...</td>\n",
              "    </tr>\n",
              "    <tr>\n",
              "      <th>4</th>\n",
              "      <td>@EmmanuelMacron Monsieur Macron allez-vous fai...</td>\n",
              "    </tr>\n",
              "    <tr>\n",
              "      <th>...</th>\n",
              "      <td>...</td>\n",
              "    </tr>\n",
              "    <tr>\n",
              "      <th>496</th>\n",
              "      <td>@LulaOficial @ricardostuckert @EmmanuelMacron ...</td>\n",
              "    </tr>\n",
              "    <tr>\n",
              "      <th>497</th>\n",
              "      <td>@EmmanuelMacron Le Pen .. mandou bem!!\\nhttps:...</td>\n",
              "    </tr>\n",
              "    <tr>\n",
              "      <th>498</th>\n",
              "      <td>Às vésperas das eleições francesas, pesquisas ...</td>\n",
              "    </tr>\n",
              "    <tr>\n",
              "      <th>499</th>\n",
              "      <td>@AntiSceptick @manuelvalls @EmmanuelMacron htt...</td>\n",
              "    </tr>\n",
              "    <tr>\n",
              "      <th>500</th>\n",
              "      <td>@VoltaLuna @SamSaoul3 @DanielRiolo @EmmanuelMa...</td>\n",
              "    </tr>\n",
              "  </tbody>\n",
              "</table>\n",
              "<p>501 rows × 1 columns</p>\n",
              "</div>\n",
              "      <button class=\"colab-df-convert\" onclick=\"convertToInteractive('df-fb8ee354-2010-45ac-8c79-e36e893e3e87')\"\n",
              "              title=\"Convert this dataframe to an interactive table.\"\n",
              "              style=\"display:none;\">\n",
              "        \n",
              "  <svg xmlns=\"http://www.w3.org/2000/svg\" height=\"24px\"viewBox=\"0 0 24 24\"\n",
              "       width=\"24px\">\n",
              "    <path d=\"M0 0h24v24H0V0z\" fill=\"none\"/>\n",
              "    <path d=\"M18.56 5.44l.94 2.06.94-2.06 2.06-.94-2.06-.94-.94-2.06-.94 2.06-2.06.94zm-11 1L8.5 8.5l.94-2.06 2.06-.94-2.06-.94L8.5 2.5l-.94 2.06-2.06.94zm10 10l.94 2.06.94-2.06 2.06-.94-2.06-.94-.94-2.06-.94 2.06-2.06.94z\"/><path d=\"M17.41 7.96l-1.37-1.37c-.4-.4-.92-.59-1.43-.59-.52 0-1.04.2-1.43.59L10.3 9.45l-7.72 7.72c-.78.78-.78 2.05 0 2.83L4 21.41c.39.39.9.59 1.41.59.51 0 1.02-.2 1.41-.59l7.78-7.78 2.81-2.81c.8-.78.8-2.07 0-2.86zM5.41 20L4 18.59l7.72-7.72 1.47 1.35L5.41 20z\"/>\n",
              "  </svg>\n",
              "      </button>\n",
              "      \n",
              "  <style>\n",
              "    .colab-df-container {\n",
              "      display:flex;\n",
              "      flex-wrap:wrap;\n",
              "      gap: 12px;\n",
              "    }\n",
              "\n",
              "    .colab-df-convert {\n",
              "      background-color: #E8F0FE;\n",
              "      border: none;\n",
              "      border-radius: 50%;\n",
              "      cursor: pointer;\n",
              "      display: none;\n",
              "      fill: #1967D2;\n",
              "      height: 32px;\n",
              "      padding: 0 0 0 0;\n",
              "      width: 32px;\n",
              "    }\n",
              "\n",
              "    .colab-df-convert:hover {\n",
              "      background-color: #E2EBFA;\n",
              "      box-shadow: 0px 1px 2px rgba(60, 64, 67, 0.3), 0px 1px 3px 1px rgba(60, 64, 67, 0.15);\n",
              "      fill: #174EA6;\n",
              "    }\n",
              "\n",
              "    [theme=dark] .colab-df-convert {\n",
              "      background-color: #3B4455;\n",
              "      fill: #D2E3FC;\n",
              "    }\n",
              "\n",
              "    [theme=dark] .colab-df-convert:hover {\n",
              "      background-color: #434B5C;\n",
              "      box-shadow: 0px 1px 3px 1px rgba(0, 0, 0, 0.15);\n",
              "      filter: drop-shadow(0px 1px 2px rgba(0, 0, 0, 0.3));\n",
              "      fill: #FFFFFF;\n",
              "    }\n",
              "  </style>\n",
              "\n",
              "      <script>\n",
              "        const buttonEl =\n",
              "          document.querySelector('#df-fb8ee354-2010-45ac-8c79-e36e893e3e87 button.colab-df-convert');\n",
              "        buttonEl.style.display =\n",
              "          google.colab.kernel.accessAllowed ? 'block' : 'none';\n",
              "\n",
              "        async function convertToInteractive(key) {\n",
              "          const element = document.querySelector('#df-fb8ee354-2010-45ac-8c79-e36e893e3e87');\n",
              "          const dataTable =\n",
              "            await google.colab.kernel.invokeFunction('convertToInteractive',\n",
              "                                                     [key], {});\n",
              "          if (!dataTable) return;\n",
              "\n",
              "          const docLinkHtml = 'Like what you see? Visit the ' +\n",
              "            '<a target=\"_blank\" href=https://colab.research.google.com/notebooks/data_table.ipynb>data table notebook</a>'\n",
              "            + ' to learn more about interactive tables.';\n",
              "          element.innerHTML = '';\n",
              "          dataTable['output_type'] = 'display_data';\n",
              "          await google.colab.output.renderOutput(dataTable, element);\n",
              "          const docLink = document.createElement('div');\n",
              "          docLink.innerHTML = docLinkHtml;\n",
              "          element.appendChild(docLink);\n",
              "        }\n",
              "      </script>\n",
              "    </div>\n",
              "  </div>\n",
              "  "
            ]
          },
          "metadata": {},
          "execution_count": 279
        }
      ],
      "source": [
        "#save the comments in csv files\n",
        "import pandas as pd\n",
        "\n",
        "#when importing empty rows, they are transformed to nan, so we need to drop them here\n",
        "df = pd.read_csv('/content/0.csv')[['Text']]\n",
        "df"
      ]
    },
    {
      "cell_type": "code",
      "execution_count": 280,
      "metadata": {
        "colab": {
          "base_uri": "https://localhost:8080/",
          "height": 423
        },
        "id": "nbHscfRTnRl8",
        "outputId": "858e4d74-a1d6-427b-b167-55f8397ed89b"
      },
      "outputs": [
        {
          "output_type": "execute_result",
          "data": {
            "text/plain": [
              "                                                  Text\n",
              "0                                           Excellent \n",
              "1    Et tes enfants mûrissent vers quelle philosophie \n",
              "2    T as de la chance tout seul Moussa Tu finiras ...\n",
              "3    Encore une fake news d Emmanuel Macron Dimanch...\n",
              "4    Monsieur Macron allez vous faire quelque chose...\n",
              "..                                                 ...\n",
              "496  Você sempre foi vagabundo você cortou o dedo p...\n",
              "497                                      Le Pen mandou\n",
              "498  Às vésperas das eleições francesas pesquisas m...\n",
              "499                                                   \n",
              "500  C est la version karaoke tu peux ainsi t entra...\n",
              "\n",
              "[501 rows x 1 columns]"
            ],
            "text/html": [
              "\n",
              "  <div id=\"df-60c36b3f-2b1e-4b3e-9aca-ad5f438fa89f\">\n",
              "    <div class=\"colab-df-container\">\n",
              "      <div>\n",
              "<style scoped>\n",
              "    .dataframe tbody tr th:only-of-type {\n",
              "        vertical-align: middle;\n",
              "    }\n",
              "\n",
              "    .dataframe tbody tr th {\n",
              "        vertical-align: top;\n",
              "    }\n",
              "\n",
              "    .dataframe thead th {\n",
              "        text-align: right;\n",
              "    }\n",
              "</style>\n",
              "<table border=\"1\" class=\"dataframe\">\n",
              "  <thead>\n",
              "    <tr style=\"text-align: right;\">\n",
              "      <th></th>\n",
              "      <th>Text</th>\n",
              "    </tr>\n",
              "  </thead>\n",
              "  <tbody>\n",
              "    <tr>\n",
              "      <th>0</th>\n",
              "      <td>Excellent</td>\n",
              "    </tr>\n",
              "    <tr>\n",
              "      <th>1</th>\n",
              "      <td>Et tes enfants mûrissent vers quelle philosophie</td>\n",
              "    </tr>\n",
              "    <tr>\n",
              "      <th>2</th>\n",
              "      <td>T as de la chance tout seul Moussa Tu finiras ...</td>\n",
              "    </tr>\n",
              "    <tr>\n",
              "      <th>3</th>\n",
              "      <td>Encore une fake news d Emmanuel Macron Dimanch...</td>\n",
              "    </tr>\n",
              "    <tr>\n",
              "      <th>4</th>\n",
              "      <td>Monsieur Macron allez vous faire quelque chose...</td>\n",
              "    </tr>\n",
              "    <tr>\n",
              "      <th>...</th>\n",
              "      <td>...</td>\n",
              "    </tr>\n",
              "    <tr>\n",
              "      <th>496</th>\n",
              "      <td>Você sempre foi vagabundo você cortou o dedo p...</td>\n",
              "    </tr>\n",
              "    <tr>\n",
              "      <th>497</th>\n",
              "      <td>Le Pen mandou</td>\n",
              "    </tr>\n",
              "    <tr>\n",
              "      <th>498</th>\n",
              "      <td>Às vésperas das eleições francesas pesquisas m...</td>\n",
              "    </tr>\n",
              "    <tr>\n",
              "      <th>499</th>\n",
              "      <td></td>\n",
              "    </tr>\n",
              "    <tr>\n",
              "      <th>500</th>\n",
              "      <td>C est la version karaoke tu peux ainsi t entra...</td>\n",
              "    </tr>\n",
              "  </tbody>\n",
              "</table>\n",
              "<p>501 rows × 1 columns</p>\n",
              "</div>\n",
              "      <button class=\"colab-df-convert\" onclick=\"convertToInteractive('df-60c36b3f-2b1e-4b3e-9aca-ad5f438fa89f')\"\n",
              "              title=\"Convert this dataframe to an interactive table.\"\n",
              "              style=\"display:none;\">\n",
              "        \n",
              "  <svg xmlns=\"http://www.w3.org/2000/svg\" height=\"24px\"viewBox=\"0 0 24 24\"\n",
              "       width=\"24px\">\n",
              "    <path d=\"M0 0h24v24H0V0z\" fill=\"none\"/>\n",
              "    <path d=\"M18.56 5.44l.94 2.06.94-2.06 2.06-.94-2.06-.94-.94-2.06-.94 2.06-2.06.94zm-11 1L8.5 8.5l.94-2.06 2.06-.94-2.06-.94L8.5 2.5l-.94 2.06-2.06.94zm10 10l.94 2.06.94-2.06 2.06-.94-2.06-.94-.94-2.06-.94 2.06-2.06.94z\"/><path d=\"M17.41 7.96l-1.37-1.37c-.4-.4-.92-.59-1.43-.59-.52 0-1.04.2-1.43.59L10.3 9.45l-7.72 7.72c-.78.78-.78 2.05 0 2.83L4 21.41c.39.39.9.59 1.41.59.51 0 1.02-.2 1.41-.59l7.78-7.78 2.81-2.81c.8-.78.8-2.07 0-2.86zM5.41 20L4 18.59l7.72-7.72 1.47 1.35L5.41 20z\"/>\n",
              "  </svg>\n",
              "      </button>\n",
              "      \n",
              "  <style>\n",
              "    .colab-df-container {\n",
              "      display:flex;\n",
              "      flex-wrap:wrap;\n",
              "      gap: 12px;\n",
              "    }\n",
              "\n",
              "    .colab-df-convert {\n",
              "      background-color: #E8F0FE;\n",
              "      border: none;\n",
              "      border-radius: 50%;\n",
              "      cursor: pointer;\n",
              "      display: none;\n",
              "      fill: #1967D2;\n",
              "      height: 32px;\n",
              "      padding: 0 0 0 0;\n",
              "      width: 32px;\n",
              "    }\n",
              "\n",
              "    .colab-df-convert:hover {\n",
              "      background-color: #E2EBFA;\n",
              "      box-shadow: 0px 1px 2px rgba(60, 64, 67, 0.3), 0px 1px 3px 1px rgba(60, 64, 67, 0.15);\n",
              "      fill: #174EA6;\n",
              "    }\n",
              "\n",
              "    [theme=dark] .colab-df-convert {\n",
              "      background-color: #3B4455;\n",
              "      fill: #D2E3FC;\n",
              "    }\n",
              "\n",
              "    [theme=dark] .colab-df-convert:hover {\n",
              "      background-color: #434B5C;\n",
              "      box-shadow: 0px 1px 3px 1px rgba(0, 0, 0, 0.15);\n",
              "      filter: drop-shadow(0px 1px 2px rgba(0, 0, 0, 0.3));\n",
              "      fill: #FFFFFF;\n",
              "    }\n",
              "  </style>\n",
              "\n",
              "      <script>\n",
              "        const buttonEl =\n",
              "          document.querySelector('#df-60c36b3f-2b1e-4b3e-9aca-ad5f438fa89f button.colab-df-convert');\n",
              "        buttonEl.style.display =\n",
              "          google.colab.kernel.accessAllowed ? 'block' : 'none';\n",
              "\n",
              "        async function convertToInteractive(key) {\n",
              "          const element = document.querySelector('#df-60c36b3f-2b1e-4b3e-9aca-ad5f438fa89f');\n",
              "          const dataTable =\n",
              "            await google.colab.kernel.invokeFunction('convertToInteractive',\n",
              "                                                     [key], {});\n",
              "          if (!dataTable) return;\n",
              "\n",
              "          const docLinkHtml = 'Like what you see? Visit the ' +\n",
              "            '<a target=\"_blank\" href=https://colab.research.google.com/notebooks/data_table.ipynb>data table notebook</a>'\n",
              "            + ' to learn more about interactive tables.';\n",
              "          element.innerHTML = '';\n",
              "          dataTable['output_type'] = 'display_data';\n",
              "          await google.colab.output.renderOutput(dataTable, element);\n",
              "          const docLink = document.createElement('div');\n",
              "          docLink.innerHTML = docLinkHtml;\n",
              "          element.appendChild(docLink);\n",
              "        }\n",
              "      </script>\n",
              "    </div>\n",
              "  </div>\n",
              "  "
            ]
          },
          "metadata": {},
          "execution_count": 280
        }
      ],
      "source": [
        "\n",
        "#get rid of links and hashtags\n",
        "df[\"Text\"] = df[\"Text\"].apply(lambda x : ' '.join([s for s in x.split(' ') if s.find('@') == -1 and s.find('www') == -1 and s.find('https') == -1]))\n",
        "#get rid of non-ascii characters\n",
        "df = df.replace(r'\\W+', ' ', regex=True)\n",
        "df"
      ]
    },
    {
      "cell_type": "code",
      "source": [
        "#convert the csv file on to a list[]\n",
        "example=df['Text'].values.tolist()\n",
        "for i in range( len(example)):\n",
        "  example[i-1]= example[i-1].lower()\n",
        "#print(example)"
      ],
      "metadata": {
        "id": "MYVlT0u44IPh"
      },
      "execution_count": 281,
      "outputs": []
    },
    {
      "cell_type": "code",
      "source": [
        "#build a word counter\n",
        "from collections import Counter\n",
        "\n",
        "all_text2 = ' '.join(example)\n",
        "# create a list of words\n",
        "words = all_text2.split()\n",
        "# Count all the words using Counter Method\n",
        "count_words = Counter(words)\n",
        "\n",
        "total_words = len(words)\n",
        "sorted_words = count_words.most_common(total_words)\n",
        "print(count_words)"
      ],
      "metadata": {
        "colab": {
          "base_uri": "https://localhost:8080/"
        },
        "id": "c6xW0FiLGZJV",
        "outputId": "47f23593-15a2-4b39-a3e6-79f5e0a3e5dc"
      },
      "execution_count": 282,
      "outputs": [
        {
          "output_type": "stream",
          "name": "stdout",
          "text": [
            "Counter({'de': 297, 'la': 212, 'macron': 188, 'a': 175, 'le': 155, 'est': 134, 'emmanuel': 131, 'et': 116, 'the': 108, 'à': 107, 'vous': 103, 'l': 100, 'of': 96, 'and': 94, 'un': 91, 'in': 91, 'are': 87, 'les': 86, 'ukraine': 86, 'pas': 85, 'en': 82, 'this': 82, 'que': 81, 'french': 80, 'about': 79, 'president': 79, 'social': 76, 'media': 76, 'week': 76, 'here': 76, 'users': 75, 'shared': 75, 'range': 75, 'false': 75, 'claims': 75, 'flooding': 75, 'australia': 75, 'facts': 75, 'pour': 74, 'c': 74, 'd': 73, 'on': 73, 'il': 72, 'des': 65, 'ne': 52, 'qui': 50, 'une': 45, 'france': 44, 'n': 42, 'du': 38, 'ça': 38, 'je': 38, 'au': 37, 'pen': 37, 'si': 36, 'ce': 34, 's': 32, 'plus': 32, 'qu': 31, 'se': 31, 'par': 30, 'is': 29, 'mais': 29, 'marine': 27, 'nous': 27, 'faire': 26, 'dans': 26, 'to': 26, 'avec': 25, 'tout': 23, 'sont': 23, 't': 21, 'fait': 20, 'non': 20, 'va': 20, 'sur': 19, 'comme': 19, 'quand': 19, 'bien': 19, 'notre': 18, 'y': 18, 'ils': 18, 'lui': 17, 'même': 17, 'encore': 16, 'aussi': 15, 'ou': 15, 'for': 15, 'contre': 15, 'tu': 14, 'être': 14, 'voter': 14, 'faut': 14, 'you': 14, 'donc': 14, 'elle': 14, 'sera': 13, 'dimanche': 12, 'j': 12, 'quoi': 12, 'pourquoi': 12, 'président': 12, 'aux': 12, 'français': 12, 'as': 11, 'êtes': 11, 'merci': 11, 'vote': 11, 'avez': 11, 'europe': 11, 'oui': 11, 'monde': 10, 'me': 10, 'sa': 10, 'rien': 10, 'guerre': 10, 'emmanuelmacron': 10, 'cette': 10, 'i': 10, 'pays': 10, 'e': 9, '24': 9, 'peut': 9, 'jamais': 9, 'toi': 9, 'ta': 9, 'tous': 9, 'russie': 9, 'veut': 9, 'it': 9, 'entre': 9, 'moi': 9, 'ans': 9, '2': 9, 'amp': 9, 'où': 8, 'allez': 8, 'da': 8, 'face': 8, 'temps': 8, 'personne': 8, 'votre': 8, 'not': 8, 'an': 8, 'quel': 8, 'car': 8, '5': 8, 'bon': 8, 'm': 8, 'will': 8, 'pauvre': 8, 'vos': 8, 'droite': 8, 'son': 7, 'election': 7, 'deux': 7, 'with': 7, 'tour': 7, 'ces': 7, 'politique': 7, 'voulez': 7, 'sans': 7, 'extrême': 7, 'dire': 7, 'toujours': 7, 'monsieur': 6, 'force': 6, 'ue': 6, 'république': 6, 'gueule': 6, 'choix': 6, 'voile': 6, 'honte': 6, 'prendre': 6, 'débat': 6, 'leur': 6, 'était': 6, 'avril': 6, 'pendant': 6, 'pr': 6, 'but': 6, 'do': 6, 'presidentielles2022': 6, 'peu': 6, 'après': 6, 'soit': 6, 'no': 6, 'poutine': 6, 'putin': 6, 'juste': 6, 'personnes': 6, 'be': 6, 'ai': 6, 'mr': 6, 'great': 6, 'el': 6, 'ah': 6, 'aura': 6, 'autre': 5, 'o': 5, 'avoir': 5, 'été': 5, 'serait': 5, 'déjà': 5, 'passe': 5, 'moins': 5, 'eu': 5, 'sunday': 5, 'marinelepen': 5, 'campagne': 5, 'état': 5, 'that': 5, 'many': 5, 'ton': 5, 'présidentielle': 5, '2022': 5, 'second': 5, 'peuple': 5, 'loi': 5, 'ailleurs': 5, 'via': 5, 'sorti': 5, 'manière': 5, 'bah': 5, 'você': 5, 'your': 5, 'vs': 5, 'grand': 5, 'raison': 5, 'ca': 5, 'noël': 5, 'vers': 4, 'seul': 4, 'news': 4, 'mort': 4, 'frança': 4, 'lrem': 4, 'dieu': 4, 'pouvoir': 4, 'ses': 4, 'concerne': 4, 'sondage': 4, 'faites': 4, 'if': 4, 'have': 4, 'beau': 4, 'mieux': 4, 'by': 4, 'alors': 4, 'quelques': 4, 'peine': 4, 'jours': 4, '1': 4, 'es': 4, 'public': 4, 'femme': 4, 'we': 4, 'porte': 4, 'cela': 4, 'otan': 4, 'aucun': 4, 'vrai': 4, 'partie': 4, 'violence': 4, 'question': 4, 'savez': 4, 'eux': 4, 'não': 4, 'é': 4, 'para': 4, 'dis': 4, 'bilan': 4, 'simple': 4, 'liberté': 4, 'veux': 4, 'zemmour': 4, 'what': 4, 'existe': 4, '10': 4, 'was': 4, 'soutien': 4, 'lt': 4, 'b': 4, 'gt': 4, 'françaises': 4, 'voir': 4, 'homme': 4, 'when': 4, 'while': 4, 'voilà': 4, 'nos': 4, 'peux': 4, 'quelle': 3, 'chose': 3, 'petit': 3, 'presidente': 3, 'campanha': 3, 'vraie': 3, 'fin': 3, 'niveau': 3, 'foutre': 3, 'demain': 3, 'candidat': 3, 'from': 3, 'nato': 3, 'sinon': 3, 'compte': 3, 'tel': 3, 'voix': 3, 'toutsaufmacron': 3, 'don': 3, 'bonne': 3, 'chaque': 3, 'mes': 3, 'hors': 3, 'macronlepen': 3, 'occasion': 3, 'bout': 3, 'pro': 3, 'riche': 3, 'right': 3, 'or': 3, 'mlp': 3, 'runoff': 3, 'between': 3, 'far': 3, '6': 3, 'situation': 3, '4': 3, 'gap': 3, 'these': 3, 'people': 3, 'mise': 3, 'trop': 3, 'confiance': 3, 'world': 3, 'courant': 3, 'victoire': 3, 'fout': 3, 'avis': 3, 'why': 3, 'does': 3, 'hands': 3, 'dernier': 3, 'avant': 3, 'figeac': 3, 'passera': 3, 'aime': 3, 'mal': 3, 'autres': 3, 'oh': 3, 'menace': 3, 'vieux': 3, 'vie': 3, 'respecter': 3, 'accord': 3, 'self': 3, 'sortir': 3, 'raisons': 3, 'porter': 3, 'blanc': 3, 'mettre': 3, 'moyen': 3, 'pense': 3, 'pensez': 3, 'paix': 3, 'mêmes': 3, 'telle': 3, 'depuis': 3, '2017': 3, 'na': 3, 'em': 3, 'selon': 3, 'sol': 3, 'sujet': 3, 'faudra': 3, 'type': 3, 'vivre': 3, 'tirer': 3, 'nimacronnilepen': 3, 'how': 3, 'paris': 3, 'merde': 3, 'jour': 3, 'caesar': 3, 'dit': 3, 'avenir': 3, 'chez': 3, 'te': 3, 'payer': 3, 'perdre': 3, 'con': 3, 'war': 3, 'he': 3, 'can': 3, 'so': 3, 'cas': 3, 'importe': 3, 'sortant': 3, 'vois': 3, 'at': 3, 'riches': 3, 'fois': 3, 'mensonges': 3, 'responsables': 3, 'ds': 3, 'etc': 3, 'pareil': 3, 'démocratie': 3, 'surtout': 3, 'passé': 3, 'sens': 3, 'peuvent': 3, 'très': 3, 'mali': 3, 'élections': 3, 'rapport': 3, 'droit': 3, 'vraiment': 3, 'joyeux': 3, 'um': 3, 'francesa': 3, 'los': 3, 'francia': 3, 'campaña': 3, 'convictions': 3, 'comment': 3, 'presidencial': 3, 'service': 3, 'autour': 3, 'scène': 3, 'leader': 3, 'onf': 3, 'vagabundo': 3, 'tes': 2, 'chance': 2, 'palestine': 2, 'dirai': 2, 'certain': 2, 'besoin': 2, 'cnews': 2, 'prochaine': 2, 'vite': 2, 'arrête': 2, 'mentir': 2, 'than': 2, 'never': 2, 'thank': 2, 'siège': 2, 'sécurité': 2, 'irréversible': 2, 'donne': 2, 'projet': 2, 'beaucoup': 2, 'sexta': 2, 'feira': 2, '22': 2, 'domingo': 2, 'sors': 2, 'seule': 2, 'russes': 2, 'européen': 2, 'reste': 2, 'abstenir': 2, 'eelv': 2, 'lfi': 2, 'place': 2, 'voté': 2, 'move': 2, 'emmener': 2, 'musulmane': 2, 'convaincre': 2, 'ont': 2, 'regarde': 2, 'regarder': 2, 'rigolo': 2, 'millions': 2, 'choisi': 2, 'ask': 2, 'ptdrr': 2, 'met': 2, 'plein': 2, 'revoir': 2, 'prix': 2, 'impossible': 2, 'chauffer': 2, 'banquier': 2, 'pfff': 2, 'gardez': 2, 'manifestaient': 2, 'rue': 2, 'mois': 2, 'enfin': 2, 'sert': 2, 'please': 2, 'our': 2, 'future': 2, 'taxer': 2, 'effort': 2, 'éviter': 2, 'message': 2, 'marche': 2, 'fiche': 2, 'votez': 2, 'défense': 2, 'soutenue': 2, 'hypocrite': 2, 'doivent': 2, 'ait': 2, 'pourtant': 2, 'pris': 2, 'leadership': 2, 'giuseppe': 2, 'conte': 2, 'moteur': 2, 'revivre': 2, 'grèce': 2, 'mars': 2, '2020': 2, 'forme': 2, 'too': 2, 'polls': 2, 'understand': 2, 'left': 2, 'jevote': 2, 'jevotemacron': 2, 'réalité': 2, 'sanctions': 2, 'destruction': 2, 'torture': 2, 'lula': 2, 'meeting': 2, 'voulu': 2, 'drapeau': 2, 'voiler': 2, 'dos': 2, 'últimos': 2, 'russia': 2, 'continue': 2, 'such': 2, 'chier': 2, 'vu': 2, 'aujourd': 2, 'hui': 2, 'démocratique': 2, 'esprit': 2, 'ceux': 2, 'gros': 2, 'bobos': 2, 'avais': 2, 'minsk': 2, 'crypto': 2, 'believe': 2, 'regulated': 2, 'financial': 2, 'moyens': 2, 'us': 2, 'ukrainiens': 2, 'aérien': 2, 'yeah': 2, 'uniquement': 2, 'celle': 2, 'veulent': 2, 'marinepoutine': 2, 'réélu': 2, 'interdit': 2, 'musulman': 2, 'soeur': 2, 'foi': 2, 'musulmans': 2, 'bouche': 2, 'population': 2, 'volonté': 2, 'mains': 2, 'possible': 2, 'entraîner': 2, 'afrique': 2, 'ok': 2, 'g': 2, 'run': 2, 'off': 2, 'vidéo': 2, 'lr': 2, 'gens': 2, 'less': 2, 'his': 2, 'parle': 2, 'créer': 2, 'covid': 2, 'constant': 2, 'times': 2, 'change': 2, 'profit': 2, 'único': 2, 'debate': 2, 'está': 2, 'rússia': 2, 'mas': 2, 'vax': 2, 'laisser': 2, 'puppet': 2, 'dites': 2, 'celui': 2, 'suppose': 2, 'doit': 2, 'envoyer': 2, 'bouclier': 2, 'dessus': 2, 'semaine': 2, 'aille': 2, 'arabie': 2, 'saoudite': 2, 'west': 2, '5ans': 2, 'ni': 2, 'enveloppe': 2, 'vide': 2, 'blood': 2, 'tell': 2, 'out': 2, 'intelligence': 2, 'chien': 2, 'parce': 2, 'enferme': 2, 'rhume': 2, 'oblige': 2, 'programme': 2, 'mépris': 2, '2nd': 2, 'phase': 2, 'кричіть': 2, 'це': 2, 'не': 2, 'any': 2, 'like': 2, 'layers': 2, 'âge': 2, 'bande': 2, 'rire': 2, 'just': 2, 'este': 2, 'dizaines': 2, 'tweets': 2, 'parti': 2, 'devient': 2, 'ministre': 2, 'barrage': 2, 'arrêtez': 2, 'forget': 2, 'air': 2, 'affirme': 2, 'canons': 2, 'missiles': 2, 'antichars': 2, 'milan': 2, 'livraisons': 2, 'source': 2, 'prépare': 2, 'stop': 2, 'legislatives': 2, 'cul': 2, 'tuer': 2, 'elles': 2, 'urnes': 2, '60': 2, 'savoir': 2, 'corruption': 2, 'autant': 2, 'retour': 2, 'parler': 2, 'femmes': 2, 'preuve': 2, 'dirait': 2, 'continuer': 2, 'lécher': 2, 'interview': 2, 'candidats': 2, 'journaliste': 2, 'mélenchon': 2, 'ennemi': 2, 'américains': 2, 'font': 2, 'oreille': 2, 'défaut': 2, 'entendre': 2, 'ex': 2, 'ns': 2, 'lepen': 2, 'fais': 2, 'blonde': 2, 'vas': 2, 'toute': 2, 'nationale': 2, 'sommes': 2, 'cœur': 2, 'côté': 2, 'abandon': 2, 'différence': 2, 'constitution': 2, 'culte': 2, 'disait': 2, 'francês': 2, 'policiers': 2, 'know': 2, 'touchant': 2, 'trahi': 2, 'vérités': 2, 'présidentielles': 2, 'abordé': 2, 'installée': 2, 'amis': 2, 'maliens': 2, 'combattre': 2, 'terrorisme': 2, 'trahison': 2, 'demr': 2, 'manqué': 2, 'engagement': 2, 'bois': 2, 'désolé': 2, 'weapons': 2, 'sérieux': 2, 'see': 2, 'fields': 2, 'énorme': 2, 'propos': 2, 'bête': 2, 'incroyable': 2, 'peuples': 2, 'système': 2, 'poudré': 2, 'mac': 2, 'klaus': 2, 'pervers': 2, 'narcissique': 2, 'jeunes': 2, 'instant': 2, 're': 2, 'among': 2, 'voters': 2, 'ahead': 2, 'père': 2, 'jésus': 2, 'servir': 2, 'vaccinés': 2, 'vont': 2, 'allons': 2, 'lapider': 2, 'électorale': 2, 'cours': 2, 'identität': 2, 'zu': 2, '1er': 2, 'presidential': 2, '14': 2, 'por': 2, 'allait': 2, 'visiblement': 2, 'make': 2, 'risque': 2, 'législatives': 2, 'économie': 2, 'gagner': 2, 'gentil': 2, 'mensonge': 2, 'forcées': 2, 'suis': 2, 'vuelta': 2, 'déteste': 2, 'industrie': 2, 'avecvous': 2, 'oublier': 2, 'reconnaître': 2, 'faudrait': 2, 'nécessaire': 2, 'part': 2, 'las': 2, 'reelección': 2, 'enfer': 2, 'viens': 2, 'présente': 2, 'réussir': 2, 'réchauffement': 2, 'climatique': 2, 'médiocrité': 2, 'couché': 2, 'lors': 2, 'mon': 2, 'citoyens': 2, 'genocide': 2, 'externe': 2, 'sncf': 2, 'produit': 2, '50': 2, 'ultraderechista': 2, 'caméra': 2, 'grue': 2, 'filmer': 2, 'rassemblement': 2, 'centaines': 2, 'nie': 2, 'forêt': 2, 'excellent': 1, 'enfants': 1, 'mûrissent': 1, 'philosophie': 1, 'moussa': 1, 'finiras': 1, 'mérites': 1, 'fake': 1, 'menteur': 1, 'sincérité': 1, 'quelque': 1, 'brilliant': 1, 'attendrai': 1, 'défenseur': 1, 'langue': 1, 'kevin': 1, 'boulot': 1, 'année': 1, 'ambigüe': 1, 'gnangnan': 1, 'taper': 1, 'doigts': 1, 'appelle': 1, 'salopard': 1, 'mec': 1, 'better': 1, 'late': 1, 'cède': 1, 'conseil': 1, 'allemagne': 1, 'autonomie': 1, 'indépendance': 1, 'certaines': 1, 'régions': 1, 'euroregions': 1, 'atual': 1, 'candidata': 1, 'extrema': 1, 'direita': 1, 'encerraram': 1, 'nesta': 1, 'seus': 1, 'eventos': 1, 'segundo': 1, 'turno': 1, 'votação': 1, 'acontecerá': 1, 'neste': 1, 'cnnbrasil': 1, 'ben': 1, 'voyons': 1, 'louis': 1, 'xiv': 1, 'corps': 1, 'bouffez': 1, 'cantine': 1, 'pression': 1, 'mesure': 1, 'achats': 1, 'hydrocarbures': 1, 'terme': 1, 'rupture': 1, 'liens': 1, 'diplomatiques': 1, 'régime': 1, 'assassins': 1, 'vent': 1, 'cinéma': 1, 'shopping': 1, 'vive': 1, 'attendrez': 1, 'manifestants': 1, 'balancerez': 1, 'parpaings': 1, 'traitant': 1, 'soldat': 1, 'aurez': 1, 'volontairement': 1, 'direz': 1, 'assumer': 1, 'guillaume': 1, 'départ': 1, 'away': 1, 'happy': 1, 'relations': 1, 'differentiating': 1, 'political': 1, 'factor': 1, 'hammam': 1, 'vapeur': 1, 'dedicace': 1, 'jeanmicheltrogneux': 1, 'famille': 1, 'terre': 1, 'rentre': 1, 'attention': 1, '80': 1, 'écraser': 1, 'cogne': 1, 'indécis': 1, 'réserve': 1, 'grande': 1, 'exagérons': 1, 'méprise': 1, 'choque': 1, 'vaxs': 1, 'gilets': 1, 'jaunes': 1, 'là': 1, 'entend': 1, 'raconter': 1, 'mierda': 1, 'care': 1, 'didn': 1, 'ouiiii': 1, 'croit': 1, 'tkt': 1, 'sondé': 1, 'nuit': 1, 'branle': 1, '75': 1, '40l': 1, 'autoroute': 1, 'coûte': 1, 'couille': 1, 'demi': 1, 'électricité': 1, 'corrompu': 1, 'zut': 1, 'plutôt': 1, 'poisson': 1, 'arrêter': 1, 'penser': 1, 'tête': 1, 'psser': 1, '5longues': 1, 'années': 1, 'moutons': 1, 'dear': 1, 'home': 1, 'essential': 1, 'germany': 1, 'vouloir': 1, 'outils': 1, 'faudrais': 1, 'soi': 1, 'montage': 1, 'fiscale': 1, 'impots': 1, 'complete': 1, 'prick': 1, 'who': 1, 'disgrace': 1, 'name': 1, 'liberalism': 1, 'voting': 1, 'him': 1, 'anyway': 1, 'thing': 1, 'unsurprisingly': 1, 'endorsed': 1, 'franchement': 1, 'présomption': 1, 'légitime': 1, 'violencespolicieres': 1, 'viol36': 1, 'balancetonporc': 1, 'viva': 1, 'protège': 1, 'syrie': 1, 'yémen': 1, 'irak': 1, 'afghanistan': 1, 'voulais': 1, 'demandée': 1, 'refermer': 1, 'frontières': 1, 'redevenait': 1, 'abc': 1, 'has': 1, 'depth': 1, 'report': 1, 'weekend': 1, 'challenger': 1, '8h': 1, 'achève': 1, 'imagine': 1, 'point': 1, 'clément': 1, 'beaune': 1, 'déçus': 1, 'poids': 1, 'donné': 1, 'réalisation': 1, 'historique': 1, 'marquera': 1, 'prochaines': 1, 'décennies': 1, 'contexte': 1, 'compliqué': 1, 'faiblesse': 1, 'discussions': 1, 'euro': 1, 'sceptiques': 1, 'italiens': 1, 'craignaient': 1, 'semaines': 1, 'coronavirus': 1, 'déferlé': 1, 'lombardie': 1, 'region': 1, 'madrid': 1, 'confinée': 1, 'idée': 1, 'coronabonds': 1, 'proposée': 1, 'prend': 1, 'announced': 1, 'big': 1, 'say': 1, 'themselves': 1, 'worth': 1, 'paradoxically': 1, 'am': 1, 'relatively': 1, 'worried': 1, 'latest': 1, 'important': 1, 'especially': 1, 'going': 1, 'block': 1, 'deeply': 1, 'dislike': 1, 'garde': 1, 'ferme': 1, 'électeurs': 1, 'tentés': 1, 'abstention': 1, 'démobilise': 1, 'abstention24avril': 1, 'mancano': 1, 'due': 1, 'giorni': 1, 'per': 1, 'essere': 1, 'rieletto': 1, 'alla': 1, 'presidenza': 1, 'francese': 1, 'concludere': 1, 'esecuzione': 1, 'del': 1, 'piano': 1, 'new': 1, 'order': 1, '666': 1, 'triste': 1, 'sûrement': 1, 'qualifier': 1, 'schéma': 1, 'raciste': 1, 'invité': 1, 'champ': 1, 'fêter': 1, 'retourne': 1, 'espagne': 1, 'sang': 1, 'permit': 1, 'tech': 1, 'export': 1, 'violation': 1, 'isn': 1, 'tantamount': 1, 'widespread': 1, 'looting': 1, 'murder': 1, 'committed': 1, 'benefactor': 1, 'complicity': 1, 'apply': 1, 'exclusively': 1, 'victims': 1, 'bound': 1, 'surprise': 1, 'corrompus': 1, 'main': 1, 'lot': 1, 'apôtre': 1, 'unie': 1, 'scrutin': 1, 'vendredi': 1, 'modèle': 1, 'jolie': 1, 'confession': 1, 'candidatos': 1, 'presidência': 1, 'participam': 1, 'compromissos': 1, 'veja': 1, 'os': 1, 'principais': 1, 'destaques': 1, 'desta': 1, 'jornaldarecord': 1, 'jr24h': 1, 'élue': 1, 'kaddish': 1, 'declaring': 1, 'wishes': 1, 'capture': 1, 'entire': 1, 'south': 1, 'leaving': 1, 'country': 1, 'landlocked': 1, 'choice': 1, 'arm': 1, 'aggressiveexpansion': 1, 'croix': 1, 'stérile': 1, 'parlez': 1, 'fond': 1, 'abaissez': 1, 'votons': 1, 'voulait': 1, 'disparaitre': 1, 'date': 1, 'menaces': 1, 'algérois': 1, 'kabyle': 1, 'chypre': 1, 'représailles': 1, 'turquie': 1, 'pleine': 1, 'bouffée': 1, 'délirante': 1, 'garçon': 1, 'totale': 1, 'impro': 1, 'salamé': 1, 'pamoison': 1, 'devant': 1, 'performance': 1, 'pet': 1, 'casque': 1, 'familles': 1, 'surveiller': 1, 'parjure': 1, '300': 1, '000': 1, 'morts': 1, 'analyse': 1, 'vision': 1, 'tant': 1, 'compose': 1, 'continuation': 1, 'regroupement': 1, 'inactifs': 1, 'échappe': 1, 'quitter': 1, 'marionette': 1, 'tirée': 1, 'enfaite': 1, 'trouver': 1, 'solution': 1, 'diplomatique': 1, 'aurai': 1, 'militaires': 1, 'confronter': 1, 'quant': 1, 'interviendront': 1, 'directement': 1, 'pleins': 1, 'devra': 1, 'secours': 1, 'appui': 1, 'laisse': 1, 'aiment': 1, 'semblant': 1, 'comprendre': 1, 'trou': 1, 'duc': 1, 'entendu': 1, 'connu': 1, 'sauf': 1, 'pitié': 1, 'départage': 1, 'peste': 1, 'choléra': 1, 'deuxiemetour': 1, 'presidentielle2022': 1, 'tete': 1, 'petites': 1, 'maghrebine': 1, 'mettent': 1, 'toutes': 1, 'leggings': 1, 'shein': 1, 'assoit': 1, 'aur': 1, 'genous': 1, 'mecs': 1, 'decident': 1, 'crois': 1, 'qunelles': 1, 'accuses': 1, 'dependence': 1, 'vladimir': 1, 'embargo': 1, 'gaz': 1, 'russe': 1, 'discussion': 1, 'verra': 1, 'corriere': 1, 'della': 1, 'critique': 1, 'actualiser': 1, 'tripes': 1, 'expatrier': 1, 'purge': 1, 'balkans': 1, 'massacre': 1, 'mora': 1, 'désolée': 1, 'apprendre': 1, 'étaient': 1, 'actes': 1, 'commis': 1, 'chrétiens': 1, 'zelenskiy': 1, 'proposé': 1, 'former': 1, 'filiky': 1, 'eterya': 1, 'asala': 1, 'aller': 1, 'marinepresidente': 1, 'trompez': 1, 'apporter': 1, 'déclencher': 1, 'civile': 1, 'rares': 1, 'trucs': 1, 'véridique': 1, 'pourrait': 1, 'enfermer': 1, 'donner': 1, 'droits': 1, 'soumettrais': 1, 'réprimer': 1, 'manifestations': 1, 'concentrer': 1, 'wait': 1, 'ptdr': 1, 'détruit': 1, 'chaos': 1, 'famines': 1, 'notamment': 1, 'serons': 1, 'immanquablement': 1, 'impactés': 1, 'arrive': 1, 'ligne': 1, 'maginot': 1, 'ukrainienne': 1, 'tiendra': 1, 'éternellement': 1, 'tw': 1, 'écho': 1, 'ultramarin': 1, 'tours': 1, 'outre': 1, 'mer': 1, '1ère': 1, 'fustigé': 1, 'stigmatisation': 1, 'envers': 1, 'impliquerait': 1, 'choqué': 1, 'fermée': 1, 'mignonne': 1, 'beat': 1, 'exceptionnelle': 1, 'personnage': 1, 'invite': 1, 'touquet': 1, 'maire': 1, 'répondre': 1, 'champion': 1, 'key': 1, 'global': 1, 'event': 1, 'give': 1, '55': 1, 'support': 1, 'enough': 1, 'retain': 1, 'power': 1, '66': 1, 'victory': 1, 'positive': 1, 'european': 1, 'markets': 1, 'fils': 1, 'pute': 1, 'attaqué': 1, 'lots': 1, 'things': 1, 'stay': 1, 'live': 1, 'house': 1, 'built': 1, 'cromwell': 1, 'same': 1, 'field': 1, 'plans': 1, 'since': 1, '1600s': 1, 'doesn': 1, 'steam': 1, 'roller': 1, 'towards': 1, 'over': 1, 'all': 1, 'else': 1, 'público': 1, 'tv': 1, 'acusou': 1, 'estar': 1, 'bolso': 1, 'moscou': 1, 'falando': 1, 'apenas': 1, 'seu': 1, 'banqueiro': 1, 'surpreender': 1, 'tenha': 1, 'participado': 1, 'desestabilizar': 1, 'afirmou': 1, 'tri': 1, 'justifié': 1, 'crever': 1, 'statut': 1, 'vaccinal': 1, 'degueulasse': 1, 'couleur': 1, 'peau': 1, 'gradation': 1, 'discriminations': 1, 'acusa': 1, 'ser': 1, 'marionete': 1, 'russa': 1, 'american': 1, 'voyage': 1, 'aimez': 1, 'votant': 1, 'prostitue': 1, 'racaille': 1, 'policière': 1, 'vêtement': 1, 'décapiter': 1, 'prof': 1, 'égorger': 1, 'prêtre': 1, 'faits': 1, 'divers': 1, 'drôle': 1, 'profs': 1, 'demandent': 1, 'entendus': 1, 'inflation': 1, 'explose': 1, 'temoignage': 1, 'malheureusement': 1, 'titre': 1, 'détailler': 1, 'troupes': 1, 'maîtrisent': 1, 'préalable': 1, 'dernière': 1, 'couleurs': 1, 'police': 1, 'écriture': 1, 'jlm': 1, 'achetez': 1, 'originalité': 1, 'bolloré': 1, 'chèque': 1, 'assimilation': 1, 'inversée': 1, 'frangine': 1, 'basta': 1, 'bâchée': 1, 'champolion': 1, 'enfant': 1, 'déchiffre': 1, 'rosette': 1, 'knows': 1, 'reliant': 1, 'ukrainians': 1, 'only': 1, 'one': 1, 'scoring': 1, 'points': 1, 'tried': 1, 'could': 1, 'learn': 1, 'erdogan': 1, 'trudeau': 1, 'useless': 1, 'sahel': 1, 'étrangère': 1, 'menée': 1, 'cest': 1, 'conneries': 1, 'intermittents': 1, 'spectacle': 1, 'indignes': 1, 'inadmissibles': 1, 'voteblanc': 1, 'tweet': 1, 'auriez': 1, 'fasse': 1, 'connaît': 1, 'institut': 1, 'csa': 1, 'repris': 1, 'rare': 1, 'escroc': 1, 'bc': 1, 'filled': 1, 'create': 1, 'forward': 1, 'them': 1, 'they': 1, 'biden': 1, 'jinping': 1, 'johnson': 1, '8': 1, 'billion': 1, 'beyond': 1, 'democracy': 1, 'oligarchy': 1, 'essayez': 1, 'verrez': 1, 'travaillé': 1, 'accessibilité': 1, 'bâtiments': 1, 'erp': 1, 'architectes': 1, 'savent': 1, 'intégrer': 1, 'handicap': 1, 'visible': 1, 'handicaps': 1, 'connerie': 1, 'croire': 1, 'décolleté': 1, 'synonyme': 1, 'jvote': 1, 'marre': 1, 'pousser': 1, 'sale': 1, 'planquer': 1, 'peter': 1, '1ere': 1, 'étape': 1, 'nesrine': 1, 'slaouli': 1, 'yann': 1, 'barthes': 1, 'reportedly': 1, 'sending': 1, 'unspecified': 1, 'number': 1, 'highly': 1, 'capable': 1, 'propelled': 1, 'howitzers': 1, 'actual': 1, 'fuck': 1, 'gardait': 1, 'accusé': 1, 'viol': 1, 'déconner': 1, 'route': 1, 'forte': 1, 'zeribi': 1, 'rejoint': 1, 'profondément': 1, 'reclassement': 1, 'criminels': 1, 'vider': 1, 'prisons': 1, 'technique': 1, 'manipulation': 1, 'mentale': 1, 'résumée': 1, 'minutes': 1, 'bel': 1, 'peur': 1, 'vacciner': 1, 'papi': 1, 'complotistes': 1, 'dois': 1, 'taffer': 1, 'jusqu': 1, '65': 1, 'retraite': 1, 'anagramme': 1, 'mammon': 1, 'enculera': 1, 'souhaite': 1, 'emanuel': 1, 'xth': 1, 'phases': 1, 'someone': 1, 'plz': 1, 'v': 1, 'finish': 1, 'quick': 1, 'про': 1, 'я': 1, 'зі': 1, 'свого': 1, 'українського': 1, 'досвіду': 1, 'знаю': 1, 'що': 1, 'важко': 1, 'отримати': 1, 'допомогу': 1, 'світу': 1, 'але': 1, 'можливо': 1, 'планета': 1, 'одна': 1, 'за': 1, 'вас': 1, 'ніхто': 1, 'буде': 1, 'кричати': 1, 'світ': 1, 'несправедливий': 1, 'нагадуйте': 1, 'залишайте': 1, 'в': 1, 'тиші': 1, 'savemariupol': 1, 'ukrainerussiawar': 1, 'putinhitler': 1, 'thales': 1, 'comments': 1, 'video': 1, 'meet': 1, 'onion': 1, 'there': 1, 'science': 1, 'prouve': 1, 'sortez': 1, 'nique': 1, 'ra': 1, 'mère': 1, 'serez': 1, 'premiers': 1, 'pipi': 1, 'ânes': 1, 'att': 1, 'lance': 1, 'bombe': 1, 'h': 1, 'invités': 1, 'brigitte': 1, 'kody': 1, 'bénédicte': 1, 'philippon': 1, 'entrons': 1, 'pauvres': 1, 'tarés': 1, 'relieur': 1, 'sentences': 1, 'turkey': 1, 'committing': 1, 'crime': 1, 'ally': 1, 'keeping': 1, 'quiet': 1, 'oops': 1, 'wrong': 1, 'gonzalo': 1, 'lira': 1, 'arrested': 1, 'sbu': 1, 'interrogated': 1, 'then': 1, 'released': 1, 'pending': 1, 'further': 1, 'investigation': 1, 'back': 1, 'youtube': 1, 'calling': 1, 'zelensky': 1, 'cokehead': 1, 'regime': 1, 'bunk': 1, 'thugs': 1, 'sbus': 1, 'permission': 1, 'comique': 1, 'porque': 1, 'votas': 1, 'cabrón': 1, 'yo': 1, 'voy': 1, 'votar': 1, 'hijo': 1, 'chingada': 1, 'haine': 1, 'pathetiques': 1, 'moving': 1, 'target': 1, 'nothing': 1, 'stays': 1, 'except': 1, 'pinçon': 1, 'charlot': 1, 'analysent': 1, 'gratuit': 1, 'tarifaire': 1, 'paiera': 1, 'sous': 1, 'impôt': 1, 'oublié': 1, 'oubliera': 1, 'responsabilité': 1, 'renouvellement': 1, 'centrales': 1, 'nucléaires': 1, 'mis': 1, 'dépendance': 1, 'élu': 1, 'misère': 1, 'soyez': 1, 'prêts': 1, 'profitez': 1, 'bisous': 1, 'abstentionle24': 1, 'lepengate': 1, 'mackinseygate': 1, 'reproduit': 1, 'mitose': 1, 'propre': 1, 'premier': 1, 'ira': 1, 'libérale': 1, 'mondialiste': 1, 'éco': 1, 'compatible': 1, 'futura': 1, 'sciences': 1, 'coût': 1, 'carbone': 1, 'proposition': 1, 'figurant': 1, 'candidate': 1, 'nbsp': 1, 'azov': 1, 'maintiennent': 1, 'civils': 1, 'clair': 1, 'dc': 1, 'myto': 1, 'waving': 1, 'reelection': 1, 'full': 1, 'my': 1, 'brothers': 1, 'sister': 1, 'forgive': 1, 'effectivement': 1, 'faisaient': 1, 'isf': 1, 'vachement': 1, 'impartial': 1, 'plaît': 1, 'implore': 1, 'faite': 1, 'maladie': 1, 'lyme': 1, 'recherche': 1, 'souffrons': 1, 'livre': 1, 'kiev': 1, 'première': 1, 'armes': 1, 'présentées': 1, 'détaillée': 1, 'défait': 1, 'lendemain': 1, 'défaite': 1, '3etour': 1, 'lepennedoitpaspasser': 1, 'lepenment': 1, 'unionpopulaire': 1, 'legislatives2022': 1, 'melenchon1erministre': 1, 'ptdrrr': 1, 'ouaaais': 1, '600': 1, 'milliard': 1, 'dettes': 1, 'dus': 1, 'menti': 1, 'ras': 1, 'bol': 1, 'lire': 1, 'tiens': 1, 'savais': 1, 'trous': 1, 'parlaient': 1, 'positif': 1, 'jeunesse': 1, 'electionspresidentielles2022': 1, 'larrivé': 1, 'clown': 1, 'malhonnête': 1, 'assiossé': 1, 'mafieux': 1, 'emmène': 1, 'désastre': 1, 'ruine': 1, 'engraissez': 1, 'valeurs': 1, 'républicaines': 1, 'existent': 1, 'devenues': 1, 'idées': 1, 'sociales': 1, 'démocrates': 1, 'mondialistes': 1, 'shame': 1, 'acabit': 1, 'connait': 1, 'mobilisation': 1, 'malgré': 1, 'propagande': 1, 'médiatique': 1, 'ressenti': 1, 'détestation': 1, 'seront': 1, 'truquées': 1, 'soient': 1, 'quitterez': 1, 'elysée': 1, 'instruction': 1, 'veule': 1, '106': 1, 'otages': 1, 'impunité': 1, 'inaction': 1, 'petits': 1, 'tombent': 1, 'oubli': 1, 'contradictoire': 1, 'feras': 1, 'vacances': 1, 'assumez': 1, 'passer': 1, 'graves': 1, 'inventer': 1, 'bandes': 1, 'mythomane': 1, 'ho': 1, 'pardon': 1, 'violent': 1, 'agressif': 1, 'poutinette': 1, 'conasse': 1, 'zimmour': 1, 'hidalgo': 1, '12candidats': 1, 'objectivité': 1, 'step': 1, 'responsable': 1, 'desastreux': 1, 'battrait': 1, 'tymczasem': 1, 'dostarczający': 1, 'ciężką': 1, 'broń': 1, 'anti': 1, 'votent': 1, 'attardés': 1, 'mentaux': 1, 'suivent': 1, 'considère': 1, 'états': 1, 'unis': 1, 'séparer': 1, 'still': 1, 'sounds': 1, 'awful': 1, 'might': 1, 'horses': 1, 'were': 1, 'coal': 1, 'oil': 1, 'magnificent': 1, 'think': 1, 'through': 1, 'supprimer': 1, 'redevance': 1, 'audiovisuel': 1, 'travaillent': 1, 'subventionnera': 1, 'généreusement': 1, 'employeur': 1, 'gauchistes': 1, 'resteront': 1, 'ordres': 1, 'intérêt': 1, 'rappelez': 1, 'ami': 1, 'cultes': 1, 'avancer': 1, 'enquête': 1, 'rabâche': 1, 'longueur': 1, 'journée': 1, 'vivons': 1, 'laïc': 1, 'décryptage': 1, 'gestuelle': 1, 'verbal': 1, 'gars': 1, 'commence': 1, 'unique': 1, 'arrogance': 1, 'naturelle': 1, 'cheveux': 1, 'irréversibles': 1, 'probablement': 1, 'bcp': 1, 'futures': 1, 'mesures': 1, 'pourra': 1, 'reconstruire': 1, 'émancipe': 1, 'gouvernance': 1, 'supra': 1, 'ajouterais': 1, 'tiennent': 1, 'mandat': 1, 'samedi': 1, 'oubliez': 1, 'montrer': 1, 'cet': 1, 'majorité': 1, 'décider': 1, 'espace': 1, 'islame': 1, 'ouvre': 1, 'bras': 1, 'pma': 1, 'gpa': 1, 'eugénisme': 1, 'dehors': 1, 'immigration': 1, 'incontrôlée': 1, 'éducation': 1, 'rabais': 1, 'ruralité': 1, 'nation': 1, 'vente': 1, 'perte': 1, 'culture': 1, 'parlons': 1, 'vrais': 1, 'sujets': 1, 'acces': 1, '49': 1, '3': 1, 'pm': 1, 'invoquer': 1, 'cohabitation': 1, 'gouvernement': 1, 'dette': 1, 'blablabla': 1, 'sensé': 1, 'complètement': 1, 'plaque': 1, 'putain': 1, 'pouvais': 1, 'débiles': 1, 'vertical': 1, 'farmng': 1, 'done': 1, 'indoors': 1, 'using': 1, 'plants': 1, 'land': 1, 'used': 1, 'production': 1, 'compartmentalised': 1, 'reduce': 1, 'pests': 1, 'respecté': 1, 'protéges': 1, 'conscience': 1, 'allant': 1, 'serai': 1, 'inconstitutionnelle': 1, 'proscrite': 1, 'reconnaissance': 1, 'lieu': 1, 'tenir': 1, 'informée': 1, 'redonner': 1, 'sarkozy': 1, 'karcher': 1, 'devenus': 1, 'islamistes': 1, 'prenne': 1, 'magasins': 1, 'mosquées': 1, 'inconvénient': 1, 'fachisme': 1, 'attends': 1, 'tente': 1, 'draguer': 1, 'lgbt': 1, 'envia': 1, 'mensagem': 1, 'apoio': 1, 'bomba': 1, 'nas': 1, 'redes': 1, 'sociais': 1, 'opposants': 1, 'mutilés': 1, 'réalisons': 1, 'michalak': 1, 'fermer': 1, 'partant': 1, 'sais': 1, 'parlent': 1, 'bavures': 1, 'dont': 1, 'certains': 1, 'honorable': 1, 'profession': 1, 'communautariste': 1, 'discrétion': 1, 'etendart': 1, 'islamiste': 1, 'q': 1, 'well': 1, 'ww2': 1, 'history': 1, 'philosophy': 1, 'guy': 1, 'looks': 1, 'bother': 1, 'soutiens': 1, 'racistes': 1, 'relechis': 1, 'tenais': 1, 'remercier': 1, 'chaleureux': 1, 'voeux': 1, 'partage': 1, 'belle': 1, 'tradition': 1, 'lundi': 1, 'glad': 1, 'hear': 1, 'finally': 1, 'arriving': 1, 'hoping': 1, 'help': 1, 'free': 1, 'civilians': 1, 'mariupol': 1, 'jeu': 1, 'rôles': 1, 'foutent': 1, 'gueuse': 1, 'capital': 1, 'confirme': 1, 'élargir': 1, 'vals': 1, 'raffarin': 1, 'justement': 1, 'tape': 1, 'génie': 1, 'sure': 1, 'want': 1, 'led': 1, 'lit': 1, 'factories': 1, 'insect': 1, 'prot8em': 1, 'instead': 1, 'sheep': 1, 'cows': 1, '8d': 1, 'rather': 1, 'forests': 1, 'pheasants': 1, 'pigs': 1, 'though': 1, 'update': 1, 'banger': 1, 'délicatesse': 1, 'discernement': 1, 'envoyeur': 1, 'constat': 1, 'conclusion': 1, 'rigoler': 1, 'détruire': 1, 'sociaux': 1, 'facisme': 1, 'emmenez': 1, 'chinois': 1, 'esclaves': 1, 'aucune': 1, 'oublie': 1, 'condamne': 1, 'churchill': 1, 'bouter': 1, 'thèses': 1, 'pestilentielles': 1, 'paisible': 1, 'prison': 1, 'milice': 1, 'privée': 1, 'époque': 1, 'forcés': 1, 'enlever': 1, 'banderole': 1, 'passage': 1, 'tabac': 1, 'gratos': 1, 'bonus': 1, 'sector': 1, 'plaisir': 1, 'feint': 1, 'souhaitons': 1, 'fréquentent': 1, 'nase': 1, 'ignorant': 1, 'rêver': 1, 'plage': 1, 'débile': 1, 'naïf': 1, 'peloter': 1, 'blacks': 1, 'sait': 1, 'rassuré': 1, 'entichée': 1, 'craindre': 1, 'pire': 1, 'disgusting': 1, 'polling': 1, 'tracker': 1, 'euractiv': 1, 'shows': 1, 'expected': 1, 'lead': 1, 'jadot': 1, 'efa': 1, 'pécresse': 1, 'epp': 1, 'rn': 1, 'id': 1, 'informer': 1, 'plan': 1, 'christ': 1, 'déroule': 1, 'merveille': 1, 'satan': 1, 'vaincu': 1, 'golgotha': 1, 'arrivée': 1, 'adores': 1, 'condamnée': 1, 'repens': 1, 'auprès': 1, 'pior': 1, 'pressidente': 1, 'senhor': 1, 'mentiroso': 1, 'criminoso': 1, 'cidadão': 1, 'mácron': 1, 'cuida': 1, 'povo': 1, 'nem': 1, 'soberania': 1, 'capacho': 1, 'usa': 1, 'emmenés': 1, 'pénurie': 1, 'alimentaire': 1, 'interdiction': 1, 'soignés': 1, 'hiver': 1, 'tickets': 1, 'rationnement': 1, 'vit': 1, 'vivra': 1, 'espagnol': 1, 'socialiste': 1, 'affaire': 1, 'envisager': 1, 'travailler': 1, 'futur': 1, 'proche': 1, 'décidément': 1, 'comprends': 1, 'prie': 1, 'moment': 1, 'falloir': 1, 'chasser': 1, 'partir': 1, 'lantend': 1, 'slvp': 1, 'agise': 1, 'libre': 1, 'engage': 1, 'avocat': 1, 'fonction': 1, 'pensée': 1, 'fille': 1, 'di': 1, 'vizio': 1, 'problem': 1, 'antisémite': 1, 'manifester': 1, 'oppression': 1, 'religion': 1, 'oppresseur': 1, 'prêt': 1, 'victimiser': 1, 'alalaa': 1, 'épouvantail': 1, 'agite': 1, 'échéance': 1, 'étonne': 1, 'connues': 1, 'magie': 1, 'sarko': 1, 'procès': 1, 'fortes': 1, 'chances': 1, 'aient': 1, 'négociations': 1, 'échange': 1, 'europa': 1, 'ist': 1, 'umso': 1, 'mehr': 1, 'einem': 1, 'scheideweg': 1, 'wie': 1, 'dieser': 1, 'krieg': 1, 'zeigt': 1, 'einerseits': 1, 'einer': 1, 'europäischen': 1, 'weiter': 1, 'arbeiten': 1, 'oder': 1, 'irrelevance': 1, 'verbleichen': 1, 'der': 1, 'letzte': 1, 'versuch': 1, 'seine': 1, 'mit': 1, 'russland': 1, 'verbinden': 1, 'scheiterte': 1, 'normal': 1, 'bain': 1, 'foule': 1, 'annexe': 1, 'maghreb': 1, 'grandissime': 1, 'babouche': 1, 'closer': 1, 'winning': 1, 'another': 1, 'term': 1, 'helm': 1, 'largest': 1, 'economy': 1, 'runs': 1, 'time': 1, 'narrow': 1, 'citing': 1, 'her': 1, 'supp': 1, '2014': 1, 'invasion': 1, 'annexation': 1, 'crimea': 1, 'todos': 1, 'sondeos': 1, 'publicados': 1, 'viernes': 1, 'cierre': 1, 'electoral': 1, 'aseguran': 1, 'victoria': 1, 'ventaja': 1, 'variable': 1, 'puntos': 1, 'encima': 1, 'lol': 1, 'venant': 1, 'adorateur': 1, 'gourou': 1, 'croyait': 1, '7': 1, 'criminalité': 1, 'baisse': 1, 'nombre': 1, 'flics': 1, 'augmente': 1, 'joie': 1, 'parlais': 1, 'attaché': 1, 'calomnies': 1, 'racisme': 1, 'soirée': 1, 'frôle': 1, 'ridicule': 1, 'trade': 1, 'taunts': 1, 'campaigning': 1, 'ends': 1, 'eliminalia': 1, 'bitter': 1, 'attacks': 1, 'each': 1, 'other': 1, 'bbc': 1, 'maîtrise': 1, 'gauche': 1, 'occuper': 1, 'voterai': 1, 'omgggggg': 1, 'guys': 1, 'end': 1, 'flop': 1, 'era': 1, 'crainte': 1, 'amour': 1, 'vitesse': 1, 'laquelle': 1, 'envoient': 1, 'mur': 1, 'lent': 1, 'keep': 1, 'military': 1, 'aide': 1, 'flowing': 1, 'résultat': 1, 'réinvestissent': 1, 'française': 1, 'redistribuer': 1, 'tenez': 1, 'sage': 1, 'rétablira': 1, 'goulag': 1, 'pote': 1, 'arrivez': 1, 'graand': 1, 'maximum': 1, 'voilées': 1, 'laarge': 1, 'interdire': 1, '99': 1, 'planète': 1, 'singes': 1, 'melenchonreviens': 1, 'ateezworldtour2022': 1, 'bfmtv': 1, 'nimarinenilepen': 1, 'ledebat': 1, 'masksinger': 1, 'inquiétez': 1, 'ma': 1, 'favori': 1, 'élevé': 1, 'ultime': 1, 'aminata': 1, 'dramane': 1, 'traoré': 1, 'duel': 1, 'ouais': 1, 'brillant': 1, 'stock': 1, 'bof': 1, 'finalement': 1, 'servent': 1, 'députés': 1, 'risquons': 1, 'libertés': 1, 'impôts': 1, 'cobayes': 1, 'muselés': 1, 'matraqués': 1, 'gazés': 1, 'incarcérés': 1, 'méprisés': 1, 'insultés': 1, 'cons': 1, 'international': 1, 'permanence': 1, 'sensacional': 1, 'elección': 1, 'ª': 1, 'encuesta': 1, 'final': 1, '19': 1, '21': 1, 'abril': 1, '56': 1, '44': 1, 'élections2022': 1, 'presidentielles': 1, 'electionpresidentielle2022': 1, 'secondtour': 1, 'poll': 1, 'rejoignez': 1, 'mckinseymacron': 1, 'défend': 1, 'intérêts': 1, 'démantèlement': 1, 'actifs': 1, 'publics': 1, 'promotion': 1, 'normalisation': 1, 'systémique': 1, 'finance': 1, 'internation': 1, 'marchés': 1, 'réunions': 1, 'publiques': 1, 'échanger': 1, 'danger': 1, 'représente': 1, 'influence': 1, 'assez': 1, 'jouissif': 1, 'vais': 1, 'masturber': 1, 'pu': 1, 'empêcher': 1, 'balancer': 1, 'hein': 1, 'emmerder': 1, 'massacres': 1, 'génocides': 1, 'historiens': 1, 'reconnus': 1, 'reconnaissent': 1, 'sachant': 1, 'répond': 1, 'critères': 1, 'génocide': 1, 'parfaitement': 1, 'affligeant': 1, 'tenu': 1, 'enjeux': 1, 'irresponsable': 1, 'entièrement': 1, 'seuls': 1, 'fameuse': 1, 'nouvelle': 1, 'gouverner': 1, 'castaner': 1, 'bled': 1, 'puisque': 1, 'bosse': 1, 'trouble': 1, 'ordre': 1, 'mdr': 1, 'prions': 1, 'évidement': 1, 'réalisateur': 1, 'film': 1, 'puis': 1, 'oscar': 1, 'auront': 1, 'sex': 1, 'chain': 1, 'œuvre': 1, 'divertissement': 1, 'voila': 1, 'certainement': 1, 'subir': 1, 'prochainement': 1, 'saisit': 1, 'commission': 1, 'contrôle': 1, 'diffusion': 1, 'sms': 1, 'élection': 1, 'référendum': 1, 'écologie': 1, 'repasse': 1, 'déchirure': 1, 'autorisée': 1, 'muchas': 1, 'gracias': 1, 'invitación': 1, 'analizar': 1, 'elecciones': 1, 'presidenciales': 1, 'presenta': 1, 'hoy': 1, 'acuerdo': 1, 'una': 1, 'serie': 1, 'encuestas': 1, 'posibilidad': 1, 'need': 1, 'outcome': 1, 'crucial': 1, 'reverberate': 1, 'pouvez': 1, 'rajouter': 1, 'légèrement': 1, 'handicapés': 1, 'bescherelle': 1, 'constante': 1, 'potes': 1, 'ravie': 1, 'complimenter': 1, 'gorges': 1, 'profonde': 1, 'actu': 1, 'rap': 1, 'demeuré': 1, 'espoir': 1, 'règne': 1, 'maître': 1, 'soins': 1, 'tortionnaire': 1, 'privé': 1, 'brime': 1, 'spécialement': 1, 'âgées': 1, 'nourrir': 1, 'proprement': 1, 'société': 1, 'manu': 1, 'incapable': 1, 'su': 1, 'accords': 1, 'pleurer': 1, 'décide': 1, 'régler': 1, 'problème': 1, 'songer': 1, 'taire': 1, 'pures': 1, 'bêtises': 1, 'double': 1, 'ration': 1, 'jmlp': 1, 'sache': 1, 'références': 1, 'datent': 1, 'déroulé': 1, 'tapis': 1, 'rouge': 1, 'accueillis': 1, 'grandes': 1, 'pompes': 1, 'agenouillé': 1, 'participé': 1, 'rendre': 1, 'acceptable': 1, 'banale': 1, 'divizio': 1, 'aberkane': 1, 'blague': 1, 'ete': 1, 'ecoeuree': 1, 'facon': 1, 'proceder': 1, 'vérolé': 1, 'continu': 1, 'ancien': 1, 'militant': 1, 'mpf': 1, 'rpr': 1, 'renierai': 1, 'aimer': 1, 'souveraine': 1, 'lutterai': 1, 'sociale': 1, 'macroniste': 1, 'faute': 1, 'conduit': 1, 'né': 1, 'précieux': 1, 'avons': 1, 'cause': 1, 'refuse': 1, 'débats': 1, 'assène': 1, 'minimum': 1, 'obligatoire': 1, 'faible': 1, 'médiocre': 1, 'cacher': 1, 'arrogant': 1, 'anna': 1, 'wintour': 1, 'classe': 1, 'cher': 1, 'sincères': 1, 'salutations': 1, 'belles': 1, 'fêtes': 1, 'insister': 1, 'cru': 1, 'détourner': 1, 'coup': 1, 'répondra': 1, 'emotional': 1, 'skill': 1, 'hausse': 1, 'gère': 1, 'fou': 1, 'florissante': 1, 'vendu': 1, 'étrangers': 1, 'dupe': 1, 'bisexuel': 1, 'benalla': 1, 'occupes': 1, 'coeur': 1, 'courage': 1, 'rdv': 1, 'davos': 1, 'schwab': 1, 'crédit': 1, 'chinoise': 1, 'facho': 1, 'affirmer': 1, 'taxe': 1, 'habitation': 1, 'dû': 1, 'expliquez': 1, 'payons': 1, 'souhaiter': 1, 'trois': 1, 'teammacron': 1, 'connus': 1, 'xocali': 1, 'exemple': 1, 'azeris': 1, 'azerbaycan': 1, 'sud': 1, 'choses': 1, 'bouger': 1, 'traitre': 1, 'tousunis': 1, 'manifestant': 1, 'traîné': 1, 'strasbourg': 1, 'bizarrement': 1, 'chuuut': 1, 'speak': 1, 'speaking': 1, 'foreign': 1, 'talking': 1, 'banker': 1, 'terminéé': 1, 'discours': 1, 'baltringue': 1, 'coluche': 1, 'connais': 1, 'croise': 1, 'hommes': 1, 'chevelure': 1, 'tentation': 1, 'sexuelle': 1, 'voit': 1, 'mollets': 1, 'éventuellement': 1, 'poilus': 1, 'tomberait': 1, 'pâmoison': 1, 'remballe': 1, 'jean': 1, 'castex': 1, 'côtés': 1, 'macrondegage': 1, 'passdelahonte': 1, 'vaccinesideeffects': 1, 'vaccination': 1, 'mesurer': 1, 'internes': 1, 'activité': 1, 'environnementaux': 1, 'vitaux': 1, 'captation': 1, 'eau': 1, 'maintient': 1, 'sols': 1, 'biodiversité': 1, 'approche': 1, 'éborgner': 1, 'arracher': 1, 'visages': 1, 'mão': 1, 'alcoólatra': 1, 'igual': 1, 'effet': 1, '3ème': 1, 'dose': 1, 'dessous': 1, 'égaux': 1, 'virtuoses': 1, 'champions': 1, 'mémoire': 1, 'pib': 1, 'investissement': 1, '100mds': 1, 'assurée': 1, 'mettons': 1, '25': 1, '50mds': 1, 'budget': 1, 'suffisent': 1, 'début': 1, 'mismos': 1, 'protagonistas': 1, 'pero': 1, 'cambio': 1, 'evidente': 1, 'roles': 1, 'francés': 1, 'enfrentaron': 1, 'pasado': 1, 'miércoles': 1, 'televisivo': 1, 'segunda': 1, 'celebrará': 1, 'jeter': 1, 'œil': 1, 'curiosité': 1, 'vérifier': 1, 'écart': 1, '2002': 1, 'dramatique': 1, '12': 1, 'votants': 1, 'tranche': 1, '18': 1, 'avait': 1, '59': 1, 'euh': 1, 'identifier': 1, 'facilement': 1, 'volais': 1, 'principale': 1, 'enlève': 1, 'capuche': 1, 'appelait': 1, 'fred': 1, 'josé': 1, 'vigiles': 1, 'raclure': 1, 'bidet': 1, 'larrive': 1, 'cartas': 1, 'están': 1, 'echadas': 1, 'candidato': 1, 'lanzaron': 1, 'dardos': 1, 'vísperas': 1, 'jornada': 1, 'reflexión': 1, 'według': 1, 'macrona': 1, 'można': 1, 'dostarczać': 1, 'ciężkiej': 1, 'broni': 1, 'ukrainę': 1, 'jeśli': 1, 'chcę': 1, 'się': 1, 'być': 1, 'celem': 1, 'ataku': 1, 'stroną': 1, 'współuczestniczącą': 1, 'w': 1, 'wojnie': 1, 'wojna': 1, 'ukrainawar': 1, 'russiaukrainewar': 1, 'polska': 1, 'eborgnés': 1, 'protéger': 1, 'parc': 1, 'équilibrer': 1, 'leurs': 1, 'comptes': 1, 'retrouvent': 1, 'marchands': 1, 'exit': 1, 'protection': 1, 'explique': 1, 'taux': 1, 'suicide': 1, 'rentabilité': 1, 'derniers': 1, 'déplacements': 1, 'affrontés': 1, 'distance': 1, 'verdict': 1, 'premie': 1, 'portrait': 1, 'souriant': 1, 'mackinsey': 1, 'machin': 1, 'sempre': 1, 'cortou': 1, 'dedo': 1, 'pra': 1, 'ganhar': 1, 'dinheiro': 1, 'bosta': 1, 'mandou': 1, 'às': 1, 'vésperas': 1, 'das': 1, 'eleições': 1, 'francesas': 1, 'pesquisas': 1, 'mostram': 1, 'frente': 1, 'rival': 1, 'com': 1, '15': 1, 'pontos': 1, 'percentuais': 1, 'diferença': 1, 'version': 1, 'karaoke': 1, 'ainsi': 1, 'chambre': 1, 'wan': 1, 'derrrrr': 1, 'luuuuuuust': 1})\n"
          ]
        }
      ]
    },
    {
      "cell_type": "code",
      "source": [
        "#index each word\n",
        "vocab_to_int = {w:i+1 for i, (w,c) in enumerate(sorted_words)}\n",
        "print(vocab_to_int)"
      ],
      "metadata": {
        "colab": {
          "base_uri": "https://localhost:8080/"
        },
        "id": "nIwvV21VGZR0",
        "outputId": "335754ae-2791-4538-c980-88066b260f23"
      },
      "execution_count": 283,
      "outputs": [
        {
          "output_type": "stream",
          "name": "stdout",
          "text": [
            "{'de': 1, 'la': 2, 'macron': 3, 'a': 4, 'le': 5, 'est': 6, 'emmanuel': 7, 'et': 8, 'the': 9, 'à': 10, 'vous': 11, 'l': 12, 'of': 13, 'and': 14, 'un': 15, 'in': 16, 'are': 17, 'les': 18, 'ukraine': 19, 'pas': 20, 'en': 21, 'this': 22, 'que': 23, 'french': 24, 'about': 25, 'president': 26, 'social': 27, 'media': 28, 'week': 29, 'here': 30, 'users': 31, 'shared': 32, 'range': 33, 'false': 34, 'claims': 35, 'flooding': 36, 'australia': 37, 'facts': 38, 'pour': 39, 'c': 40, 'd': 41, 'on': 42, 'il': 43, 'des': 44, 'ne': 45, 'qui': 46, 'une': 47, 'france': 48, 'n': 49, 'du': 50, 'ça': 51, 'je': 52, 'au': 53, 'pen': 54, 'si': 55, 'ce': 56, 's': 57, 'plus': 58, 'qu': 59, 'se': 60, 'par': 61, 'is': 62, 'mais': 63, 'marine': 64, 'nous': 65, 'faire': 66, 'dans': 67, 'to': 68, 'avec': 69, 'tout': 70, 'sont': 71, 't': 72, 'fait': 73, 'non': 74, 'va': 75, 'sur': 76, 'comme': 77, 'quand': 78, 'bien': 79, 'notre': 80, 'y': 81, 'ils': 82, 'lui': 83, 'même': 84, 'encore': 85, 'aussi': 86, 'ou': 87, 'for': 88, 'contre': 89, 'tu': 90, 'être': 91, 'voter': 92, 'faut': 93, 'you': 94, 'donc': 95, 'elle': 96, 'sera': 97, 'dimanche': 98, 'j': 99, 'quoi': 100, 'pourquoi': 101, 'président': 102, 'aux': 103, 'français': 104, 'as': 105, 'êtes': 106, 'merci': 107, 'vote': 108, 'avez': 109, 'europe': 110, 'oui': 111, 'monde': 112, 'me': 113, 'sa': 114, 'rien': 115, 'guerre': 116, 'emmanuelmacron': 117, 'cette': 118, 'i': 119, 'pays': 120, 'e': 121, '24': 122, 'peut': 123, 'jamais': 124, 'toi': 125, 'ta': 126, 'tous': 127, 'russie': 128, 'veut': 129, 'it': 130, 'entre': 131, 'moi': 132, 'ans': 133, '2': 134, 'amp': 135, 'où': 136, 'allez': 137, 'da': 138, 'face': 139, 'temps': 140, 'personne': 141, 'votre': 142, 'not': 143, 'an': 144, 'quel': 145, 'car': 146, '5': 147, 'bon': 148, 'm': 149, 'will': 150, 'pauvre': 151, 'vos': 152, 'droite': 153, 'son': 154, 'election': 155, 'deux': 156, 'with': 157, 'tour': 158, 'ces': 159, 'politique': 160, 'voulez': 161, 'sans': 162, 'extrême': 163, 'dire': 164, 'toujours': 165, 'monsieur': 166, 'force': 167, 'ue': 168, 'république': 169, 'gueule': 170, 'choix': 171, 'voile': 172, 'honte': 173, 'prendre': 174, 'débat': 175, 'leur': 176, 'était': 177, 'avril': 178, 'pendant': 179, 'pr': 180, 'but': 181, 'do': 182, 'presidentielles2022': 183, 'peu': 184, 'après': 185, 'soit': 186, 'no': 187, 'poutine': 188, 'putin': 189, 'juste': 190, 'personnes': 191, 'be': 192, 'ai': 193, 'mr': 194, 'great': 195, 'el': 196, 'ah': 197, 'aura': 198, 'autre': 199, 'o': 200, 'avoir': 201, 'été': 202, 'serait': 203, 'déjà': 204, 'passe': 205, 'moins': 206, 'eu': 207, 'sunday': 208, 'marinelepen': 209, 'campagne': 210, 'état': 211, 'that': 212, 'many': 213, 'ton': 214, 'présidentielle': 215, '2022': 216, 'second': 217, 'peuple': 218, 'loi': 219, 'ailleurs': 220, 'via': 221, 'sorti': 222, 'manière': 223, 'bah': 224, 'você': 225, 'your': 226, 'vs': 227, 'grand': 228, 'raison': 229, 'ca': 230, 'noël': 231, 'vers': 232, 'seul': 233, 'news': 234, 'mort': 235, 'frança': 236, 'lrem': 237, 'dieu': 238, 'pouvoir': 239, 'ses': 240, 'concerne': 241, 'sondage': 242, 'faites': 243, 'if': 244, 'have': 245, 'beau': 246, 'mieux': 247, 'by': 248, 'alors': 249, 'quelques': 250, 'peine': 251, 'jours': 252, '1': 253, 'es': 254, 'public': 255, 'femme': 256, 'we': 257, 'porte': 258, 'cela': 259, 'otan': 260, 'aucun': 261, 'vrai': 262, 'partie': 263, 'violence': 264, 'question': 265, 'savez': 266, 'eux': 267, 'não': 268, 'é': 269, 'para': 270, 'dis': 271, 'bilan': 272, 'simple': 273, 'liberté': 274, 'veux': 275, 'zemmour': 276, 'what': 277, 'existe': 278, '10': 279, 'was': 280, 'soutien': 281, 'lt': 282, 'b': 283, 'gt': 284, 'françaises': 285, 'voir': 286, 'homme': 287, 'when': 288, 'while': 289, 'voilà': 290, 'nos': 291, 'peux': 292, 'quelle': 293, 'chose': 294, 'petit': 295, 'presidente': 296, 'campanha': 297, 'vraie': 298, 'fin': 299, 'niveau': 300, 'foutre': 301, 'demain': 302, 'candidat': 303, 'from': 304, 'nato': 305, 'sinon': 306, 'compte': 307, 'tel': 308, 'voix': 309, 'toutsaufmacron': 310, 'don': 311, 'bonne': 312, 'chaque': 313, 'mes': 314, 'hors': 315, 'macronlepen': 316, 'occasion': 317, 'bout': 318, 'pro': 319, 'riche': 320, 'right': 321, 'or': 322, 'mlp': 323, 'runoff': 324, 'between': 325, 'far': 326, '6': 327, 'situation': 328, '4': 329, 'gap': 330, 'these': 331, 'people': 332, 'mise': 333, 'trop': 334, 'confiance': 335, 'world': 336, 'courant': 337, 'victoire': 338, 'fout': 339, 'avis': 340, 'why': 341, 'does': 342, 'hands': 343, 'dernier': 344, 'avant': 345, 'figeac': 346, 'passera': 347, 'aime': 348, 'mal': 349, 'autres': 350, 'oh': 351, 'menace': 352, 'vieux': 353, 'vie': 354, 'respecter': 355, 'accord': 356, 'self': 357, 'sortir': 358, 'raisons': 359, 'porter': 360, 'blanc': 361, 'mettre': 362, 'moyen': 363, 'pense': 364, 'pensez': 365, 'paix': 366, 'mêmes': 367, 'telle': 368, 'depuis': 369, '2017': 370, 'na': 371, 'em': 372, 'selon': 373, 'sol': 374, 'sujet': 375, 'faudra': 376, 'type': 377, 'vivre': 378, 'tirer': 379, 'nimacronnilepen': 380, 'how': 381, 'paris': 382, 'merde': 383, 'jour': 384, 'caesar': 385, 'dit': 386, 'avenir': 387, 'chez': 388, 'te': 389, 'payer': 390, 'perdre': 391, 'con': 392, 'war': 393, 'he': 394, 'can': 395, 'so': 396, 'cas': 397, 'importe': 398, 'sortant': 399, 'vois': 400, 'at': 401, 'riches': 402, 'fois': 403, 'mensonges': 404, 'responsables': 405, 'ds': 406, 'etc': 407, 'pareil': 408, 'démocratie': 409, 'surtout': 410, 'passé': 411, 'sens': 412, 'peuvent': 413, 'très': 414, 'mali': 415, 'élections': 416, 'rapport': 417, 'droit': 418, 'vraiment': 419, 'joyeux': 420, 'um': 421, 'francesa': 422, 'los': 423, 'francia': 424, 'campaña': 425, 'convictions': 426, 'comment': 427, 'presidencial': 428, 'service': 429, 'autour': 430, 'scène': 431, 'leader': 432, 'onf': 433, 'vagabundo': 434, 'tes': 435, 'chance': 436, 'palestine': 437, 'dirai': 438, 'certain': 439, 'besoin': 440, 'cnews': 441, 'prochaine': 442, 'vite': 443, 'arrête': 444, 'mentir': 445, 'than': 446, 'never': 447, 'thank': 448, 'siège': 449, 'sécurité': 450, 'irréversible': 451, 'donne': 452, 'projet': 453, 'beaucoup': 454, 'sexta': 455, 'feira': 456, '22': 457, 'domingo': 458, 'sors': 459, 'seule': 460, 'russes': 461, 'européen': 462, 'reste': 463, 'abstenir': 464, 'eelv': 465, 'lfi': 466, 'place': 467, 'voté': 468, 'move': 469, 'emmener': 470, 'musulmane': 471, 'convaincre': 472, 'ont': 473, 'regarde': 474, 'regarder': 475, 'rigolo': 476, 'millions': 477, 'choisi': 478, 'ask': 479, 'ptdrr': 480, 'met': 481, 'plein': 482, 'revoir': 483, 'prix': 484, 'impossible': 485, 'chauffer': 486, 'banquier': 487, 'pfff': 488, 'gardez': 489, 'manifestaient': 490, 'rue': 491, 'mois': 492, 'enfin': 493, 'sert': 494, 'please': 495, 'our': 496, 'future': 497, 'taxer': 498, 'effort': 499, 'éviter': 500, 'message': 501, 'marche': 502, 'fiche': 503, 'votez': 504, 'défense': 505, 'soutenue': 506, 'hypocrite': 507, 'doivent': 508, 'ait': 509, 'pourtant': 510, 'pris': 511, 'leadership': 512, 'giuseppe': 513, 'conte': 514, 'moteur': 515, 'revivre': 516, 'grèce': 517, 'mars': 518, '2020': 519, 'forme': 520, 'too': 521, 'polls': 522, 'understand': 523, 'left': 524, 'jevote': 525, 'jevotemacron': 526, 'réalité': 527, 'sanctions': 528, 'destruction': 529, 'torture': 530, 'lula': 531, 'meeting': 532, 'voulu': 533, 'drapeau': 534, 'voiler': 535, 'dos': 536, 'últimos': 537, 'russia': 538, 'continue': 539, 'such': 540, 'chier': 541, 'vu': 542, 'aujourd': 543, 'hui': 544, 'démocratique': 545, 'esprit': 546, 'ceux': 547, 'gros': 548, 'bobos': 549, 'avais': 550, 'minsk': 551, 'crypto': 552, 'believe': 553, 'regulated': 554, 'financial': 555, 'moyens': 556, 'us': 557, 'ukrainiens': 558, 'aérien': 559, 'yeah': 560, 'uniquement': 561, 'celle': 562, 'veulent': 563, 'marinepoutine': 564, 'réélu': 565, 'interdit': 566, 'musulman': 567, 'soeur': 568, 'foi': 569, 'musulmans': 570, 'bouche': 571, 'population': 572, 'volonté': 573, 'mains': 574, 'possible': 575, 'entraîner': 576, 'afrique': 577, 'ok': 578, 'g': 579, 'run': 580, 'off': 581, 'vidéo': 582, 'lr': 583, 'gens': 584, 'less': 585, 'his': 586, 'parle': 587, 'créer': 588, 'covid': 589, 'constant': 590, 'times': 591, 'change': 592, 'profit': 593, 'único': 594, 'debate': 595, 'está': 596, 'rússia': 597, 'mas': 598, 'vax': 599, 'laisser': 600, 'puppet': 601, 'dites': 602, 'celui': 603, 'suppose': 604, 'doit': 605, 'envoyer': 606, 'bouclier': 607, 'dessus': 608, 'semaine': 609, 'aille': 610, 'arabie': 611, 'saoudite': 612, 'west': 613, '5ans': 614, 'ni': 615, 'enveloppe': 616, 'vide': 617, 'blood': 618, 'tell': 619, 'out': 620, 'intelligence': 621, 'chien': 622, 'parce': 623, 'enferme': 624, 'rhume': 625, 'oblige': 626, 'programme': 627, 'mépris': 628, '2nd': 629, 'phase': 630, 'кричіть': 631, 'це': 632, 'не': 633, 'any': 634, 'like': 635, 'layers': 636, 'âge': 637, 'bande': 638, 'rire': 639, 'just': 640, 'este': 641, 'dizaines': 642, 'tweets': 643, 'parti': 644, 'devient': 645, 'ministre': 646, 'barrage': 647, 'arrêtez': 648, 'forget': 649, 'air': 650, 'affirme': 651, 'canons': 652, 'missiles': 653, 'antichars': 654, 'milan': 655, 'livraisons': 656, 'source': 657, 'prépare': 658, 'stop': 659, 'legislatives': 660, 'cul': 661, 'tuer': 662, 'elles': 663, 'urnes': 664, '60': 665, 'savoir': 666, 'corruption': 667, 'autant': 668, 'retour': 669, 'parler': 670, 'femmes': 671, 'preuve': 672, 'dirait': 673, 'continuer': 674, 'lécher': 675, 'interview': 676, 'candidats': 677, 'journaliste': 678, 'mélenchon': 679, 'ennemi': 680, 'américains': 681, 'font': 682, 'oreille': 683, 'défaut': 684, 'entendre': 685, 'ex': 686, 'ns': 687, 'lepen': 688, 'fais': 689, 'blonde': 690, 'vas': 691, 'toute': 692, 'nationale': 693, 'sommes': 694, 'cœur': 695, 'côté': 696, 'abandon': 697, 'différence': 698, 'constitution': 699, 'culte': 700, 'disait': 701, 'francês': 702, 'policiers': 703, 'know': 704, 'touchant': 705, 'trahi': 706, 'vérités': 707, 'présidentielles': 708, 'abordé': 709, 'installée': 710, 'amis': 711, 'maliens': 712, 'combattre': 713, 'terrorisme': 714, 'trahison': 715, 'demr': 716, 'manqué': 717, 'engagement': 718, 'bois': 719, 'désolé': 720, 'weapons': 721, 'sérieux': 722, 'see': 723, 'fields': 724, 'énorme': 725, 'propos': 726, 'bête': 727, 'incroyable': 728, 'peuples': 729, 'système': 730, 'poudré': 731, 'mac': 732, 'klaus': 733, 'pervers': 734, 'narcissique': 735, 'jeunes': 736, 'instant': 737, 're': 738, 'among': 739, 'voters': 740, 'ahead': 741, 'père': 742, 'jésus': 743, 'servir': 744, 'vaccinés': 745, 'vont': 746, 'allons': 747, 'lapider': 748, 'électorale': 749, 'cours': 750, 'identität': 751, 'zu': 752, '1er': 753, 'presidential': 754, '14': 755, 'por': 756, 'allait': 757, 'visiblement': 758, 'make': 759, 'risque': 760, 'législatives': 761, 'économie': 762, 'gagner': 763, 'gentil': 764, 'mensonge': 765, 'forcées': 766, 'suis': 767, 'vuelta': 768, 'déteste': 769, 'industrie': 770, 'avecvous': 771, 'oublier': 772, 'reconnaître': 773, 'faudrait': 774, 'nécessaire': 775, 'part': 776, 'las': 777, 'reelección': 778, 'enfer': 779, 'viens': 780, 'présente': 781, 'réussir': 782, 'réchauffement': 783, 'climatique': 784, 'médiocrité': 785, 'couché': 786, 'lors': 787, 'mon': 788, 'citoyens': 789, 'genocide': 790, 'externe': 791, 'sncf': 792, 'produit': 793, '50': 794, 'ultraderechista': 795, 'caméra': 796, 'grue': 797, 'filmer': 798, 'rassemblement': 799, 'centaines': 800, 'nie': 801, 'forêt': 802, 'excellent': 803, 'enfants': 804, 'mûrissent': 805, 'philosophie': 806, 'moussa': 807, 'finiras': 808, 'mérites': 809, 'fake': 810, 'menteur': 811, 'sincérité': 812, 'quelque': 813, 'brilliant': 814, 'attendrai': 815, 'défenseur': 816, 'langue': 817, 'kevin': 818, 'boulot': 819, 'année': 820, 'ambigüe': 821, 'gnangnan': 822, 'taper': 823, 'doigts': 824, 'appelle': 825, 'salopard': 826, 'mec': 827, 'better': 828, 'late': 829, 'cède': 830, 'conseil': 831, 'allemagne': 832, 'autonomie': 833, 'indépendance': 834, 'certaines': 835, 'régions': 836, 'euroregions': 837, 'atual': 838, 'candidata': 839, 'extrema': 840, 'direita': 841, 'encerraram': 842, 'nesta': 843, 'seus': 844, 'eventos': 845, 'segundo': 846, 'turno': 847, 'votação': 848, 'acontecerá': 849, 'neste': 850, 'cnnbrasil': 851, 'ben': 852, 'voyons': 853, 'louis': 854, 'xiv': 855, 'corps': 856, 'bouffez': 857, 'cantine': 858, 'pression': 859, 'mesure': 860, 'achats': 861, 'hydrocarbures': 862, 'terme': 863, 'rupture': 864, 'liens': 865, 'diplomatiques': 866, 'régime': 867, 'assassins': 868, 'vent': 869, 'cinéma': 870, 'shopping': 871, 'vive': 872, 'attendrez': 873, 'manifestants': 874, 'balancerez': 875, 'parpaings': 876, 'traitant': 877, 'soldat': 878, 'aurez': 879, 'volontairement': 880, 'direz': 881, 'assumer': 882, 'guillaume': 883, 'départ': 884, 'away': 885, 'happy': 886, 'relations': 887, 'differentiating': 888, 'political': 889, 'factor': 890, 'hammam': 891, 'vapeur': 892, 'dedicace': 893, 'jeanmicheltrogneux': 894, 'famille': 895, 'terre': 896, 'rentre': 897, 'attention': 898, '80': 899, 'écraser': 900, 'cogne': 901, 'indécis': 902, 'réserve': 903, 'grande': 904, 'exagérons': 905, 'méprise': 906, 'choque': 907, 'vaxs': 908, 'gilets': 909, 'jaunes': 910, 'là': 911, 'entend': 912, 'raconter': 913, 'mierda': 914, 'care': 915, 'didn': 916, 'ouiiii': 917, 'croit': 918, 'tkt': 919, 'sondé': 920, 'nuit': 921, 'branle': 922, '75': 923, '40l': 924, 'autoroute': 925, 'coûte': 926, 'couille': 927, 'demi': 928, 'électricité': 929, 'corrompu': 930, 'zut': 931, 'plutôt': 932, 'poisson': 933, 'arrêter': 934, 'penser': 935, 'tête': 936, 'psser': 937, '5longues': 938, 'années': 939, 'moutons': 940, 'dear': 941, 'home': 942, 'essential': 943, 'germany': 944, 'vouloir': 945, 'outils': 946, 'faudrais': 947, 'soi': 948, 'montage': 949, 'fiscale': 950, 'impots': 951, 'complete': 952, 'prick': 953, 'who': 954, 'disgrace': 955, 'name': 956, 'liberalism': 957, 'voting': 958, 'him': 959, 'anyway': 960, 'thing': 961, 'unsurprisingly': 962, 'endorsed': 963, 'franchement': 964, 'présomption': 965, 'légitime': 966, 'violencespolicieres': 967, 'viol36': 968, 'balancetonporc': 969, 'viva': 970, 'protège': 971, 'syrie': 972, 'yémen': 973, 'irak': 974, 'afghanistan': 975, 'voulais': 976, 'demandée': 977, 'refermer': 978, 'frontières': 979, 'redevenait': 980, 'abc': 981, 'has': 982, 'depth': 983, 'report': 984, 'weekend': 985, 'challenger': 986, '8h': 987, 'achève': 988, 'imagine': 989, 'point': 990, 'clément': 991, 'beaune': 992, 'déçus': 993, 'poids': 994, 'donné': 995, 'réalisation': 996, 'historique': 997, 'marquera': 998, 'prochaines': 999, 'décennies': 1000, 'contexte': 1001, 'compliqué': 1002, 'faiblesse': 1003, 'discussions': 1004, 'euro': 1005, 'sceptiques': 1006, 'italiens': 1007, 'craignaient': 1008, 'semaines': 1009, 'coronavirus': 1010, 'déferlé': 1011, 'lombardie': 1012, 'region': 1013, 'madrid': 1014, 'confinée': 1015, 'idée': 1016, 'coronabonds': 1017, 'proposée': 1018, 'prend': 1019, 'announced': 1020, 'big': 1021, 'say': 1022, 'themselves': 1023, 'worth': 1024, 'paradoxically': 1025, 'am': 1026, 'relatively': 1027, 'worried': 1028, 'latest': 1029, 'important': 1030, 'especially': 1031, 'going': 1032, 'block': 1033, 'deeply': 1034, 'dislike': 1035, 'garde': 1036, 'ferme': 1037, 'électeurs': 1038, 'tentés': 1039, 'abstention': 1040, 'démobilise': 1041, 'abstention24avril': 1042, 'mancano': 1043, 'due': 1044, 'giorni': 1045, 'per': 1046, 'essere': 1047, 'rieletto': 1048, 'alla': 1049, 'presidenza': 1050, 'francese': 1051, 'concludere': 1052, 'esecuzione': 1053, 'del': 1054, 'piano': 1055, 'new': 1056, 'order': 1057, '666': 1058, 'triste': 1059, 'sûrement': 1060, 'qualifier': 1061, 'schéma': 1062, 'raciste': 1063, 'invité': 1064, 'champ': 1065, 'fêter': 1066, 'retourne': 1067, 'espagne': 1068, 'sang': 1069, 'permit': 1070, 'tech': 1071, 'export': 1072, 'violation': 1073, 'isn': 1074, 'tantamount': 1075, 'widespread': 1076, 'looting': 1077, 'murder': 1078, 'committed': 1079, 'benefactor': 1080, 'complicity': 1081, 'apply': 1082, 'exclusively': 1083, 'victims': 1084, 'bound': 1085, 'surprise': 1086, 'corrompus': 1087, 'main': 1088, 'lot': 1089, 'apôtre': 1090, 'unie': 1091, 'scrutin': 1092, 'vendredi': 1093, 'modèle': 1094, 'jolie': 1095, 'confession': 1096, 'candidatos': 1097, 'presidência': 1098, 'participam': 1099, 'compromissos': 1100, 'veja': 1101, 'os': 1102, 'principais': 1103, 'destaques': 1104, 'desta': 1105, 'jornaldarecord': 1106, 'jr24h': 1107, 'élue': 1108, 'kaddish': 1109, 'declaring': 1110, 'wishes': 1111, 'capture': 1112, 'entire': 1113, 'south': 1114, 'leaving': 1115, 'country': 1116, 'landlocked': 1117, 'choice': 1118, 'arm': 1119, 'aggressiveexpansion': 1120, 'croix': 1121, 'stérile': 1122, 'parlez': 1123, 'fond': 1124, 'abaissez': 1125, 'votons': 1126, 'voulait': 1127, 'disparaitre': 1128, 'date': 1129, 'menaces': 1130, 'algérois': 1131, 'kabyle': 1132, 'chypre': 1133, 'représailles': 1134, 'turquie': 1135, 'pleine': 1136, 'bouffée': 1137, 'délirante': 1138, 'garçon': 1139, 'totale': 1140, 'impro': 1141, 'salamé': 1142, 'pamoison': 1143, 'devant': 1144, 'performance': 1145, 'pet': 1146, 'casque': 1147, 'familles': 1148, 'surveiller': 1149, 'parjure': 1150, '300': 1151, '000': 1152, 'morts': 1153, 'analyse': 1154, 'vision': 1155, 'tant': 1156, 'compose': 1157, 'continuation': 1158, 'regroupement': 1159, 'inactifs': 1160, 'échappe': 1161, 'quitter': 1162, 'marionette': 1163, 'tirée': 1164, 'enfaite': 1165, 'trouver': 1166, 'solution': 1167, 'diplomatique': 1168, 'aurai': 1169, 'militaires': 1170, 'confronter': 1171, 'quant': 1172, 'interviendront': 1173, 'directement': 1174, 'pleins': 1175, 'devra': 1176, 'secours': 1177, 'appui': 1178, 'laisse': 1179, 'aiment': 1180, 'semblant': 1181, 'comprendre': 1182, 'trou': 1183, 'duc': 1184, 'entendu': 1185, 'connu': 1186, 'sauf': 1187, 'pitié': 1188, 'départage': 1189, 'peste': 1190, 'choléra': 1191, 'deuxiemetour': 1192, 'presidentielle2022': 1193, 'tete': 1194, 'petites': 1195, 'maghrebine': 1196, 'mettent': 1197, 'toutes': 1198, 'leggings': 1199, 'shein': 1200, 'assoit': 1201, 'aur': 1202, 'genous': 1203, 'mecs': 1204, 'decident': 1205, 'crois': 1206, 'qunelles': 1207, 'accuses': 1208, 'dependence': 1209, 'vladimir': 1210, 'embargo': 1211, 'gaz': 1212, 'russe': 1213, 'discussion': 1214, 'verra': 1215, 'corriere': 1216, 'della': 1217, 'critique': 1218, 'actualiser': 1219, 'tripes': 1220, 'expatrier': 1221, 'purge': 1222, 'balkans': 1223, 'massacre': 1224, 'mora': 1225, 'désolée': 1226, 'apprendre': 1227, 'étaient': 1228, 'actes': 1229, 'commis': 1230, 'chrétiens': 1231, 'zelenskiy': 1232, 'proposé': 1233, 'former': 1234, 'filiky': 1235, 'eterya': 1236, 'asala': 1237, 'aller': 1238, 'marinepresidente': 1239, 'trompez': 1240, 'apporter': 1241, 'déclencher': 1242, 'civile': 1243, 'rares': 1244, 'trucs': 1245, 'véridique': 1246, 'pourrait': 1247, 'enfermer': 1248, 'donner': 1249, 'droits': 1250, 'soumettrais': 1251, 'réprimer': 1252, 'manifestations': 1253, 'concentrer': 1254, 'wait': 1255, 'ptdr': 1256, 'détruit': 1257, 'chaos': 1258, 'famines': 1259, 'notamment': 1260, 'serons': 1261, 'immanquablement': 1262, 'impactés': 1263, 'arrive': 1264, 'ligne': 1265, 'maginot': 1266, 'ukrainienne': 1267, 'tiendra': 1268, 'éternellement': 1269, 'tw': 1270, 'écho': 1271, 'ultramarin': 1272, 'tours': 1273, 'outre': 1274, 'mer': 1275, '1ère': 1276, 'fustigé': 1277, 'stigmatisation': 1278, 'envers': 1279, 'impliquerait': 1280, 'choqué': 1281, 'fermée': 1282, 'mignonne': 1283, 'beat': 1284, 'exceptionnelle': 1285, 'personnage': 1286, 'invite': 1287, 'touquet': 1288, 'maire': 1289, 'répondre': 1290, 'champion': 1291, 'key': 1292, 'global': 1293, 'event': 1294, 'give': 1295, '55': 1296, 'support': 1297, 'enough': 1298, 'retain': 1299, 'power': 1300, '66': 1301, 'victory': 1302, 'positive': 1303, 'european': 1304, 'markets': 1305, 'fils': 1306, 'pute': 1307, 'attaqué': 1308, 'lots': 1309, 'things': 1310, 'stay': 1311, 'live': 1312, 'house': 1313, 'built': 1314, 'cromwell': 1315, 'same': 1316, 'field': 1317, 'plans': 1318, 'since': 1319, '1600s': 1320, 'doesn': 1321, 'steam': 1322, 'roller': 1323, 'towards': 1324, 'over': 1325, 'all': 1326, 'else': 1327, 'público': 1328, 'tv': 1329, 'acusou': 1330, 'estar': 1331, 'bolso': 1332, 'moscou': 1333, 'falando': 1334, 'apenas': 1335, 'seu': 1336, 'banqueiro': 1337, 'surpreender': 1338, 'tenha': 1339, 'participado': 1340, 'desestabilizar': 1341, 'afirmou': 1342, 'tri': 1343, 'justifié': 1344, 'crever': 1345, 'statut': 1346, 'vaccinal': 1347, 'degueulasse': 1348, 'couleur': 1349, 'peau': 1350, 'gradation': 1351, 'discriminations': 1352, 'acusa': 1353, 'ser': 1354, 'marionete': 1355, 'russa': 1356, 'american': 1357, 'voyage': 1358, 'aimez': 1359, 'votant': 1360, 'prostitue': 1361, 'racaille': 1362, 'policière': 1363, 'vêtement': 1364, 'décapiter': 1365, 'prof': 1366, 'égorger': 1367, 'prêtre': 1368, 'faits': 1369, 'divers': 1370, 'drôle': 1371, 'profs': 1372, 'demandent': 1373, 'entendus': 1374, 'inflation': 1375, 'explose': 1376, 'temoignage': 1377, 'malheureusement': 1378, 'titre': 1379, 'détailler': 1380, 'troupes': 1381, 'maîtrisent': 1382, 'préalable': 1383, 'dernière': 1384, 'couleurs': 1385, 'police': 1386, 'écriture': 1387, 'jlm': 1388, 'achetez': 1389, 'originalité': 1390, 'bolloré': 1391, 'chèque': 1392, 'assimilation': 1393, 'inversée': 1394, 'frangine': 1395, 'basta': 1396, 'bâchée': 1397, 'champolion': 1398, 'enfant': 1399, 'déchiffre': 1400, 'rosette': 1401, 'knows': 1402, 'reliant': 1403, 'ukrainians': 1404, 'only': 1405, 'one': 1406, 'scoring': 1407, 'points': 1408, 'tried': 1409, 'could': 1410, 'learn': 1411, 'erdogan': 1412, 'trudeau': 1413, 'useless': 1414, 'sahel': 1415, 'étrangère': 1416, 'menée': 1417, 'cest': 1418, 'conneries': 1419, 'intermittents': 1420, 'spectacle': 1421, 'indignes': 1422, 'inadmissibles': 1423, 'voteblanc': 1424, 'tweet': 1425, 'auriez': 1426, 'fasse': 1427, 'connaît': 1428, 'institut': 1429, 'csa': 1430, 'repris': 1431, 'rare': 1432, 'escroc': 1433, 'bc': 1434, 'filled': 1435, 'create': 1436, 'forward': 1437, 'them': 1438, 'they': 1439, 'biden': 1440, 'jinping': 1441, 'johnson': 1442, '8': 1443, 'billion': 1444, 'beyond': 1445, 'democracy': 1446, 'oligarchy': 1447, 'essayez': 1448, 'verrez': 1449, 'travaillé': 1450, 'accessibilité': 1451, 'bâtiments': 1452, 'erp': 1453, 'architectes': 1454, 'savent': 1455, 'intégrer': 1456, 'handicap': 1457, 'visible': 1458, 'handicaps': 1459, 'connerie': 1460, 'croire': 1461, 'décolleté': 1462, 'synonyme': 1463, 'jvote': 1464, 'marre': 1465, 'pousser': 1466, 'sale': 1467, 'planquer': 1468, 'peter': 1469, '1ere': 1470, 'étape': 1471, 'nesrine': 1472, 'slaouli': 1473, 'yann': 1474, 'barthes': 1475, 'reportedly': 1476, 'sending': 1477, 'unspecified': 1478, 'number': 1479, 'highly': 1480, 'capable': 1481, 'propelled': 1482, 'howitzers': 1483, 'actual': 1484, 'fuck': 1485, 'gardait': 1486, 'accusé': 1487, 'viol': 1488, 'déconner': 1489, 'route': 1490, 'forte': 1491, 'zeribi': 1492, 'rejoint': 1493, 'profondément': 1494, 'reclassement': 1495, 'criminels': 1496, 'vider': 1497, 'prisons': 1498, 'technique': 1499, 'manipulation': 1500, 'mentale': 1501, 'résumée': 1502, 'minutes': 1503, 'bel': 1504, 'peur': 1505, 'vacciner': 1506, 'papi': 1507, 'complotistes': 1508, 'dois': 1509, 'taffer': 1510, 'jusqu': 1511, '65': 1512, 'retraite': 1513, 'anagramme': 1514, 'mammon': 1515, 'enculera': 1516, 'souhaite': 1517, 'emanuel': 1518, 'xth': 1519, 'phases': 1520, 'someone': 1521, 'plz': 1522, 'v': 1523, 'finish': 1524, 'quick': 1525, 'про': 1526, 'я': 1527, 'зі': 1528, 'свого': 1529, 'українського': 1530, 'досвіду': 1531, 'знаю': 1532, 'що': 1533, 'важко': 1534, 'отримати': 1535, 'допомогу': 1536, 'світу': 1537, 'але': 1538, 'можливо': 1539, 'планета': 1540, 'одна': 1541, 'за': 1542, 'вас': 1543, 'ніхто': 1544, 'буде': 1545, 'кричати': 1546, 'світ': 1547, 'несправедливий': 1548, 'нагадуйте': 1549, 'залишайте': 1550, 'в': 1551, 'тиші': 1552, 'savemariupol': 1553, 'ukrainerussiawar': 1554, 'putinhitler': 1555, 'thales': 1556, 'comments': 1557, 'video': 1558, 'meet': 1559, 'onion': 1560, 'there': 1561, 'science': 1562, 'prouve': 1563, 'sortez': 1564, 'nique': 1565, 'ra': 1566, 'mère': 1567, 'serez': 1568, 'premiers': 1569, 'pipi': 1570, 'ânes': 1571, 'att': 1572, 'lance': 1573, 'bombe': 1574, 'h': 1575, 'invités': 1576, 'brigitte': 1577, 'kody': 1578, 'bénédicte': 1579, 'philippon': 1580, 'entrons': 1581, 'pauvres': 1582, 'tarés': 1583, 'relieur': 1584, 'sentences': 1585, 'turkey': 1586, 'committing': 1587, 'crime': 1588, 'ally': 1589, 'keeping': 1590, 'quiet': 1591, 'oops': 1592, 'wrong': 1593, 'gonzalo': 1594, 'lira': 1595, 'arrested': 1596, 'sbu': 1597, 'interrogated': 1598, 'then': 1599, 'released': 1600, 'pending': 1601, 'further': 1602, 'investigation': 1603, 'back': 1604, 'youtube': 1605, 'calling': 1606, 'zelensky': 1607, 'cokehead': 1608, 'regime': 1609, 'bunk': 1610, 'thugs': 1611, 'sbus': 1612, 'permission': 1613, 'comique': 1614, 'porque': 1615, 'votas': 1616, 'cabrón': 1617, 'yo': 1618, 'voy': 1619, 'votar': 1620, 'hijo': 1621, 'chingada': 1622, 'haine': 1623, 'pathetiques': 1624, 'moving': 1625, 'target': 1626, 'nothing': 1627, 'stays': 1628, 'except': 1629, 'pinçon': 1630, 'charlot': 1631, 'analysent': 1632, 'gratuit': 1633, 'tarifaire': 1634, 'paiera': 1635, 'sous': 1636, 'impôt': 1637, 'oublié': 1638, 'oubliera': 1639, 'responsabilité': 1640, 'renouvellement': 1641, 'centrales': 1642, 'nucléaires': 1643, 'mis': 1644, 'dépendance': 1645, 'élu': 1646, 'misère': 1647, 'soyez': 1648, 'prêts': 1649, 'profitez': 1650, 'bisous': 1651, 'abstentionle24': 1652, 'lepengate': 1653, 'mackinseygate': 1654, 'reproduit': 1655, 'mitose': 1656, 'propre': 1657, 'premier': 1658, 'ira': 1659, 'libérale': 1660, 'mondialiste': 1661, 'éco': 1662, 'compatible': 1663, 'futura': 1664, 'sciences': 1665, 'coût': 1666, 'carbone': 1667, 'proposition': 1668, 'figurant': 1669, 'candidate': 1670, 'nbsp': 1671, 'azov': 1672, 'maintiennent': 1673, 'civils': 1674, 'clair': 1675, 'dc': 1676, 'myto': 1677, 'waving': 1678, 'reelection': 1679, 'full': 1680, 'my': 1681, 'brothers': 1682, 'sister': 1683, 'forgive': 1684, 'effectivement': 1685, 'faisaient': 1686, 'isf': 1687, 'vachement': 1688, 'impartial': 1689, 'plaît': 1690, 'implore': 1691, 'faite': 1692, 'maladie': 1693, 'lyme': 1694, 'recherche': 1695, 'souffrons': 1696, 'livre': 1697, 'kiev': 1698, 'première': 1699, 'armes': 1700, 'présentées': 1701, 'détaillée': 1702, 'défait': 1703, 'lendemain': 1704, 'défaite': 1705, '3etour': 1706, 'lepennedoitpaspasser': 1707, 'lepenment': 1708, 'unionpopulaire': 1709, 'legislatives2022': 1710, 'melenchon1erministre': 1711, 'ptdrrr': 1712, 'ouaaais': 1713, '600': 1714, 'milliard': 1715, 'dettes': 1716, 'dus': 1717, 'menti': 1718, 'ras': 1719, 'bol': 1720, 'lire': 1721, 'tiens': 1722, 'savais': 1723, 'trous': 1724, 'parlaient': 1725, 'positif': 1726, 'jeunesse': 1727, 'electionspresidentielles2022': 1728, 'larrivé': 1729, 'clown': 1730, 'malhonnête': 1731, 'assiossé': 1732, 'mafieux': 1733, 'emmène': 1734, 'désastre': 1735, 'ruine': 1736, 'engraissez': 1737, 'valeurs': 1738, 'républicaines': 1739, 'existent': 1740, 'devenues': 1741, 'idées': 1742, 'sociales': 1743, 'démocrates': 1744, 'mondialistes': 1745, 'shame': 1746, 'acabit': 1747, 'connait': 1748, 'mobilisation': 1749, 'malgré': 1750, 'propagande': 1751, 'médiatique': 1752, 'ressenti': 1753, 'détestation': 1754, 'seront': 1755, 'truquées': 1756, 'soient': 1757, 'quitterez': 1758, 'elysée': 1759, 'instruction': 1760, 'veule': 1761, '106': 1762, 'otages': 1763, 'impunité': 1764, 'inaction': 1765, 'petits': 1766, 'tombent': 1767, 'oubli': 1768, 'contradictoire': 1769, 'feras': 1770, 'vacances': 1771, 'assumez': 1772, 'passer': 1773, 'graves': 1774, 'inventer': 1775, 'bandes': 1776, 'mythomane': 1777, 'ho': 1778, 'pardon': 1779, 'violent': 1780, 'agressif': 1781, 'poutinette': 1782, 'conasse': 1783, 'zimmour': 1784, 'hidalgo': 1785, '12candidats': 1786, 'objectivité': 1787, 'step': 1788, 'responsable': 1789, 'desastreux': 1790, 'battrait': 1791, 'tymczasem': 1792, 'dostarczający': 1793, 'ciężką': 1794, 'broń': 1795, 'anti': 1796, 'votent': 1797, 'attardés': 1798, 'mentaux': 1799, 'suivent': 1800, 'considère': 1801, 'états': 1802, 'unis': 1803, 'séparer': 1804, 'still': 1805, 'sounds': 1806, 'awful': 1807, 'might': 1808, 'horses': 1809, 'were': 1810, 'coal': 1811, 'oil': 1812, 'magnificent': 1813, 'think': 1814, 'through': 1815, 'supprimer': 1816, 'redevance': 1817, 'audiovisuel': 1818, 'travaillent': 1819, 'subventionnera': 1820, 'généreusement': 1821, 'employeur': 1822, 'gauchistes': 1823, 'resteront': 1824, 'ordres': 1825, 'intérêt': 1826, 'rappelez': 1827, 'ami': 1828, 'cultes': 1829, 'avancer': 1830, 'enquête': 1831, 'rabâche': 1832, 'longueur': 1833, 'journée': 1834, 'vivons': 1835, 'laïc': 1836, 'décryptage': 1837, 'gestuelle': 1838, 'verbal': 1839, 'gars': 1840, 'commence': 1841, 'unique': 1842, 'arrogance': 1843, 'naturelle': 1844, 'cheveux': 1845, 'irréversibles': 1846, 'probablement': 1847, 'bcp': 1848, 'futures': 1849, 'mesures': 1850, 'pourra': 1851, 'reconstruire': 1852, 'émancipe': 1853, 'gouvernance': 1854, 'supra': 1855, 'ajouterais': 1856, 'tiennent': 1857, 'mandat': 1858, 'samedi': 1859, 'oubliez': 1860, 'montrer': 1861, 'cet': 1862, 'majorité': 1863, 'décider': 1864, 'espace': 1865, 'islame': 1866, 'ouvre': 1867, 'bras': 1868, 'pma': 1869, 'gpa': 1870, 'eugénisme': 1871, 'dehors': 1872, 'immigration': 1873, 'incontrôlée': 1874, 'éducation': 1875, 'rabais': 1876, 'ruralité': 1877, 'nation': 1878, 'vente': 1879, 'perte': 1880, 'culture': 1881, 'parlons': 1882, 'vrais': 1883, 'sujets': 1884, 'acces': 1885, '49': 1886, '3': 1887, 'pm': 1888, 'invoquer': 1889, 'cohabitation': 1890, 'gouvernement': 1891, 'dette': 1892, 'blablabla': 1893, 'sensé': 1894, 'complètement': 1895, 'plaque': 1896, 'putain': 1897, 'pouvais': 1898, 'débiles': 1899, 'vertical': 1900, 'farmng': 1901, 'done': 1902, 'indoors': 1903, 'using': 1904, 'plants': 1905, 'land': 1906, 'used': 1907, 'production': 1908, 'compartmentalised': 1909, 'reduce': 1910, 'pests': 1911, 'respecté': 1912, 'protéges': 1913, 'conscience': 1914, 'allant': 1915, 'serai': 1916, 'inconstitutionnelle': 1917, 'proscrite': 1918, 'reconnaissance': 1919, 'lieu': 1920, 'tenir': 1921, 'informée': 1922, 'redonner': 1923, 'sarkozy': 1924, 'karcher': 1925, 'devenus': 1926, 'islamistes': 1927, 'prenne': 1928, 'magasins': 1929, 'mosquées': 1930, 'inconvénient': 1931, 'fachisme': 1932, 'attends': 1933, 'tente': 1934, 'draguer': 1935, 'lgbt': 1936, 'envia': 1937, 'mensagem': 1938, 'apoio': 1939, 'bomba': 1940, 'nas': 1941, 'redes': 1942, 'sociais': 1943, 'opposants': 1944, 'mutilés': 1945, 'réalisons': 1946, 'michalak': 1947, 'fermer': 1948, 'partant': 1949, 'sais': 1950, 'parlent': 1951, 'bavures': 1952, 'dont': 1953, 'certains': 1954, 'honorable': 1955, 'profession': 1956, 'communautariste': 1957, 'discrétion': 1958, 'etendart': 1959, 'islamiste': 1960, 'q': 1961, 'well': 1962, 'ww2': 1963, 'history': 1964, 'philosophy': 1965, 'guy': 1966, 'looks': 1967, 'bother': 1968, 'soutiens': 1969, 'racistes': 1970, 'relechis': 1971, 'tenais': 1972, 'remercier': 1973, 'chaleureux': 1974, 'voeux': 1975, 'partage': 1976, 'belle': 1977, 'tradition': 1978, 'lundi': 1979, 'glad': 1980, 'hear': 1981, 'finally': 1982, 'arriving': 1983, 'hoping': 1984, 'help': 1985, 'free': 1986, 'civilians': 1987, 'mariupol': 1988, 'jeu': 1989, 'rôles': 1990, 'foutent': 1991, 'gueuse': 1992, 'capital': 1993, 'confirme': 1994, 'élargir': 1995, 'vals': 1996, 'raffarin': 1997, 'justement': 1998, 'tape': 1999, 'génie': 2000, 'sure': 2001, 'want': 2002, 'led': 2003, 'lit': 2004, 'factories': 2005, 'insect': 2006, 'prot8em': 2007, 'instead': 2008, 'sheep': 2009, 'cows': 2010, '8d': 2011, 'rather': 2012, 'forests': 2013, 'pheasants': 2014, 'pigs': 2015, 'though': 2016, 'update': 2017, 'banger': 2018, 'délicatesse': 2019, 'discernement': 2020, 'envoyeur': 2021, 'constat': 2022, 'conclusion': 2023, 'rigoler': 2024, 'détruire': 2025, 'sociaux': 2026, 'facisme': 2027, 'emmenez': 2028, 'chinois': 2029, 'esclaves': 2030, 'aucune': 2031, 'oublie': 2032, 'condamne': 2033, 'churchill': 2034, 'bouter': 2035, 'thèses': 2036, 'pestilentielles': 2037, 'paisible': 2038, 'prison': 2039, 'milice': 2040, 'privée': 2041, 'époque': 2042, 'forcés': 2043, 'enlever': 2044, 'banderole': 2045, 'passage': 2046, 'tabac': 2047, 'gratos': 2048, 'bonus': 2049, 'sector': 2050, 'plaisir': 2051, 'feint': 2052, 'souhaitons': 2053, 'fréquentent': 2054, 'nase': 2055, 'ignorant': 2056, 'rêver': 2057, 'plage': 2058, 'débile': 2059, 'naïf': 2060, 'peloter': 2061, 'blacks': 2062, 'sait': 2063, 'rassuré': 2064, 'entichée': 2065, 'craindre': 2066, 'pire': 2067, 'disgusting': 2068, 'polling': 2069, 'tracker': 2070, 'euractiv': 2071, 'shows': 2072, 'expected': 2073, 'lead': 2074, 'jadot': 2075, 'efa': 2076, 'pécresse': 2077, 'epp': 2078, 'rn': 2079, 'id': 2080, 'informer': 2081, 'plan': 2082, 'christ': 2083, 'déroule': 2084, 'merveille': 2085, 'satan': 2086, 'vaincu': 2087, 'golgotha': 2088, 'arrivée': 2089, 'adores': 2090, 'condamnée': 2091, 'repens': 2092, 'auprès': 2093, 'pior': 2094, 'pressidente': 2095, 'senhor': 2096, 'mentiroso': 2097, 'criminoso': 2098, 'cidadão': 2099, 'mácron': 2100, 'cuida': 2101, 'povo': 2102, 'nem': 2103, 'soberania': 2104, 'capacho': 2105, 'usa': 2106, 'emmenés': 2107, 'pénurie': 2108, 'alimentaire': 2109, 'interdiction': 2110, 'soignés': 2111, 'hiver': 2112, 'tickets': 2113, 'rationnement': 2114, 'vit': 2115, 'vivra': 2116, 'espagnol': 2117, 'socialiste': 2118, 'affaire': 2119, 'envisager': 2120, 'travailler': 2121, 'futur': 2122, 'proche': 2123, 'décidément': 2124, 'comprends': 2125, 'prie': 2126, 'moment': 2127, 'falloir': 2128, 'chasser': 2129, 'partir': 2130, 'lantend': 2131, 'slvp': 2132, 'agise': 2133, 'libre': 2134, 'engage': 2135, 'avocat': 2136, 'fonction': 2137, 'pensée': 2138, 'fille': 2139, 'di': 2140, 'vizio': 2141, 'problem': 2142, 'antisémite': 2143, 'manifester': 2144, 'oppression': 2145, 'religion': 2146, 'oppresseur': 2147, 'prêt': 2148, 'victimiser': 2149, 'alalaa': 2150, 'épouvantail': 2151, 'agite': 2152, 'échéance': 2153, 'étonne': 2154, 'connues': 2155, 'magie': 2156, 'sarko': 2157, 'procès': 2158, 'fortes': 2159, 'chances': 2160, 'aient': 2161, 'négociations': 2162, 'échange': 2163, 'europa': 2164, 'ist': 2165, 'umso': 2166, 'mehr': 2167, 'einem': 2168, 'scheideweg': 2169, 'wie': 2170, 'dieser': 2171, 'krieg': 2172, 'zeigt': 2173, 'einerseits': 2174, 'einer': 2175, 'europäischen': 2176, 'weiter': 2177, 'arbeiten': 2178, 'oder': 2179, 'irrelevance': 2180, 'verbleichen': 2181, 'der': 2182, 'letzte': 2183, 'versuch': 2184, 'seine': 2185, 'mit': 2186, 'russland': 2187, 'verbinden': 2188, 'scheiterte': 2189, 'normal': 2190, 'bain': 2191, 'foule': 2192, 'annexe': 2193, 'maghreb': 2194, 'grandissime': 2195, 'babouche': 2196, 'closer': 2197, 'winning': 2198, 'another': 2199, 'term': 2200, 'helm': 2201, 'largest': 2202, 'economy': 2203, 'runs': 2204, 'time': 2205, 'narrow': 2206, 'citing': 2207, 'her': 2208, 'supp': 2209, '2014': 2210, 'invasion': 2211, 'annexation': 2212, 'crimea': 2213, 'todos': 2214, 'sondeos': 2215, 'publicados': 2216, 'viernes': 2217, 'cierre': 2218, 'electoral': 2219, 'aseguran': 2220, 'victoria': 2221, 'ventaja': 2222, 'variable': 2223, 'puntos': 2224, 'encima': 2225, 'lol': 2226, 'venant': 2227, 'adorateur': 2228, 'gourou': 2229, 'croyait': 2230, '7': 2231, 'criminalité': 2232, 'baisse': 2233, 'nombre': 2234, 'flics': 2235, 'augmente': 2236, 'joie': 2237, 'parlais': 2238, 'attaché': 2239, 'calomnies': 2240, 'racisme': 2241, 'soirée': 2242, 'frôle': 2243, 'ridicule': 2244, 'trade': 2245, 'taunts': 2246, 'campaigning': 2247, 'ends': 2248, 'eliminalia': 2249, 'bitter': 2250, 'attacks': 2251, 'each': 2252, 'other': 2253, 'bbc': 2254, 'maîtrise': 2255, 'gauche': 2256, 'occuper': 2257, 'voterai': 2258, 'omgggggg': 2259, 'guys': 2260, 'end': 2261, 'flop': 2262, 'era': 2263, 'crainte': 2264, 'amour': 2265, 'vitesse': 2266, 'laquelle': 2267, 'envoient': 2268, 'mur': 2269, 'lent': 2270, 'keep': 2271, 'military': 2272, 'aide': 2273, 'flowing': 2274, 'résultat': 2275, 'réinvestissent': 2276, 'française': 2277, 'redistribuer': 2278, 'tenez': 2279, 'sage': 2280, 'rétablira': 2281, 'goulag': 2282, 'pote': 2283, 'arrivez': 2284, 'graand': 2285, 'maximum': 2286, 'voilées': 2287, 'laarge': 2288, 'interdire': 2289, '99': 2290, 'planète': 2291, 'singes': 2292, 'melenchonreviens': 2293, 'ateezworldtour2022': 2294, 'bfmtv': 2295, 'nimarinenilepen': 2296, 'ledebat': 2297, 'masksinger': 2298, 'inquiétez': 2299, 'ma': 2300, 'favori': 2301, 'élevé': 2302, 'ultime': 2303, 'aminata': 2304, 'dramane': 2305, 'traoré': 2306, 'duel': 2307, 'ouais': 2308, 'brillant': 2309, 'stock': 2310, 'bof': 2311, 'finalement': 2312, 'servent': 2313, 'députés': 2314, 'risquons': 2315, 'libertés': 2316, 'impôts': 2317, 'cobayes': 2318, 'muselés': 2319, 'matraqués': 2320, 'gazés': 2321, 'incarcérés': 2322, 'méprisés': 2323, 'insultés': 2324, 'cons': 2325, 'international': 2326, 'permanence': 2327, 'sensacional': 2328, 'elección': 2329, 'ª': 2330, 'encuesta': 2331, 'final': 2332, '19': 2333, '21': 2334, 'abril': 2335, '56': 2336, '44': 2337, 'élections2022': 2338, 'presidentielles': 2339, 'electionpresidentielle2022': 2340, 'secondtour': 2341, 'poll': 2342, 'rejoignez': 2343, 'mckinseymacron': 2344, 'défend': 2345, 'intérêts': 2346, 'démantèlement': 2347, 'actifs': 2348, 'publics': 2349, 'promotion': 2350, 'normalisation': 2351, 'systémique': 2352, 'finance': 2353, 'internation': 2354, 'marchés': 2355, 'réunions': 2356, 'publiques': 2357, 'échanger': 2358, 'danger': 2359, 'représente': 2360, 'influence': 2361, 'assez': 2362, 'jouissif': 2363, 'vais': 2364, 'masturber': 2365, 'pu': 2366, 'empêcher': 2367, 'balancer': 2368, 'hein': 2369, 'emmerder': 2370, 'massacres': 2371, 'génocides': 2372, 'historiens': 2373, 'reconnus': 2374, 'reconnaissent': 2375, 'sachant': 2376, 'répond': 2377, 'critères': 2378, 'génocide': 2379, 'parfaitement': 2380, 'affligeant': 2381, 'tenu': 2382, 'enjeux': 2383, 'irresponsable': 2384, 'entièrement': 2385, 'seuls': 2386, 'fameuse': 2387, 'nouvelle': 2388, 'gouverner': 2389, 'castaner': 2390, 'bled': 2391, 'puisque': 2392, 'bosse': 2393, 'trouble': 2394, 'ordre': 2395, 'mdr': 2396, 'prions': 2397, 'évidement': 2398, 'réalisateur': 2399, 'film': 2400, 'puis': 2401, 'oscar': 2402, 'auront': 2403, 'sex': 2404, 'chain': 2405, 'œuvre': 2406, 'divertissement': 2407, 'voila': 2408, 'certainement': 2409, 'subir': 2410, 'prochainement': 2411, 'saisit': 2412, 'commission': 2413, 'contrôle': 2414, 'diffusion': 2415, 'sms': 2416, 'élection': 2417, 'référendum': 2418, 'écologie': 2419, 'repasse': 2420, 'déchirure': 2421, 'autorisée': 2422, 'muchas': 2423, 'gracias': 2424, 'invitación': 2425, 'analizar': 2426, 'elecciones': 2427, 'presidenciales': 2428, 'presenta': 2429, 'hoy': 2430, 'acuerdo': 2431, 'una': 2432, 'serie': 2433, 'encuestas': 2434, 'posibilidad': 2435, 'need': 2436, 'outcome': 2437, 'crucial': 2438, 'reverberate': 2439, 'pouvez': 2440, 'rajouter': 2441, 'légèrement': 2442, 'handicapés': 2443, 'bescherelle': 2444, 'constante': 2445, 'potes': 2446, 'ravie': 2447, 'complimenter': 2448, 'gorges': 2449, 'profonde': 2450, 'actu': 2451, 'rap': 2452, 'demeuré': 2453, 'espoir': 2454, 'règne': 2455, 'maître': 2456, 'soins': 2457, 'tortionnaire': 2458, 'privé': 2459, 'brime': 2460, 'spécialement': 2461, 'âgées': 2462, 'nourrir': 2463, 'proprement': 2464, 'société': 2465, 'manu': 2466, 'incapable': 2467, 'su': 2468, 'accords': 2469, 'pleurer': 2470, 'décide': 2471, 'régler': 2472, 'problème': 2473, 'songer': 2474, 'taire': 2475, 'pures': 2476, 'bêtises': 2477, 'double': 2478, 'ration': 2479, 'jmlp': 2480, 'sache': 2481, 'références': 2482, 'datent': 2483, 'déroulé': 2484, 'tapis': 2485, 'rouge': 2486, 'accueillis': 2487, 'grandes': 2488, 'pompes': 2489, 'agenouillé': 2490, 'participé': 2491, 'rendre': 2492, 'acceptable': 2493, 'banale': 2494, 'divizio': 2495, 'aberkane': 2496, 'blague': 2497, 'ete': 2498, 'ecoeuree': 2499, 'facon': 2500, 'proceder': 2501, 'vérolé': 2502, 'continu': 2503, 'ancien': 2504, 'militant': 2505, 'mpf': 2506, 'rpr': 2507, 'renierai': 2508, 'aimer': 2509, 'souveraine': 2510, 'lutterai': 2511, 'sociale': 2512, 'macroniste': 2513, 'faute': 2514, 'conduit': 2515, 'né': 2516, 'précieux': 2517, 'avons': 2518, 'cause': 2519, 'refuse': 2520, 'débats': 2521, 'assène': 2522, 'minimum': 2523, 'obligatoire': 2524, 'faible': 2525, 'médiocre': 2526, 'cacher': 2527, 'arrogant': 2528, 'anna': 2529, 'wintour': 2530, 'classe': 2531, 'cher': 2532, 'sincères': 2533, 'salutations': 2534, 'belles': 2535, 'fêtes': 2536, 'insister': 2537, 'cru': 2538, 'détourner': 2539, 'coup': 2540, 'répondra': 2541, 'emotional': 2542, 'skill': 2543, 'hausse': 2544, 'gère': 2545, 'fou': 2546, 'florissante': 2547, 'vendu': 2548, 'étrangers': 2549, 'dupe': 2550, 'bisexuel': 2551, 'benalla': 2552, 'occupes': 2553, 'coeur': 2554, 'courage': 2555, 'rdv': 2556, 'davos': 2557, 'schwab': 2558, 'crédit': 2559, 'chinoise': 2560, 'facho': 2561, 'affirmer': 2562, 'taxe': 2563, 'habitation': 2564, 'dû': 2565, 'expliquez': 2566, 'payons': 2567, 'souhaiter': 2568, 'trois': 2569, 'teammacron': 2570, 'connus': 2571, 'xocali': 2572, 'exemple': 2573, 'azeris': 2574, 'azerbaycan': 2575, 'sud': 2576, 'choses': 2577, 'bouger': 2578, 'traitre': 2579, 'tousunis': 2580, 'manifestant': 2581, 'traîné': 2582, 'strasbourg': 2583, 'bizarrement': 2584, 'chuuut': 2585, 'speak': 2586, 'speaking': 2587, 'foreign': 2588, 'talking': 2589, 'banker': 2590, 'terminéé': 2591, 'discours': 2592, 'baltringue': 2593, 'coluche': 2594, 'connais': 2595, 'croise': 2596, 'hommes': 2597, 'chevelure': 2598, 'tentation': 2599, 'sexuelle': 2600, 'voit': 2601, 'mollets': 2602, 'éventuellement': 2603, 'poilus': 2604, 'tomberait': 2605, 'pâmoison': 2606, 'remballe': 2607, 'jean': 2608, 'castex': 2609, 'côtés': 2610, 'macrondegage': 2611, 'passdelahonte': 2612, 'vaccinesideeffects': 2613, 'vaccination': 2614, 'mesurer': 2615, 'internes': 2616, 'activité': 2617, 'environnementaux': 2618, 'vitaux': 2619, 'captation': 2620, 'eau': 2621, 'maintient': 2622, 'sols': 2623, 'biodiversité': 2624, 'approche': 2625, 'éborgner': 2626, 'arracher': 2627, 'visages': 2628, 'mão': 2629, 'alcoólatra': 2630, 'igual': 2631, 'effet': 2632, '3ème': 2633, 'dose': 2634, 'dessous': 2635, 'égaux': 2636, 'virtuoses': 2637, 'champions': 2638, 'mémoire': 2639, 'pib': 2640, 'investissement': 2641, '100mds': 2642, 'assurée': 2643, 'mettons': 2644, '25': 2645, '50mds': 2646, 'budget': 2647, 'suffisent': 2648, 'début': 2649, 'mismos': 2650, 'protagonistas': 2651, 'pero': 2652, 'cambio': 2653, 'evidente': 2654, 'roles': 2655, 'francés': 2656, 'enfrentaron': 2657, 'pasado': 2658, 'miércoles': 2659, 'televisivo': 2660, 'segunda': 2661, 'celebrará': 2662, 'jeter': 2663, 'œil': 2664, 'curiosité': 2665, 'vérifier': 2666, 'écart': 2667, '2002': 2668, 'dramatique': 2669, '12': 2670, 'votants': 2671, 'tranche': 2672, '18': 2673, 'avait': 2674, '59': 2675, 'euh': 2676, 'identifier': 2677, 'facilement': 2678, 'volais': 2679, 'principale': 2680, 'enlève': 2681, 'capuche': 2682, 'appelait': 2683, 'fred': 2684, 'josé': 2685, 'vigiles': 2686, 'raclure': 2687, 'bidet': 2688, 'larrive': 2689, 'cartas': 2690, 'están': 2691, 'echadas': 2692, 'candidato': 2693, 'lanzaron': 2694, 'dardos': 2695, 'vísperas': 2696, 'jornada': 2697, 'reflexión': 2698, 'według': 2699, 'macrona': 2700, 'można': 2701, 'dostarczać': 2702, 'ciężkiej': 2703, 'broni': 2704, 'ukrainę': 2705, 'jeśli': 2706, 'chcę': 2707, 'się': 2708, 'być': 2709, 'celem': 2710, 'ataku': 2711, 'stroną': 2712, 'współuczestniczącą': 2713, 'w': 2714, 'wojnie': 2715, 'wojna': 2716, 'ukrainawar': 2717, 'russiaukrainewar': 2718, 'polska': 2719, 'eborgnés': 2720, 'protéger': 2721, 'parc': 2722, 'équilibrer': 2723, 'leurs': 2724, 'comptes': 2725, 'retrouvent': 2726, 'marchands': 2727, 'exit': 2728, 'protection': 2729, 'explique': 2730, 'taux': 2731, 'suicide': 2732, 'rentabilité': 2733, 'derniers': 2734, 'déplacements': 2735, 'affrontés': 2736, 'distance': 2737, 'verdict': 2738, 'premie': 2739, 'portrait': 2740, 'souriant': 2741, 'mackinsey': 2742, 'machin': 2743, 'sempre': 2744, 'cortou': 2745, 'dedo': 2746, 'pra': 2747, 'ganhar': 2748, 'dinheiro': 2749, 'bosta': 2750, 'mandou': 2751, 'às': 2752, 'vésperas': 2753, 'das': 2754, 'eleições': 2755, 'francesas': 2756, 'pesquisas': 2757, 'mostram': 2758, 'frente': 2759, 'rival': 2760, 'com': 2761, '15': 2762, 'pontos': 2763, 'percentuais': 2764, 'diferença': 2765, 'version': 2766, 'karaoke': 2767, 'ainsi': 2768, 'chambre': 2769, 'wan': 2770, 'derrrrr': 2771, 'luuuuuuust': 2772}\n"
          ]
        }
      ]
    },
    {
      "cell_type": "code",
      "source": [
        "#Tokenize the words on each sentence\n",
        "Tokenize_the_words = []\n",
        "for sentence in example :\n",
        "  r = [vocab_to_int[w] for w in sentence.split()]\n",
        "  Tokenize_the_words.append(r)\n",
        "print (Tokenize_the_words[0:500])"
      ],
      "metadata": {
        "colab": {
          "base_uri": "https://localhost:8080/"
        },
        "id": "QyBPssT9MlpD",
        "outputId": "f2e16b95-6ca1-4d85-d66a-6433eb51c6f4"
      },
      "execution_count": 284,
      "outputs": [
        {
          "output_type": "stream",
          "name": "stdout",
          "text": [
            "[[803], [8, 435, 804, 805, 232, 293, 806], [72, 105, 1, 2, 436, 70, 233, 807, 90, 808, 136, 90, 809, 41, 91], [85, 47, 810, 234, 41, 7, 3, 98, 92, 3, 5, 811, 136, 2, 812, 1, 64], [166, 3, 137, 11, 66, 813, 294, 39, 2, 437], [814], [815, 438, 56, 46, 6, 439, 40, 6, 23, 11, 49, 106, 20, 15, 816, 1, 80, 817], [5, 295, 818, 4, 440, 1, 154, 819, 76, 441, 12, 820, 442, 4, 167, 41, 91, 86, 821, 8, 822, 23, 43, 57, 6, 73, 823, 76, 18, 824, 443, 443, 43, 93, 23, 99, 825, 10, 92, 12, 199, 826, 77, 70, 5, 112], [444, 1, 445, 827], [828, 829, 446, 447, 448, 94], [], [235, 1, 2, 48, 57, 43, 830, 5, 449, 53, 831, 1, 450, 10, 12, 168, 95, 12, 832, 451, 235, 57, 43, 452, 12, 833, 87, 12, 834, 10, 835, 836, 1, 48, 56, 46, 6, 67, 5, 453, 1, 12, 168, 69, 18, 837, 451, 86], [107, 454], [7, 3, 838, 296, 138, 236, 121, 64, 5, 54, 839, 1, 840, 841, 842, 843, 455, 456, 457, 844, 845, 1, 297, 200, 846, 847, 138, 848, 849, 850, 458, 122, 851], [852, 853], [854, 855, 459, 1, 56, 856], [11, 857, 100, 10, 2, 858, 1, 237], [40, 6, 58, 47, 859, 139, 10, 238], [2, 460, 298, 860, 40, 6, 2, 299, 44, 861, 41, 862, 461, 53, 300, 462, 8, 10, 863, 2, 864, 44, 865, 866, 69, 56, 867, 41, 868, 5, 463, 40, 6, 50, 869], [20, 23, 51, 10, 301, 302, 40, 6, 870, 8, 871], [57, 464, 40, 6, 77, 92, 39, 3], [872, 64], [52, 11, 873, 18, 874, 465, 8, 466, 467, 1, 2, 169, 78, 11, 113, 875, 44, 876, 4, 2, 170, 21, 113, 877, 1, 878, 50, 239, 61, 56, 23, 11, 879, 880, 468, 39, 5, 303, 3, 52, 11, 881, 59, 43, 93, 882, 240, 171], [883, 53, 884], [], [4, 469, 885, 304, 305, 88, 886, 887, 62, 4, 888, 889, 890], [306, 43, 123, 12, 470, 53, 891, 96, 97, 4, 172, 8, 4, 892, 893, 4, 894], [293, 173, 41, 201, 51, 67, 114, 895, 2, 48, 49, 6, 20, 47, 896, 471, 45, 12, 4, 124, 202, 8, 45, 5, 97, 124, 43, 203, 140, 23, 51, 897], [898, 43, 93, 79, 174, 21, 307, 59, 15, 308, 175, 49, 6, 20, 73, 39, 472, 18, 899, 46, 473, 204, 73, 176, 171, 8, 46, 45, 474, 5, 175, 23, 39, 475, 176, 171, 900, 12, 199, 42, 57, 21, 901, 18, 902, 40, 6, 2, 903, 1, 309], [2, 904, 49, 905, 115, 8, 52, 108], [43, 906, 70, 5, 112, 101, 20, 11, 63, 56, 46, 6, 476, 40, 6, 23, 78, 51, 11, 241, 51, 11, 907, 78, 51, 241, 44, 477, 1, 74, 908, 1, 909, 910, 8, 99, 21, 205, 911, 42, 11, 912, 206, 310], [8, 125, 126, 478, 1, 913, 1, 2, 914], [], [311, 72, 915, 916, 72, 479], [917, 127, 5, 112, 81, 918, 919, 15, 242, 136, 141, 4, 177, 920, 480, 137, 312, 921], [27, 28, 31, 32, 4, 33, 13, 34, 35, 22, 29, 25, 19, 24, 26, 7, 3, 14, 36, 16, 37, 30, 17, 9, 38], [27, 28, 31, 32, 4, 33, 13, 34, 35, 22, 29, 25, 19, 24, 26, 7, 3, 14, 36, 16, 37, 30, 17, 9, 38], [27, 28, 31, 32, 4, 33, 13, 34, 35, 22, 29, 25, 19, 24, 26, 7, 3, 14, 36, 16, 37, 30, 17, 9, 38], [42, 57, 21, 922, 1, 2, 128, 52, 481, 923, 10, 313, 482, 67, 314, 924, 1, 483, 8, 12, 925, 113, 926, 47, 927, 8, 928, 12, 929, 6, 315, 1, 484, 485, 1, 60, 486, 137, 11, 66, 301, 69, 142, 487, 930, 42, 21, 129, 20], [931, 40, 6, 932, 15, 933, 41, 178], [488], [43, 93, 934, 1, 935, 4, 46, 43, 81, 4, 21, 139, 63, 489, 79, 21, 936, 23, 11, 490, 67, 2, 491, 179, 44, 492, 89, 83, 316, 493, 42, 4, 12, 317, 1, 57, 21, 937, 53, 318, 1, 938, 939, 8, 11, 243, 18, 940, 2, 116, 83, 494, 79], [941, 24, 244, 94, 17, 319, 207, 495, 108, 42, 208, 207, 62, 496, 942, 14, 496, 497, 130, 62, 943, 68, 245, 4, 497, 48, 944, 207], [40, 6, 79, 246, 1, 945, 498, 18, 320, 63, 43, 93, 18, 946, 180, 947, 23, 56, 948, 15, 499, 462, 180, 247, 498, 18, 320, 306, 949, 950, 180, 500, 18, 951], [7, 3, 62, 4, 952, 953, 954, 955, 9, 956, 13, 957, 181, 958, 88, 959, 960, 62, 9, 321, 961, 68, 182, 22, 501, 62, 962, 143, 963, 248, 7, 3, 322, 2, 169, 21, 502], [964, 42, 57, 21, 503, 504, 8, 489, 5, 39, 11], [2, 965, 1, 966, 505, 506, 61, 323, 45, 203, 96, 204, 20, 21, 502, 183, 209, 117, 967, 968, 969], [507, 970, 8, 23, 238, 971, 437, 972, 973, 974, 975], [166, 5, 102, 52, 976, 11, 977, 55, 11, 109, 77, 181, 1, 978, 18, 979, 55, 11, 980, 102], [981, 234, 982, 144, 16, 983, 984, 42, 9, 324, 155, 22, 985, 325, 24, 26, 7, 3, 14, 326, 321, 986, 64, 5, 54], [98, 987], [249, 23, 118, 210, 57, 988, 99, 989, 10, 145, 990, 7, 3, 63, 86, 991, 992, 508, 91, 993, 23, 55, 184, 1, 994, 509, 202, 995, 10, 118, 996, 997, 46, 998, 510, 12, 110, 44, 156, 999, 1000, 327], [40, 6, 67, 56, 1001, 1002, 510, 95, 21, 211, 1, 1003, 59, 7, 3, 4, 511, 5, 512, 44, 1004, 146, 55, 513, 514, 21, 177, 5, 515, 18, 1005, 1006, 1007, 1008, 1, 516, 2, 328, 1, 2, 517, 329], [5, 122, 518, 519, 250, 1009, 10, 251, 185, 23, 5, 1010, 509, 1011, 76, 2, 1012, 8, 2, 1013, 1, 1014, 147, 252, 185, 23, 2, 48, 186, 96, 84, 1015, 12, 1016, 1, 1017, 1018, 61, 513, 514, 8, 506, 61, 7, 3, 1019, 520, 253], [244, 9, 1020, 330, 62, 521, 1021, 130, 62, 143, 485, 212, 331, 332, 1022, 68, 1023, 212, 130, 62, 143, 1024, 9, 499, 68, 108, 88, 3], [1025, 119, 1026, 1027, 1028, 25, 9, 330, 325, 3, 14, 5, 54, 16, 9, 1029, 522, 130, 62, 1030, 68, 523, 212, 213, 332, 1031, 42, 9, 524, 17, 1032, 68, 108, 88, 3, 68, 1033, 5, 54, 181, 1034, 1035, 3], [333, 21, 1036, 1037, 1, 103, 1038, 1039, 61, 12, 1040, 334, 1, 335, 1041, 98, 525, 526, 1042], [1043, 1044, 1045, 4, 7, 3, 1046, 1047, 1048, 1049, 1050, 1051, 121, 1052, 12, 1053, 1054, 1055, 1056, 336, 1057, 1058], [5, 58, 1059, 6, 23, 141, 49, 6, 53, 337, 1, 118, 527, 21, 48, 11, 137, 86, 1060, 1061, 56, 1062, 1, 1063], [72, 254, 1064, 53, 1065, 1, 518, 98, 39, 1066, 80, 338], [63, 1067, 21, 1068, 125, 42, 57, 21, 339, 1, 214, 340, 148, 1069], [341, 182, 94, 1070, 1071, 1072, 16, 1073, 13, 528, 1074, 72, 212, 1075, 68, 1076, 1077, 14, 529, 9, 530, 14, 1078, 1079, 248, 9, 1080, 342, 1081, 1082, 1083, 68, 24, 1084, 16, 255, 157, 1085, 343], [145, 1086], [131, 1087, 42, 60, 494, 2, 1088, 49, 6, 56, 20, 531], [27, 28, 31, 32, 4, 33, 13, 34, 35, 22, 29, 25, 19, 24, 26, 7, 3, 14, 36, 16, 37, 30, 17, 9, 38], [215, 216, 67, 5, 1089, 7, 3, 60, 73, 12, 1090, 41, 47, 48, 1091, 4, 12, 317, 1, 154, 344, 532, 1, 210, 345, 5, 217, 158, 50, 1092, 1093, 10, 346, 5, 102, 303, 4, 533, 60, 66, 5, 89, 1094, 1, 64], [43, 6, 1095, 214, 534, 104], [11, 106, 1, 1096, 471, 11, 106, 47, 256, 42, 11, 167, 10, 11, 535, 55, 74, 142, 340, 42, 57, 21, 347, 107], [7, 3, 121, 64, 5, 54, 1097, 10, 1098, 138, 236, 1099, 536, 537, 1100, 1, 297, 1101, 1102, 1103, 1104, 1105, 455, 456, 457, 187, 1106, 1107], [55, 42, 348, 2, 48, 42, 108, 64, 5, 54], [55, 124, 5, 54, 6, 1108, 52, 438, 5, 1109, 39, 11], [157, 538, 1110, 130, 1111, 68, 1112, 9, 1113, 1114, 13, 19, 1115, 9, 1116, 1117, 257, 245, 187, 1118, 181, 68, 539, 68, 1119, 19, 16, 9, 139, 13, 540, 1120], [258, 126, 1121, 8, 444, 1, 66, 541, 40, 6, 349, 542, 61, 141], [40, 1122, 1123, 50, 1124, 45, 11, 1125, 20, 10, 51, 5, 122, 1126, 39], [131, 350, 63, 188, 49, 21, 1127, 20, 74, 58, 43, 129, 66, 1128, 12, 19, 8, 51, 45, 1129, 20, 41, 543, 544], [351, 44, 1130, 41, 15, 1131, 76, 15, 1132, 40, 6, 77, 1133, 46, 352, 1, 1134, 2, 1135], [21, 1136, 1137, 1138, 5, 1139, 1140, 1141, 139, 10, 47, 1142, 21, 1143, 1144, 2, 1145, 5, 148, 353, 1146, 53, 1147, 44, 1148, 115, 41, 199, 4, 1149, 70, 1, 84], [1150], [1151, 1152, 1153], [20, 50, 70, 2, 84, 1154, 8, 1155, 23, 11, 40, 6, 2, 354, 545, 46, 129, 259, 8, 1156, 247, 8, 12, 211, 41, 546, 1, 547, 46, 2, 1157, 312, 1158], [], [21, 548, 5, 1159, 1, 70, 18, 549, 1160], [142, 218, 11, 1161, 149, 3, 1162, 5, 449], [], [3, 6, 15, 1163, 1164, 61, 12, 260, 8, 12, 110], [1165, 55, 42, 550, 1166, 47, 1167, 1168, 72, 1169, 20, 207, 70, 51, 12, 19, 10, 20, 355, 18, 356, 1, 551], [7, 3, 42, 552, 119, 311, 72, 553, 16, 4, 357, 554, 555], [], [55, 5, 54, 205, 124, 114, 219, 45, 347], [], [84, 55, 188, 49, 4, 20, 18, 556, 1170, 1, 358, 1, 12, 19, 8, 85, 206, 1, 60, 1171, 10, 12, 260, 1172, 103, 557, 82, 49, 1173, 20, 1174, 39, 1175, 1, 359, 95, 2, 48, 1176, 360, 1177, 103, 558, 69, 15, 1178, 559], [351, 560], [1179, 82, 1180, 79, 66, 1181, 1, 20, 1182, 159, 1183, 1184], [79, 1185, 49, 4, 124, 1186, 118, 328, 132, 74, 58, 41, 220, 1187, 23, 83, 43, 57, 21, 339], [27, 28, 31, 32, 4, 33, 13, 34, 35, 22, 29, 25, 19, 24, 26, 7, 3, 14, 36, 16, 37, 30, 17, 9, 38], [11, 113, 243, 1188, 55, 52, 108, 56, 97, 361, 52, 45, 1189, 20, 2, 1190, 50, 1191, 1192, 1193, 316], [561, 67, 126, 1194, 18, 1195, 1196, 1197, 1198, 44, 1199, 1200, 8, 57, 1201, 1202, 44, 1203, 1, 1204, 95, 562, 46, 1205, 1, 5, 362, 1206, 132, 1207, 5, 563], [7, 3, 1208, 64, 5, 54, 13, 1209, 42, 1210, 189, 221, 564, 525], [12, 1211, 76, 5, 1212, 1213, 49, 6, 20, 21, 1214, 42, 1215, 57, 43, 6, 565, 7, 3, 53, 1216, 1217, 97], [201, 15, 546, 1218, 40, 6, 79, 63, 57, 1219, 345, 40, 6, 79, 86], [18, 1220, 40, 6, 566, 43, 4, 18, 363, 1, 57, 1221, 39, 15, 120, 567, 39, 83, 39, 114, 568, 39, 114, 569], [2, 1222, 44, 1223, 5, 1224, 1, 1225, 1226, 1, 11, 12, 1227, 63, 40, 1228, 79, 44, 1229, 1230, 61, 44, 1231, 76, 44, 570, 78, 42, 364, 23, 1232, 4, 1233, 10, 2, 517, 1, 1234, 15, 1235, 1236, 131, 159, 156, 120, 51, 8, 1237, 40, 6, 47, 527], [1238, 5, 122, 178, 43, 459, 42, 108, 127, 64, 5, 54, 5, 122, 178, 261, 108, 39, 7, 3, 310, 1239], [11, 11, 1240, 55, 11, 365, 23, 51, 75, 65, 1241, 2, 366, 51, 75, 190, 1242, 47, 116, 1243, 15, 44, 1244, 1245, 1246, 46, 6, 222, 1, 2, 571, 1, 3, 21, 147, 133], [40, 6, 262, 59, 96, 1247, 1248, 70, 5, 112, 1, 167, 45, 20, 1249, 18, 367, 1250, 10, 47, 263, 1, 2, 572, 46, 45, 60, 1251, 20, 10, 114, 573, 1252, 18, 1253, 67, 2, 264, 8, 1254, 131, 240, 574, 5, 58, 1, 239, 575, 351, 1255], [1256, 72, 254, 46], [3, 1257, 2, 48], [2, 128, 75, 576, 12, 110, 8, 47, 263, 50, 112, 67, 5, 1258, 1259, 21, 577, 1260, 65, 1261, 1262, 1263, 100, 59, 43, 1264, 41, 47, 223, 87, 41, 47, 199, 41, 220, 2, 1265, 1266, 1267, 45, 1268, 20, 1269, 74, 58], [1270, 215, 216, 12, 1271, 1272, 50, 175, 41, 131, 156, 1273, 1274, 1275, 2, 1276, 10, 259, 5, 102, 7, 3, 4, 1277, 2, 1278, 1279, 18, 570, 59, 47, 368, 219, 1280, 83], [539, 41, 91, 1281, 63, 2, 571, 1282, 578, 72, 254, 1283], [149, 579, 149], [150, 64, 5, 54, 1284, 7, 3, 16, 9, 580, 581], [1285, 582, 1, 76, 5, 1286, 59, 6, 7, 3, 99, 1287, 70, 5, 112, 10, 2, 475], [53, 1288, 40, 6, 15, 1289, 583, 369, 370, 55, 51, 123, 1290, 10, 126, 265], [224, 111, 11, 266, 70, 247, 23, 191, 11, 11, 266, 84, 247, 23, 18, 584, 267, 84, 1291], [578], [4, 1292, 1293, 1294, 150, 192, 9, 24, 155, 580, 581, 42, 208, 325, 7, 3, 14, 64, 5, 54, 9, 522, 1295, 26, 3, 1296, 1297, 1298, 68, 1299, 1300, 181, 585, 446, 586, 1301, 304, 370, 4, 3, 1302, 150, 192, 4, 1303, 88, 1304, 1305], [587, 79, 204, 1306, 1, 1307, 40, 6, 83, 46, 4, 588, 5, 589, 40, 6, 83, 46, 4, 1308, 12, 19], [1309, 13, 1310, 1311, 590, 119, 1312, 16, 4, 1313, 1314, 16, 1315, 591, 1316, 1317, 1318, 1319, 1320, 592, 1321, 72, 245, 68, 1322, 1323, 1324, 593, 1325, 1326, 1327], [134, 187, 594, 595, 1328, 371, 1329, 7, 3, 1330, 64, 5, 54, 1, 1331, 187, 1332, 1, 1333, 225, 268, 596, 1334, 1335, 138, 597, 598, 182, 1336, 1337, 268, 269, 1, 1338, 23, 4, 597, 1339, 1340, 138, 297, 270, 113, 1341, 372, 370, 1342, 3], [40, 6, 262, 51, 5, 1343, 599, 74, 599, 6, 61, 89, 1344, 600, 1345, 44, 584, 373, 176, 1346, 1347, 40, 6, 262, 23, 40, 6, 78, 84, 206, 1348, 23, 373, 2, 1349, 1, 1350, 43, 81, 4, 47, 1351, 67, 18, 1352, 59, 43, 93, 355], [253, 3, 1353, 5, 54, 1, 1354, 1355, 1356, 121, 62, 1357, 601], [148, 1358], [45, 602, 20, 23, 11, 1359, 2, 48, 21, 1360, 180, 603, 46, 369, 147, 133, 2, 1361, 10, 2, 1362, 52, 604, 23, 180, 11, 2, 264, 49, 6, 23, 1363, 23, 5, 172, 49, 6, 59, 15, 1364, 23, 1365, 15, 1366, 8, 1367, 15, 1368, 45, 71, 23, 44, 1369, 1370], [40, 6, 1371, 51, 73, 147, 133, 23, 18, 1372, 60, 1373, 57, 82, 71, 1374, 8, 79, 58, 55, 42, 45, 60, 339, 20, 15, 184, 1, 176, 170], [69, 12, 1375, 74, 70, 18, 484, 1376], [107, 39, 56, 1377], [118, 116, 65, 241, 1378, 10, 58, 41, 15, 1379, 20, 5, 140, 1, 70, 1380, 2, 48, 605, 606, 15, 607, 559, 53, 608, 1, 12, 19, 20, 1, 1381, 53, 374, 18, 558, 1382, 56, 375, 63, 43, 376, 53, 1383, 358, 1, 12, 260, 39, 51], [], [40, 6, 222, 2, 609, 1384, 8, 40, 6, 18, 1385, 8, 2, 1386, 41, 1387, 1, 2, 210, 1, 1388, 1389, 11, 15, 184, 41, 1390, 1391, 123, 11, 66, 15, 1392], [1393, 1394, 151, 377, 271, 10, 126, 1395, 59, 96, 610, 378, 21, 611, 612, 8, 125, 86, 61, 2, 84, 317, 1396], [27, 28, 31, 32, 4, 33, 13, 34, 35, 22, 29, 25, 19, 24, 26, 7, 3, 14, 36, 16, 37, 30, 17, 9, 38], [59, 96, 610, 378, 21, 611, 612, 118, 256, 1397], [308, 1398, 1399, 50, 120, 1400, 10, 346, 2, 1401, 5, 54], [189, 1402, 9, 613, 62, 1403, 42, 528, 9, 1404, 135, 119, 1405, 1406, 1407, 1408, 94, 1409, 1410, 1411, 304, 1412, 1413, 62, 1414], [110, 1415, 116, 21, 19, 145, 272, 379, 1, 2, 160, 1416, 1417, 61, 7, 3], [77, 100, 78, 11, 161, 1418, 575, 18, 1419, 59, 42, 222, 152, 1420, 50, 1421, 179, 614, 71, 1422, 1423, 380, 1424], [], [63, 40, 6, 100, 56, 1425, 11, 1426, 533, 59, 43, 1427, 100, 472, 47, 141, 59, 43, 45, 1428, 84, 20, 1, 45, 20, 5, 66], [40, 6, 12, 1429, 1, 242, 1430, 46, 4, 222, 5, 242, 43, 4, 202, 1431, 220, 55, 51, 11, 73], [43, 6, 1432, 1, 66, 335, 21, 147, 133], [], [145, 1433, 615, 12, 47, 615, 12, 199, 616, 617], [1434, 244, 94, 182, 143, 226, 343, 17, 1435, 157, 9, 618, 9, 147, 1436, 105, 257, 469, 1437, 619, 1438, 1439, 17, 620, 189, 1440, 1441, 1442, 14, 117, 22, 62, 381, 273, 22, 62, 88, 1443, 1444, 332, 523, 257, 17, 1445, 1446, 227, 1447, 134, 327], [], [], [1448, 1, 378, 10, 382, 11, 1449, 23, 2, 219, 49, 6, 115, 162, 2, 573, 8, 12, 621, 99, 193, 1450, 76, 12, 1451, 1, 1452, 1453, 18, 1454, 1455, 1456, 12, 1457, 515, 1458, 63, 18, 350, 1459, 40, 6, 235], [27, 28, 31, 32, 4, 33, 13, 34, 35, 22, 29, 25, 19, 24, 26, 7, 3, 14, 36, 16, 37, 30, 17, 9, 38], [8, 2, 1460, 1, 1461, 23, 214, 1462, 6, 1463, 1, 274], [132, 1464, 64, 1465, 1, 118, 383, 1, 3, 46, 275, 1466, 4, 47, 116, 1467, 622, 83, 43, 75, 60, 1468, 44, 23, 114, 75, 1469], [47, 1470, 1471, 382, 45, 57, 6, 20, 73, 21, 15, 384], [1472, 1473, 6, 86, 319, 3, 23, 1474, 1475, 6, 319, 276], [48, 62, 1476, 1477, 144, 1478, 1479, 13, 1480, 1481, 385, 357, 1482, 1483, 68, 19, 15, 228, 107, 53, 102, 1, 2, 169], [277, 16, 9, 1484, 1485], [4, 386, 59, 43, 1486, 12, 1487, 1, 1488, 623, 23, 93, 20, 1489, 78, 84], [11, 113, 243, 173], [21, 1490, 232, 2, 338, 39, 47, 110, 1491, 8, 545, 137, 137, 48], [1492, 1493, 3, 8, 71, 1494, 39, 2, 1495, 44, 1496, 43, 93, 1497, 18, 1498], [2, 1499, 1, 1500, 1501, 41, 7, 3, 1502, 21, 134, 1503], [15, 1504, 387, 87, 42, 72, 624, 388, 125, 78, 18, 353, 473, 1505, 41, 15, 295, 625, 87, 42, 72, 626, 10, 389, 1506, 89, 56, 625, 623, 23, 1507, 5, 1508, 45, 129, 20, 8, 87, 90, 1509, 1510, 1511, 10, 1512, 133, 39, 390, 2, 1513, 1, 159, 367, 353, 246, 627], [1514, 1, 7, 3, 1515, 1516], [52, 83, 1517, 1, 391], [145, 628, 151, 392, 1518, 3], [629, 630, 13, 393, 1519, 630, 13, 393, 381, 213, 1520, 13, 393, 342, 394, 245, 395, 1521, 1522, 479, 1523, 188, 1524, 130, 1525], [631, 1526, 632, 631, 1527, 1528, 1529, 1530, 1531, 1532, 1533, 1534, 1535, 1536, 1537, 1538, 1539, 1540, 1541, 1542, 1543, 1544, 633, 1545, 1546, 1547, 1548, 1549, 633, 1550, 632, 1551, 1552, 1553, 1554, 1555], [48, 1556, 634, 1557, 42, 22, 1558, 62, 22, 341, 194, 3, 94, 1559, 157, 189, 396, 213, 591, 635, 144, 1560, 1561, 17, 396, 213, 636, 30], [93, 43, 85, 23, 238, 278, 21, 216, 2, 1562, 8, 2, 229, 65, 1563, 23, 74, 1564, 1, 142, 363, 637], [1565, 1566, 228, 1567, 18, 230, 21, 116, 11, 1568, 18, 1569, 4, 11, 66, 1570, 608, 638, 41, 1571, 1572, 23, 2, 128, 1573, 47, 1574, 1575], [4, 639, 39, 639, 18, 1576, 1577, 8, 7, 3, 1578, 8, 1579, 1580, 221], [279, 359, 1, 92, 89, 64, 5, 54, 227, 279, 359, 1, 92, 39, 7, 3], [27, 28, 31, 32, 4, 33, 13, 34, 35, 22, 29, 25, 19, 24, 26, 7, 3, 14, 36, 16, 37, 30, 17, 9, 38], [111, 8, 1581, 21, 116, 69, 2, 128, 1582, 1583], [27, 28, 31, 32, 4, 33, 13, 34, 35, 22, 29, 25, 19, 24, 26, 7, 3, 14, 36, 16, 37, 30, 17, 9, 38], [], [], [43, 6, 1584, 77, 205, 140], [331, 17, 640, 273, 1585, 1586, 62, 1587, 4, 195, 1588, 105, 4, 305, 1589, 14, 94, 17, 1590, 1591, 25], [1592, 1593, 25, 1594, 1595, 394, 280, 1596, 248, 9, 1597, 1598, 88, 4, 29, 14, 1599, 1600, 1601, 1602, 1603, 394, 57, 1604, 42, 1605, 1606, 1607, 4, 1608, 14, 586, 1609, 4, 1610, 13, 1611, 157, 9, 1612, 1613], [15, 228, 1614], [], [1615, 1616, 270, 641, 1617, 1618, 187, 1619, 4, 1620, 270, 196, 1621, 1, 2, 1622], [44, 642, 8, 44, 642, 1, 643, 1, 1623, 11, 106, 127, 1624], [9, 336, 62, 4, 1625, 1626, 1627, 1628, 590, 1629, 592], [], [148, 10, 483, 18, 1630, 1631, 1632, 5, 397, 7, 3, 221], [56], [40, 6, 262, 59, 43, 6, 1633, 56, 607, 1634, 42, 45, 5, 1635, 124, 1636, 520, 41, 1637, 99, 550, 1638, 8, 42, 1639, 86, 2, 1640, 1, 154, 644, 67, 5, 74, 1641, 44, 1642, 1643, 46, 65, 4, 1644, 67, 47, 368, 328, 1, 1645], [87, 184, 398, 46, 41, 131, 11, 97, 1646, 121, 42, 75, 11, 362, 2, 1647, 179, 147, 133, 67, 2, 491, 1648, 1649, 8, 1650, 79, 44, 1651, 1652, 1653, 3, 1654], [7, 3, 46, 60, 1655, 61, 1656, 8, 645, 154, 1657, 1658, 646], [66, 647, 10, 7, 3, 352, 39, 2, 366], [95, 142, 281, 1659, 67, 12, 163, 153, 1660, 1661], [282, 283, 284, 3, 282, 283, 284, 227, 5, 54, 249, 145, 6, 5, 303, 5, 58, 1662, 1663, 1664, 1665, 3, 10, 2, 265, 145, 6, 5, 1666, 1667, 1, 313, 1668, 1669, 53, 627, 50, 102, 399, 7, 282, 283, 284, 3, 282, 283, 284, 8, 1, 2, 1670, 135, 1671], [1672, 1673, 1, 167, 18, 1674, 40, 1675, 1676, 648, 18, 1677, 42, 11, 400, 638, 1, 622], [], [119, 149, 1678, 401, 226, 1679, 181, 226, 343, 17, 1680, 13, 1681, 1682, 14, 1683, 618, 119, 150, 143, 1684, 119, 150, 143, 649], [1685, 44, 402, 1686, 70, 39, 500, 1, 390, 12, 1687, 2], [72, 105, 12, 650, 1688, 1689], [27, 28, 31, 32, 4, 33, 13, 34, 35, 22, 29, 25, 19, 24, 26, 7, 3, 14, 36, 16, 37, 30, 17, 9, 38], [57, 43, 11, 1690, 52, 11, 1691, 1692, 250, 294, 39, 2, 1693, 1, 1694, 39, 2, 1695, 65, 1696, 334], [116, 21, 19, 7, 3, 651, 23, 2, 48, 1697, 44, 652, 385, 8, 44, 653, 654, 655, 10, 1698, 2, 1699, 403, 23, 18, 656, 41, 1700, 285, 71, 1701, 1, 223, 86, 1702, 286, 2, 657], [], [98, 42, 1703, 8, 5, 1704, 42, 658, 2, 1705, 61, 80, 338, 53, 1706, 1707, 1708, 659, 209, 183, 1709, 660, 1710, 1711, 1, 3], [1712, 2, 657, 40, 6, 441, 1713], [197, 111, 115, 23, 18, 1714, 1715, 1, 1716, 1717, 53, 589, 43, 49, 4, 20, 1718, 123, 91, 189, 1719, 5, 1720, 1, 1721, 127, 159, 404], [1722, 52, 45, 1723, 20, 23, 18, 1724, 50, 661, 1725], [98, 122, 178, 243, 5, 171, 41, 15, 108, 1726, 39, 7, 3, 39, 80, 120, 39, 80, 1727, 39, 80, 387, 39, 80, 110, 526, 117, 1728], [11, 266, 166, 1729, 11, 106, 15, 1730, 15, 151, 377, 15, 287, 1731, 1, 11, 1732, 10, 15, 1733, 46, 1734, 2, 48, 53, 1735, 8, 67, 2, 1736, 11, 161, 662, 2, 48, 11, 49, 109, 115, 10, 301, 50, 218, 77, 12, 168, 12, 168, 6, 39, 1737, 18, 402], [18, 1738, 1739, 49, 1740, 58, 663, 71, 1741, 44, 1742, 1743, 1744, 1745], [], [27, 28, 31, 32, 4, 33, 13, 34, 35, 22, 29, 25, 19, 24, 26, 7, 3, 14, 36, 16, 37, 30, 17, 9, 38], [48, 1746, 42, 94], [74, 107, 85, 614, 50, 84, 1747, 8, 40, 6, 2, 299, 1, 2, 48, 308, 59, 42, 2, 1748], [2, 1749, 1750, 2, 1751, 1752, 6, 89, 11, 52, 49, 193, 124, 1753, 47, 368, 1754, 186, 18, 664, 1755, 1756, 1757, 11, 1758, 12, 1759], [43, 49, 81, 4, 20, 440, 41, 1760, 18, 104, 45, 1761, 20, 50, 172, 10, 665, 70, 6, 386], [1762, 252, 162, 115, 666, 1, 329, 1763, 41, 1764, 8, 667, 53, 668, 1, 252, 41, 1765, 1, 302, 1, 669, 10, 39, 23, 159, 1766, 104, 45, 1767, 20, 67, 12, 1768], [101, 174, 21, 307, 12, 340, 76, 5, 172, 41, 15, 287, 40, 6, 15, 184, 1769, 74, 648, 1, 670, 10, 2, 467, 44, 671, 51, 65, 1770, 44, 1771], [480, 99, 348], [12, 387, 1, 12, 110, 20, 1, 2, 48, 101, 45, 20, 5, 164, 1772, 230, 75, 79, 60, 1773], [111, 82, 71, 1774, 78, 43, 49, 81, 4, 20, 1, 672, 93, 18, 1775, 1776, 1, 1777, 1778, 1779, 99, 193, 177, 1780, 1781, 77, 673, 1782], [126, 170, 1783, 75, 674, 10, 675, 5, 661, 1, 1784], [78, 90, 676, 156, 677, 41, 163, 153, 8, 1785, 249, 23, 81, 4, 1786, 40, 6, 20, 1, 12, 1787, 8, 43, 6, 20, 678], [288, 619, 288, 150, 257, 1788, 16, 68, 659, 4, 273, 265, 288], [55, 5, 54, 205, 5, 233, 1789, 203, 3, 15, 102, 399, 69, 15, 272, 55, 1790, 59, 43, 45, 1791, 20, 5, 54, 8, 18, 405, 203, 679, 63, 79, 76], [27, 28, 31, 32, 4, 33, 13, 34, 35, 22, 29, 25, 19, 24, 26, 7, 3, 14, 36, 16, 37, 30, 17, 9, 38], [1792, 3, 1793, 1794, 1795], [18, 1796, 48, 1797, 188, 77, 125, 8, 18, 1798, 1799, 46, 1800, 166, 276, 46, 1801, 18, 1802, 1803, 77, 80, 680, 2, 128, 49, 6, 20, 80, 680, 56, 71, 18, 681, 46, 682, 70, 39, 65, 1804, 1, 2, 128, 564], [560, 1805, 1806, 1807, 130, 1808, 192, 195, 88, 4, 289, 640, 635, 1809, 1810, 195, 88, 4, 289, 14, 1811, 280, 195, 88, 4, 289, 14, 1812, 280, 1813, 88, 4, 289, 244, 130, 280, 195, 1814, 130, 1815], [129, 1816, 2, 1817, 76, 12, 1818, 561, 10, 547, 46, 1819, 12, 211, 1820, 95, 1821, 23, 271, 52, 97, 12, 1822, 1, 127, 159, 549, 1823, 46, 1824, 103, 1825], [145, 1826], [], [49, 106, 227, 20, 12, 287, 567, 46, 587, 10, 12, 683, 1, 80, 102, 4, 684, 1, 227, 685, 1827, 142, 1828, 135, 686, 646, 406, 1829, 194, 180, 66, 1830, 12, 1831, 8, 164, 59, 42, 687, 1832, 10, 1833, 1, 1834, 23, 687, 1835, 67, 15, 120, 1836], [8, 42, 198, 85, 58, 1, 436, 1, 45, 58, 12, 201, 50, 70], [52, 474, 15, 1837, 1838, 407, 74, 1839, 50, 175, 3, 688, 10, 251, 52, 481, 2, 582, 5, 1840, 4, 2, 309, 1, 7, 3, 51, 1841, 363], [2, 644, 1842, 11, 75, 55, 79], [197, 111, 47, 1843, 1844, 11, 109, 229], [72, 21, 105, 85, 76, 18, 1845], [27, 28, 31, 32, 4, 33, 13, 34, 35, 22, 29, 25, 19, 24, 26, 7, 3, 14, 36, 16, 37, 30, 17, 9, 38], [27, 28, 31, 32, 4, 33, 13, 34, 35, 22, 29, 25, 19, 24, 26, 7, 3, 14, 36, 16, 37, 30, 17, 9, 38], [27, 28, 31, 32, 4, 33, 13, 34, 35, 22, 29, 25, 19, 24, 26, 7, 3, 14, 36, 16, 37, 30, 17, 9, 38], [27, 28, 31, 32, 4, 33, 13, 34, 35, 22, 29, 25, 19, 24, 26, 7, 3, 14, 36, 16, 37, 30, 17, 9, 38], [27, 28, 31, 32, 4, 33, 13, 34, 35, 22, 29, 25, 19, 24, 26, 7, 3, 14, 36, 16, 37, 30, 17, 9, 38], [27, 28, 31, 32, 4, 33, 13, 34, 35, 22, 29, 25, 19, 24, 26, 7, 3, 14, 36, 16, 37, 30, 17, 9, 38], [27, 28, 31, 32, 4, 33, 13, 34, 35, 22, 29, 25, 19, 24, 26, 7, 3, 14, 36, 16, 37, 30, 17, 9, 38], [27, 28, 31, 32, 4, 33, 13, 34, 35, 22, 29, 25, 19, 24, 26, 7, 3, 14, 36, 16, 37, 30, 17, 9, 38], [27, 28, 31, 32, 4, 33, 13, 34, 35, 22, 29, 25, 19, 24, 26, 7, 3, 14, 36, 16, 37, 30, 17, 9, 38], [27, 28, 31, 32, 4, 33, 13, 34, 35, 22, 29, 25, 19, 24, 26, 7, 3, 14, 36, 16, 37, 30, 17, 9, 38], [27, 28, 31, 32, 4, 33, 13, 34, 35, 22, 29, 25, 19, 24, 26, 7, 3, 14, 36, 16, 37, 30, 17, 9, 38], [27, 28, 31, 32, 4, 33, 13, 34, 35, 22, 29, 25, 19, 24, 26, 7, 3, 14, 36, 16, 37, 30, 17, 9, 38], [27, 28, 31, 32, 4, 33, 13, 34, 35, 22, 29, 25, 19, 24, 26, 7, 3, 14, 36, 16, 37, 30, 17, 9, 38], [27, 28, 31, 32, 4, 33, 13, 34, 35, 22, 29, 25, 19, 24, 26, 7, 3, 14, 36, 16, 37, 30, 17, 9, 38], [27, 28, 31, 32, 4, 33, 13, 34, 35, 22, 29, 25, 19, 24, 26, 7, 3, 14, 36, 16, 37, 30, 17, 9, 38], [27, 28, 31, 32, 4, 33, 13, 34, 35, 22, 29, 25, 19, 24, 26, 7, 3, 14, 36, 16, 37, 30, 17, 9, 38], [27, 28, 31, 32, 4, 33, 13, 34, 35, 22, 29, 25, 19, 24, 26, 7, 3, 14, 36, 16, 37, 30, 17, 9, 38], [27, 28, 31, 32, 4, 33, 13, 34, 35, 22, 29, 25, 19, 24, 26, 7, 3, 14, 36, 16, 37, 30, 17, 9, 38], [27, 28, 31, 32, 4, 33, 13, 34, 35, 22, 29, 25, 19, 24, 26, 7, 3, 14, 36, 16, 37, 30, 17, 9, 38], [27, 28, 31, 32, 4, 33, 13, 34, 35, 22, 29, 25, 19, 24, 26, 7, 3, 14, 36, 16, 37, 30, 17, 9, 38], [43, 6, 20, 678], [675, 5, 374, 74, 52, 45, 689, 20, 647, 5, 690, 87, 83, 40, 6, 408, 40, 6, 5, 628, 691, 389, 66, 286], [], [1846, 1847, 1848, 1, 240, 1849, 1850, 111, 235, 1, 2, 48, 20, 41, 356, 42, 1851, 165, 60, 1852, 55, 42, 57, 1853, 1, 12, 168, 8, 1, 692, 1854, 1855, 693, 99, 1856, 23, 55, 3, 6, 565, 43, 60, 123, 59, 43, 45, 1857, 20, 154, 1858], [65, 694, 1859, 302, 42, 75, 92, 49, 1860, 20, 1, 362, 67, 12, 616, 64, 5, 54, 306, 7, 3, 63, 69, 15, 295, 695, 10, 696, 39, 1861, 142, 281, 10, 1862, 287], [43, 49, 21, 4, 165, 20, 41, 220], [55, 40, 6, 10, 2, 1863, 1, 1864, 665, 71, 89, 5, 172, 406, 12, 1865, 255, 40, 6, 51, 2, 409, 63, 21, 1866, 51, 49, 278, 20], [27, 28, 31, 32, 4, 33, 13, 34, 35, 22, 29, 25, 19, 24, 26, 7, 3, 14, 36, 16, 37, 30, 17, 9, 38], [27, 28, 31, 32, 4, 33, 13, 34, 35, 22, 29, 25, 19, 24, 26, 7, 3, 14, 36, 16, 37, 30, 17, 9, 38], [27, 28, 31, 32, 4, 33, 13, 34, 35, 22, 29, 25, 19, 24, 26, 7, 3, 14, 36, 16, 37, 30, 17, 9, 38], [27, 28, 31, 32, 4, 33, 13, 34, 35, 22, 29, 25, 19, 24, 26, 7, 3, 14, 36, 16, 37, 30, 17, 9, 38], [27, 28, 31, 32, 4, 33, 13, 34, 35, 22, 29, 25, 19, 24, 26, 7, 3, 14, 36, 16, 37, 30, 17, 9, 38], [27, 28, 31, 32, 4, 33, 13, 34, 35, 22, 29, 25, 19, 24, 26, 7, 3, 14, 36, 16, 37, 30, 17, 9, 38], [27, 28, 31, 32, 4, 33, 13, 34, 35, 22, 29, 25, 19, 24, 26, 7, 3, 14, 36, 16, 37, 30, 17, 9, 38], [27, 28, 31, 32, 4, 33, 13, 34, 35, 22, 29, 25, 19, 24, 26, 7, 3, 14, 36, 16, 37, 30, 17, 9, 38], [27, 28, 31, 32, 4, 33, 13, 34, 35, 22, 29, 25, 19, 24, 26, 7, 3, 14, 36, 16, 37, 30, 17, 9, 38], [27, 28, 31, 32, 4, 33, 13, 34, 35, 22, 29, 25, 19, 24, 26, 7, 3, 14, 36, 16, 37, 30, 17, 9, 38], [27, 28, 31, 32, 4, 33, 13, 34, 35, 22, 29, 25, 19, 24, 26, 7, 3, 14, 36, 16, 37, 30, 17, 9, 38], [27, 28, 31, 32, 4, 33, 13, 34, 35, 22, 29, 25, 19, 24, 26, 7, 3, 14, 36, 16, 37, 30, 17, 9, 38], [27, 28, 31, 32, 4, 33, 13, 34, 35, 22, 29, 25, 19, 24, 26, 7, 3, 14, 36, 16, 37, 30, 17, 9, 38], [27, 28, 31, 32, 4, 33, 13, 34, 35, 22, 29, 25, 19, 24, 26, 7, 3, 14, 36, 16, 37, 30, 17, 9, 38], [2, 128, 11, 1867, 228, 18, 1868], [98, 55, 11, 45, 161, 20, 1, 2, 1869, 1870, 87, 1, 12, 1871, 410, 45, 504, 20, 365, 86, 10, 259, 21, 1872, 50, 463, 1873, 1874, 1875, 53, 1876, 697, 1, 2, 1877, 697, 1, 2, 1878, 1879, 10, 12, 110, 8, 103, 557, 1880, 1, 80, 1881], [1882, 44, 1883, 1884], [], [43, 49, 4, 20, 1885, 53, 1886, 1887, 43, 49, 81, 4, 23, 5, 1888, 46, 123, 1889, 95, 55, 1890, 43, 49, 4, 261, 239, 76, 2, 160, 50, 1891], [4, 2, 698, 59, 47, 263, 1, 118, 1892, 1893, 63, 90, 45, 271, 23, 1, 2, 383, 115, 1, 1894, 1895, 10, 696, 1, 2, 1896, 1897, 55, 52, 1898, 92, 156, 403, 89, 18, 1899, 237], [1900, 1901, 62, 1902, 1903, 248, 1904, 213, 636, 13, 1905, 326, 585, 1906, 62, 1907, 1908, 395, 192, 1909, 68, 1910, 1911], [47, 219, 605, 1912, 2, 699, 2, 699, 1, 1913, 2, 274, 1, 700, 8, 1, 1914, 692, 219, 1915, 89, 2, 274, 1, 700, 1916, 1917, 8, 95, 1918], [1919, 46, 49, 198, 20, 1920, 107, 1, 11, 1921, 1922], [111, 10, 12, 163, 153, 15, 384, 2, 48, 198, 15, 102, 1, 2, 169, 41, 163, 153, 39, 1923, 2, 48, 103, 104, 135, 285, 77, 701, 194, 1924, 411, 5, 1925, 135, 20, 103, 191, 46, 71, 1926, 1927, 135, 1928, 18, 1929, 39, 44, 1930], [261, 1931, 39, 132, 1, 92, 372, 139, 53, 1932], [90, 691, 286, 5, 148, 412, 1933], [7, 3, 1934, 1, 1935, 18, 1936], [27, 28, 31, 32, 4, 33, 13, 34, 35, 22, 29, 25, 19, 24, 26, 7, 3, 14, 36, 16, 37, 30, 17, 9, 38], [27, 28, 31, 32, 4, 33, 13, 34, 35, 22, 29, 25, 19, 24, 26, 7, 3, 14, 36, 16, 37, 30, 17, 9, 38], [27, 28, 31, 32, 4, 33, 13, 34, 35, 22, 29, 25, 19, 24, 26, 7, 3, 14, 36, 16, 37, 30, 17, 9, 38], [27, 28, 31, 32, 4, 33, 13, 34, 35, 22, 29, 25, 19, 24, 26, 7, 3, 14, 36, 16, 37, 30, 17, 9, 38], [27, 28, 31, 32, 4, 33, 13, 34, 35, 22, 29, 25, 19, 24, 26, 7, 3, 14, 36, 16, 37, 30, 17, 9, 38], [27, 28, 31, 32, 4, 33, 13, 34, 35, 22, 29, 25, 19, 24, 26, 7, 3, 14, 36, 16, 37, 30, 17, 9, 38], [27, 28, 31, 32, 4, 33, 13, 34, 35, 22, 29, 25, 19, 24, 26, 7, 3, 14, 36, 16, 37, 30, 17, 9, 38], [27, 28, 31, 32, 4, 33, 13, 34, 35, 22, 29, 25, 19, 24, 26, 7, 3, 14, 36, 16, 37, 30, 17, 9, 38], [27, 28, 31, 32, 4, 33, 13, 34, 35, 22, 29, 25, 19, 24, 26, 7, 3, 14, 36, 16, 37, 30, 17, 9, 38], [27, 28, 31, 32, 4, 33, 13, 34, 35, 22, 29, 25, 19, 24, 26, 7, 3, 14, 36, 16, 37, 30, 17, 9, 38], [27, 28, 31, 32, 4, 33, 13, 34, 35, 22, 29, 25, 19, 24, 26, 7, 3, 14, 36, 16, 37, 30, 17, 9, 38], [27, 28, 31, 32, 4, 33, 13, 34, 35, 22, 29, 25, 19, 24, 26, 7, 3, 14, 36, 16, 37, 30, 17, 9, 38], [531, 1937, 1938, 1, 1939, 372, 702, 270, 3, 121, 1940, 1941, 1942, 1943, 138, 236], [111, 39, 58, 41, 1944, 1945, 1946, 3], [55, 82, 413, 470, 1947, 8, 114, 568, 8, 1948, 2, 258, 21, 1949], [52, 1950], [82, 1951, 1, 1952, 1953, 71, 405, 1954, 703, 46, 71, 2, 173, 1, 176, 1955, 1956], [85, 15, 1957, 82, 45, 71, 20, 104, 1, 695, 2, 1958, 11, 266, 56, 23, 40, 6, 5, 172, 6, 15, 1959, 1960], [40, 6, 51, 2, 298, 48], [1961, 381, 1962, 182, 94, 704, 226, 1963, 1964, 62, 4, 1965, 1966, 1967, 401, 341, 1968], [95, 18, 1969, 1, 64, 71, 44, 1970, 55, 42, 1971, 77, 11], [52, 1972, 10, 11, 1973, 39, 152, 1974, 1975, 1, 231, 15, 102, 46, 1976, 69, 154, 218, 47, 55, 1977, 8, 273, 1978, 40, 6, 414, 705], [310], [27, 28, 31, 32, 4, 33, 13, 34, 35, 22, 29, 25, 19, 24, 26, 7, 3, 14, 36, 16, 37, 30, 17, 9, 38], [27, 28, 31, 32, 4, 33, 13, 34, 35, 22, 29, 25, 19, 24, 26, 7, 3, 14, 36, 16, 37, 30, 17, 9, 38], [27, 28, 31, 32, 4, 33, 13, 34, 35, 22, 29, 25, 19, 24, 26, 7, 3, 14, 36, 16, 37, 30, 17, 9, 38], [27, 28, 31, 32, 4, 33, 13, 34, 35, 22, 29, 25, 19, 24, 26, 7, 3, 14, 36, 16, 37, 30, 17, 9, 38], [27, 28, 31, 32, 4, 33, 13, 34, 35, 22, 29, 25, 19, 24, 26, 7, 3, 14, 36, 16, 37, 30, 17, 9, 38], [27, 28, 31, 32, 4, 33, 13, 34, 35, 22, 29, 25, 19, 24, 26, 7, 3, 14, 36, 16, 37, 30, 17, 9, 38], [194, 3, 4, 706, 5, 415, 290, 44, 707, 179, 18, 416, 708, 136, 141, 45, 129, 709, 101, 2, 128, 6, 710, 69, 291, 711, 712, 39, 713, 5, 714, 95, 52, 400, 47, 715, 716, 117, 4, 717, 10, 71, 718, 134, 134], [1979, 51, 97, 78, 84, 2, 170, 1, 719, 720, 39, 132, 98, 108, 61, 684], [22, 62, 540, 195, 234, 396, 1980, 68, 1981, 9, 721, 17, 1982, 1983, 448, 94, 1984, 331, 721, 395, 1985, 1986, 1987, 16, 1988], [2, 672, 23, 2, 160, 6, 190, 15, 1989, 1, 1990, 82, 60, 1991, 1, 2, 170, 1, 2, 1992, 53, 593, 50, 228, 1993], [7, 3, 1994, 44, 656, 1, 652, 385, 8, 1, 653, 654, 655, 10, 12, 19, 221], [1995, 1996, 1997, 407], [90, 275, 164, 100, 61, 56, 23, 90, 271], [194, 3, 4, 706, 5, 415, 290, 44, 707, 179, 18, 416, 708, 136, 141, 45, 129, 709, 101, 2, 128, 6, 710, 69, 291, 711, 712, 39, 713, 5, 714, 95, 52, 400, 47, 715, 716, 117, 4, 717, 10, 71, 718, 253, 134], [11, 106, 722], [], [224, 74, 1998], [42, 57, 21, 1999], [15, 2000], [143, 2001, 119, 41, 2002, 68, 723, 724, 13, 2003, 2004, 2005, 157, 2006, 2007, 2008, 13, 724, 13, 2009, 14, 2010, 2011, 2012, 723, 2013, 157, 2014, 14, 2015, 2016], [2017, 40, 6, 15, 725, 2018, 23, 56, 186, 1, 12, 676, 21, 96, 84, 87, 44, 726, 41, 7, 3], [74, 2, 2019, 50, 2020, 8, 5, 669, 10, 12, 2021], [12, 686, 153, 2, 58, 727, 50, 112], [27, 28, 31, 32, 4, 33, 13, 34, 35, 22, 29, 25, 19, 24, 26, 7, 3, 14, 36, 16, 37, 30, 17, 9, 38], [27, 28, 31, 32, 4, 33, 13, 34, 35, 22, 29, 25, 19, 24, 26, 7, 3, 14, 36, 16, 37, 30, 17, 9, 38], [27, 28, 31, 32, 4, 33, 13, 34, 35, 22, 29, 25, 19, 24, 26, 7, 3, 14, 36, 16, 37, 30, 17, 9, 38], [27, 28, 31, 32, 4, 33, 13, 34, 35, 22, 29, 25, 19, 24, 26, 7, 3, 14, 36, 16, 37, 30, 17, 9, 38], [27, 28, 31, 32, 4, 33, 13, 34, 35, 22, 29, 25, 19, 24, 26, 7, 3, 14, 36, 16, 37, 30, 17, 9, 38], [27, 28, 31, 32, 4, 33, 13, 34, 35, 22, 29, 25, 19, 24, 26, 7, 3, 14, 36, 16, 37, 30, 17, 9, 38], [27, 28, 31, 32, 4, 33, 13, 34, 35, 22, 29, 25, 19, 24, 26, 7, 3, 14, 36, 16, 37, 30, 17, 9, 38], [27, 28, 31, 32, 4, 33, 13, 34, 35, 22, 29, 25, 19, 24, 26, 7, 3, 14, 36, 16, 37, 30, 17, 9, 38], [27, 28, 31, 32, 4, 33, 13, 34, 35, 22, 29, 25, 19, 24, 26, 7, 3, 14, 36, 16, 37, 30, 17, 9, 38], [27, 28, 31, 32, 4, 33, 13, 34, 35, 22, 29, 25, 19, 24, 26, 7, 3, 14, 36, 16, 37, 30, 17, 9, 38], [27, 28, 31, 32, 4, 33, 13, 34, 35, 22, 29, 25, 19, 24, 26, 7, 3, 14, 36, 16, 37, 30, 17, 9, 38], [40, 6, 100, 5, 417, 131, 5, 2022, 8, 2, 2023], [], [11, 161, 468, 3, 39, 2, 48, 11, 2024, 476, 3, 275, 2025, 2, 48, 291, 418, 2026, 12, 168, 6, 15, 2027, 728, 46, 129, 2028, 18, 729, 232, 5, 730, 2029, 11, 161, 66, 44, 729, 44, 2030, 162, 2031, 274, 151, 377], [15, 218, 46, 2032, 154, 411, 60, 2033, 10, 5, 516, 2034, 43, 6, 140, 1, 70, 66, 8, 419, 118, 403, 39, 2035, 18, 2036, 2037, 41, 163, 153, 315, 1, 48, 107, 1, 600, 5, 120, 2038, 21, 399], [21, 2039, 542, 56, 46, 57, 6, 411, 388, 267, 78, 2, 2040, 2041, 50, 731, 42, 701, 703, 10, 12, 2042, 1, 2, 409, 18, 4, 2043, 10, 2044, 2, 2045, 15, 2046, 10, 2047, 2048, 21, 2049, 42, 604, 79], [7, 3, 42, 552, 119, 311, 72, 553, 16, 4, 357, 554, 555, 2050], [40, 6, 69, 15, 2051, 74, 2052, 23, 65, 11, 2053, 10, 80, 158, 15, 420, 231], [], [82, 60, 2054, 548, 2055, 2056, 95, 90, 292, 2057, 1, 214, 732, 337, 76, 2, 2058, 69, 733, 151, 2059, 2060, 214, 732, 40, 6, 15, 734, 735, 46, 348, 2061, 44, 736, 2062, 8, 238, 2063, 100, 85], [113, 290, 2064, 146, 11, 666, 2065, 41, 15, 734, 735, 149, 4, 73, 15, 737, 2066, 5, 2067], [2068], [48, 155, 2069, 2070, 88, 2071, 2072, 212, 7, 3, 237, 738, 62, 2073, 68, 192, 16, 9, 2074, 739, 679, 466, 524, 2075, 465, 579, 2076, 14, 2077, 583, 2078, 740, 64, 5, 54, 2079, 2080, 62, 741, 739, 276, 740], [190, 39, 72, 2081, 23, 5, 2082, 50, 742, 1, 743, 2083, 60, 2084, 10, 2085, 90, 105, 246, 744, 2086, 56, 344, 4, 202, 2087, 4, 2088, 12, 2089, 1, 2, 727, 23, 90, 2090, 6, 204, 2091, 63, 43, 6, 85, 140, 39, 125, 2092, 125, 2093, 1, 743], [236, 3, 200, 2094, 2095, 200, 2096, 269, 421, 2097, 121, 2098, 2099, 702, 2100, 268, 2101, 182, 2102, 2103, 138, 2104, 422, 269, 2105, 536, 2106, 121, 305, 260], [8, 41, 91, 2107, 232, 47, 116, 46, 45, 65, 241, 21, 115, 42, 198, 2, 2108, 2109, 8, 2110, 41, 91, 2111, 55, 74, 745, 42, 198, 58, 5, 418, 1, 60, 486, 21, 2112, 61, 89, 42, 198, 44, 2113, 1, 2114, 290, 56, 59, 42, 2115, 8, 2116, 69, 3], [15, 2117, 2118, 123, 92, 39, 15, 487, 41, 2119, 8, 101, 20, 2120, 1, 2121, 39, 83, 67, 15, 2122, 2123, 2124, 52, 49, 81, 2125, 115, 10, 2, 160], [], [], [42, 2126, 63, 10, 15, 2127, 75, 2128, 18, 2129, 146, 82, 45, 746, 20, 2130, 70, 233], [], [188, 45, 2131, 20, 1, 118, 683, 2132, 2133, 69, 167, 188, 645, 47, 352, 39, 5, 112, 2134], [], [42, 2135, 95, 15, 2136, 21, 2137, 1, 2, 2138, 1, 114, 2139, 747, 166, 2140, 2141, 56, 49, 6, 20, 722], [4, 2142], [117], [21, 100, 40, 6, 2143, 1, 2144, 89, 12, 2145, 41, 15, 218, 42, 57, 21, 503, 1, 2, 2146, 1, 12, 2147, 11, 106, 419, 2148, 10, 164, 49, 398, 39, 2149, 49, 398, 46, 2150], [414, 705, 420, 231], [5, 360, 87, 60, 66, 748, 40, 6, 15, 171], [96, 45, 347, 124, 40, 6, 190, 15, 2151, 23, 5, 730, 2152, 10, 313, 2153, 749], [230, 45, 149, 2154, 84, 20, 101, 41, 185, 11, 668, 1, 191, 2155, 563, 77, 61, 2156, 92, 39, 83, 101, 2157, 129, 92, 39, 83, 43, 4, 85, 44, 2158, 21, 750, 43, 81, 4, 1, 2159, 2160, 59, 82, 81, 2161, 207, 44, 2162, 21, 2163, 1, 309], [613, 2164, 2165, 2166, 2167, 144, 2168, 2169, 2170, 2171, 2172, 254, 2173, 2174, 144, 2175, 2176, 751, 2177, 752, 2178, 2179, 16, 2180, 2181, 2182, 2183, 2184, 2185, 751, 2186, 2187, 752, 2188, 2189], [40, 6, 2190, 1, 174, 15, 2191, 1, 2192, 67, 47, 2193, 50, 2194, 146, 97, 15, 384, 5, 2195, 2196, 753], [7, 3, 62, 2197, 68, 2198, 2199, 2200, 401, 9, 2201, 13, 110, 57, 217, 2202, 2203, 105, 5, 54, 2204, 620, 13, 2205, 68, 2206, 9, 330, 9, 754, 324, 62, 208, 3, 5, 54, 105, 189, 57, 601, 2207, 2208, 2209, 88, 57, 2210, 2211, 135, 2212, 13, 2213], [5, 360, 87, 60, 66, 748, 40, 6, 15, 171], [2214, 423, 2215, 2216, 641, 2217, 21, 424, 21, 2218, 1, 425, 2219, 2220, 2, 2221, 1, 7, 3, 392, 2222, 2223, 131, 327, 81, 755, 2224, 756, 2225, 1, 64, 5], [], [2226, 2227, 41, 15, 2228, 41, 15, 2229, 46, 2230, 59, 43, 757, 91, 53, 217, 158, 2231, 447, 649], [15, 148, 272, 76, 2, 450, 40, 6, 78, 2, 2232, 2233, 20, 78, 5, 2234, 1, 2235, 2236, 50, 392, 2, 2237], [72, 4, 170, 3], [52, 2238, 1, 11, 146, 758, 11, 109, 12, 650, 2239, 10, 152, 2240, 61, 89, 55, 11, 161, 670, 1, 2241, 42, 123, 149, 493, 148, 111, 312, 2242, 10, 11, 51, 2243, 5, 2244, 1, 674], [24, 155, 3, 14, 5, 54, 2245, 2246, 105, 2247, 2248, 2249, 7, 3, 14, 64, 5, 54, 759, 2250, 2251, 42, 2252, 2253, 741, 13, 208, 57, 155, 2254, 234, 336], [], [529, 1, 2, 48, 8, 2255, 1, 12, 110], [91, 1, 2256, 8, 45, 20, 92, 3, 40, 6, 174, 15, 760, 1, 286, 12, 163, 153, 53, 239, 98, 52, 108, 3, 43, 376, 57, 2257, 1, 83, 185, 103, 761, 52, 2258, 61, 426], [2259, 2260, 2261, 13, 2262, 2263], [92, 3, 61, 2264, 1, 688, 52, 292, 79, 12, 685, 63, 92, 3, 61, 2265, 1, 2, 48, 720, 63, 74, 2, 298, 698, 131, 3, 8, 323, 6, 190, 2, 2266, 10, 2267, 82, 2268, 80, 120, 67, 5, 2269, 69, 3, 40, 6, 58, 2270, 51, 73, 206, 349], [495, 2271, 9, 2272, 2273, 2274], [2275, 279, 477, 1, 151, 8, 44, 402, 85, 58, 320, 46, 410, 45, 2276, 20, 67, 12, 762, 2277, 42, 75, 763, 18, 761, 8, 52, 292, 11, 164, 59, 42, 75, 2278, 8, 55, 11, 106, 764, 8, 11, 2279, 2280, 42, 2281, 20, 5, 2282, 39, 152, 2283], [63, 427, 11, 2284, 10, 358, 15, 765, 408, 162, 201, 173, 18, 671, 766, 10, 60, 535, 21, 48, 230, 49, 278, 20, 2285, 2286, 253, 44, 2287, 71, 766, 8, 52, 767, 2288, 8, 51, 203, 39, 663, 23, 11, 137, 12, 2289, 53, 2290, 350, 11, 106, 507], [2, 2291, 44, 2292, 2293, 2294, 2295, 2296, 316, 209, 2297, 2298, 117], [45, 11, 2299, 20, 39, 132, 70, 75, 79, 67, 2300, 354], [74, 165, 20], [215, 216, 7, 3, 2301, 50, 217, 158, 63, 64, 5, 54, 10, 15, 300, 2302, 373, 15, 2303], [2304, 2305, 2306, 2307, 7, 3, 64, 5, 54, 136, 6, 5, 415, 221], [197, 2308, 2, 40, 6, 56, 23, 11, 109, 1, 58, 2309, 21, 2310, 2311, 2312, 39, 56, 10, 100, 82, 2313, 18, 2314, 237], [65, 2315, 1, 391, 291, 2316, 1, 390, 58, 41, 2317, 1, 744, 1, 2318, 41, 91, 2319, 2320, 2321, 745, 1, 167, 41, 91, 2322, 162, 229, 41, 91, 2323, 2324, 511, 39, 44, 2325, 4, 12, 2326, 42, 760, 1, 65, 445, 21, 2327], [5, 54, 2328], [424, 48, 2329, 428, 134, 2330, 768, 2331, 2332, 2333, 2334, 1, 2335, 117, 2336, 209, 2337, 2338, 2339, 2340, 2341, 2342, 242], [40, 6, 39, 51, 23, 11, 2343, 2344, 46, 769, 48, 135, 104, 46, 2345, 18, 2346, 681, 2347, 770, 135, 2348, 2349, 2350, 1, 2, 116, 21, 110, 2351, 1, 2, 667, 2352, 53, 429, 1, 2, 2353, 2354, 488], [134, 492, 76, 18, 2355, 2356, 2357, 21, 258, 10, 258, 39, 2358, 771, 430, 50, 453, 1, 139, 53, 2359, 23, 2360, 209, 39, 80, 211, 1, 418, 80, 762, 80, 2361, 67, 5, 112, 5, 122, 178, 52], [40, 6, 2362, 2363, 52, 2364, 113, 2365, 380, 183], [72, 105, 20, 2366, 72, 2367, 1, 5, 2368, 2369], [8, 65, 2370, 85, 58, 43, 45, 93, 20, 12, 772], [], [39, 66, 773, 159, 2371, 77, 44, 2372, 774, 43, 85, 23, 44, 2373, 2374, 5, 2375, 77, 72, 96, 2376, 23, 56, 344, 45, 2377, 20, 103, 2378, 1, 2379], [197, 224, 51, 40, 6, 115, 1, 5, 164, 40, 6, 41, 220, 2380, 2381, 8, 307, 2382, 44, 2383, 2384], [2, 366, 69, 3], [2385, 41, 356, 40, 6, 101, 98, 380, 146, 18, 2386, 405, 71, 8], [], [197, 2, 2387, 2388, 223, 1, 66, 1, 2389, 148, 224], [42, 75, 606, 3, 6, 2390, 53, 2391, 2392, 43, 4, 84, 140, 51], [51, 73, 147, 133, 59, 42, 2393, 39, 51], [758, 230, 49, 4, 20, 2394, 12, 2395, 255], [224, 3, 249, 2396], [107, 8, 2397], [2398, 15, 2399, 75, 588, 15, 2400, 10, 726, 1, 117, 2401, 43, 376, 174, 12, 2402, 8, 52, 364, 82, 81, 2403, 20, 349, 44, 431, 44, 2404, 21, 127, 397, 43, 75, 91, 47, 2405, 41, 2406, 427, 2, 48, 75, 174, 2, 160, 1, 2407, 146, 775], [2408, 56, 23, 65, 747, 2409, 2410, 2411, 69], [64, 5, 54, 2412, 2, 2413, 693, 1, 2414, 1, 2, 210, 749, 185, 2, 2415, 1, 2416, 1, 2, 776, 41, 7, 3, 136, 43, 651, 23, 12, 2417, 97, 15, 2418, 39, 87, 89, 12, 2419], [56, 23, 97, 2, 48, 55, 43, 2420, 47, 2421, 2422], [183, 2423, 2424, 81, 756, 2, 2425, 4, 2426, 777, 2427, 2428, 21, 424, 23, 2429, 2430, 1, 2431, 4, 2432, 2433, 1, 2434, 2, 2435, 1, 778, 1], [277, 94, 2436, 68, 704, 25, 48, 57, 754, 155, 26, 7, 3, 150, 139, 64, 5, 54, 9, 326, 321, 432, 16, 9, 324, 42, 208, 9, 2437, 150, 192, 2438, 88, 48, 14, 2439], [11, 2440, 2441, 2442, 2443, 50, 2444, 40, 6, 47, 2445, 388, 11, 8, 152, 2446, 2447, 1, 11, 2448], [81, 4, 20, 10, 66, 44, 2449, 2450, 77, 51, 12, 2451, 2452, 45, 689, 58, 1, 354, 87, 100], [151, 2453, 11, 109, 73, 1, 2, 48, 15, 120, 617, 8, 162, 2454, 87, 460, 2, 264, 2455, 21, 2456, 61, 152, 2457], [4, 11, 602, 89, 146, 233, 83, 6, 2458, 65, 2459, 2460, 65, 624, 65, 566, 1, 334, 2461, 18, 191, 2462, 46, 45, 413, 60, 2463, 2464, 18, 736, 18, 556, 1, 2, 2465, 75, 21, 779, 2466, 1, 383], [2467, 41, 201, 2468, 66, 355, 18, 2469, 1, 551, 8, 185, 90, 780, 2470, 78, 18, 461, 2471, 1, 2472, 5, 2473], [137, 11, 66], [774, 2474, 10, 60, 2475, 78, 42, 386, 44, 2476, 2477], [69, 3, 56, 97, 2478, 2479], [111, 8, 2480, 45, 60, 781, 20, 103, 416, 216, 23, 52, 2481, 152, 2482, 2483, 15, 184, 8, 71, 315, 375], [11, 109, 2484, 5, 2485, 2486, 10, 5, 54, 8, 276, 18, 109, 2487, 21, 2488, 2489, 8, 11, 365, 23, 12, 42, 75, 772, 51, 11, 11, 106, 2490, 139, 10, 12, 163, 153, 109, 2491, 53, 73, 1, 2, 2492, 2493, 8, 2494], [2495, 2496, 299, 1, 2, 2497], [132, 86, 99, 193, 2498, 2499, 61, 176, 2500, 1, 2501], [85, 15, 281, 2502, 10, 80, 731, 1, 429, 55, 51, 2503, 82, 746, 782, 10, 66, 763, 64], [2504, 2505, 2506, 8, 2507, 52, 45, 2508, 124, 314, 426, 41, 2509, 2, 48, 2510, 8, 2511, 89, 2, 2512, 409, 2513], [43, 6, 439, 23, 70, 49, 6, 20, 2, 2514, 1, 3, 63, 43, 93, 164, 86, 59, 43, 4, 2515, 2, 84, 160, 46, 4, 750, 369, 23, 52, 767, 2516, 8, 59, 43, 65, 73, 391, 15, 140, 2517, 23, 65, 49, 2518, 58, 10, 2519, 50, 783, 784], [78, 42, 2520, 18, 2521, 61, 785, 41, 15, 272, 59, 42, 2522, 755, 404, 2523, 406, 5, 175, 2524, 42, 6, 100, 2525, 8, 2526, 8, 39, 5, 2527, 42, 6, 2528], [96, 6, 414, 781, 2, 2529, 2530, 1, 2, 2531, 160], [107, 2532, 166, 39, 142, 281, 2533, 2534], [293, 764, 501, 2535, 2536, 1, 231, 10, 11, 86], [107, 41, 2537, 76, 126, 265, 99, 193, 2538, 179, 15, 737, 59, 96, 757, 782, 10, 2539, 5, 375, 8, 39, 5, 2540, 96, 389, 2541, 58], [277, 62, 512, 342, 2542, 621, 62, 4, 2543, 277, 759, 4, 432], [], [3, 769, 2, 48, 8, 18, 104, 39, 83, 5, 534, 104, 49, 278, 204, 58, 39, 3, 2, 48, 40, 6, 12, 577, 8, 2, 264, 21, 2544, 43, 45, 2545, 58, 8, 57, 21, 2546, 80, 770, 2547, 6, 2548, 103, 2549, 5, 104, 49, 6, 20, 2550], [7, 3, 6, 2551, 43, 4, 786, 69, 2552, 43, 161, 786, 69, 132], [2553, 125, 1, 126, 505], [107, 65, 86, 65, 694, 1, 70, 2554, 69, 11, 8, 5, 2555, 65, 97, 775], [65, 20, 127, 50, 70, 2, 690, 87, 83, 40, 6, 408, 2556, 103, 660, 183, 58, 361, 23, 361], [63, 101, 96, 49, 4, 20, 222, 2557, 733, 2558, 8, 5, 2559, 27, 10, 2, 2560, 23, 2561, 753, 65, 658], [787, 50, 175, 69, 11, 109, 2562, 23, 2, 2563, 41, 2564, 49, 177, 58, 2565, 2566, 132, 101, 65, 2, 2567, 165, 4, 206, 23, 56, 186, 15, 765, 1, 58], [10, 788, 158, 1, 11, 2568, 15, 420, 231], [10, 382, 43, 81, 4, 2569, 133, 15, 102, 1, 2, 169, 4, 73, 379, 76, 114, 572], [194, 26, 7, 3, 88, 738, 155, 2570], [], [2571, 1, 127, 18, 789, 104, 45, 71, 20, 419, 53, 337, 267, 4, 776, 51, 300, 790, 43, 6, 140, 1, 66, 773, 5, 790, 1, 2572, 61, 2573, 8, 86, 603, 44, 2574, 21, 2575, 50, 2576, 43, 81, 4, 85, 454, 1, 2577, 10, 66, 2578], [728, 2579, 162, 426, 173], [], [113, 521, 771, 2580, 117], [15, 2581, 4, 202, 2582, 53, 374, 787, 50, 532, 41, 7, 3, 10, 2583, 2584, 78, 259, 60, 205, 69, 323, 51, 73, 2, 47, 63, 78, 40, 6, 3, 2585, 183], [288, 94, 2586, 68, 538, 94, 17, 143, 2587, 68, 634, 2588, 432, 94, 17, 2589, 68, 226, 2590], [2, 210, 6, 2591], [2592, 1, 2593, 42, 673, 50, 2594, 52, 275, 23, 788, 120, 186, 15, 246, 120], [], [2595, 20, 519, 42, 21, 2596, 482, 44, 77, 51], [63, 261, 417, 39, 18, 2597, 2, 2598, 41, 47, 256, 6, 47, 2599, 2600, 52, 45, 364, 20, 59, 47, 256, 46, 2601, 44, 2602, 2603, 2604, 2605, 21, 2606], [2607, 435, 404, 141, 49, 626, 141], [], [7, 3, 55, 18, 285, 8, 18, 104, 113, 682, 335, 2608, 2609, 97, 165, 10, 314, 2610, 2, 609, 442, 187, 427, 2611, 2612, 530, 779, 2613, 2614], [20, 60, 2615, 1, 223, 2616, 63, 1, 223, 791, 2, 792, 793, 1, 12, 2617, 791, 10, 96, 84, 12, 433, 793, 44, 429, 2618, 2619, 2620, 1, 12, 2621, 2622, 44, 2623, 2624, 407, 410, 69, 12, 2625, 50, 783, 784], [21, 48, 5, 102, 1, 2, 169, 4, 73, 379, 76, 240, 789, 46, 490, 173, 10, 125, 121, 3, 90, 105, 73, 662, 2626, 2627, 44, 574, 8, 44, 2628], [598, 268, 596, 371, 2629, 1, 421, 2630, 434, 2631, 4, 225], [40, 6, 12, 2632, 1, 2, 2633, 2634, 99, 193, 79, 73, 1, 149, 464], [21, 2635, 1, 70, 63, 2636, 10, 267, 367, 18, 28, 104, 71, 44, 2637, 18, 2638, 50, 112, 1, 2, 785], [1, 2639, 43, 93, 134, 10, 329, 1, 2640, 41, 2641, 21, 58, 61, 144, 186, 794, 10, 2642, 144, 8, 47, 263, 123, 91, 2643, 61, 5, 255, 2644, 794, 51, 452, 2645, 2646, 1, 58, 61, 144, 67, 5, 2647, 1, 12, 211, 279, 45, 2648, 20, 63, 40, 6, 15, 2649], [423, 2650, 2651, 2652, 15, 2653, 2654, 1, 2655, 196, 296, 2656, 7, 3, 81, 2, 795, 64, 5, 54, 60, 2657, 196, 2658, 2659, 21, 196, 594, 595, 2660, 1, 2, 425, 428, 422, 2, 2661, 768, 60, 2662, 196, 458], [52, 780, 1, 2663, 15, 2664, 61, 2665, 39, 2666, 55, 12, 2667, 61, 417, 10, 2668, 6, 55, 2669, 43, 12, 6, 2670, 44, 2671, 1, 2, 2672, 41, 637, 2673, 122, 133, 2674, 478, 5, 54, 742, 53, 629, 158, 8, 95, 2675, 543, 544], [2676, 74, 40, 177, 190, 39, 65, 2677, 58, 2678, 53, 397, 136, 42, 2679, 40, 6, 2, 2680, 229, 1, 101, 42, 2681, 114, 2682, 8, 43, 57, 2683, 2684, 8, 2685, 18, 2686], [151, 2687, 1, 2688, 56, 2689], [777, 2690, 2691, 2692, 21, 2, 425, 428, 422, 196, 2693, 4, 2, 778, 7, 3, 81, 2, 795, 64, 5, 54, 23, 60, 2694, 423, 537, 2695, 21, 2696, 1, 2, 2697, 1, 2698], [47, 796, 53, 318, 41, 47, 797, 39, 798, 5, 799, 41, 10, 251, 250, 800, 1, 191, 430, 41, 7, 3, 5, 412, 1, 2, 333, 21, 431, 165], [2699, 2700, 801, 2701, 2702, 2703, 2704, 371, 2705, 2706, 801, 2707, 2708, 2709, 2710, 2711, 119, 2712, 2713, 2714, 2715, 2716, 2717, 2718, 2719], [47, 796, 53, 318, 41, 47, 797, 39, 798, 5, 799, 41, 10, 251, 250, 800, 1, 191, 430, 41, 7, 3, 5, 412, 1, 2, 333, 21, 431, 165], [11, 109, 229, 43, 93, 58, 41, 2720, 127, 3, 98], [], [2721, 5, 2722, 44, 802, 285, 322, 77, 82, 508, 2723, 2724, 2725, 82, 60, 2726, 10, 66, 18, 2727, 1, 719, 2728, 2, 2729, 1, 2, 802, 56, 46, 2730, 18, 2731, 1, 2732, 725, 10, 12, 433, 322, 2, 2733, 1, 12, 433, 77, 562, 1, 2, 792, 45, 413], [215, 2734, 2735, 1, 5, 54, 8, 3, 10, 156, 252, 50, 217, 158, 156, 677, 10, 2, 215, 60, 71, 85, 2736, 10, 2737, 345, 5, 2738, 44, 664, 98, 122, 178, 7, 3, 177, 10, 346, 15, 2739], [434], [2740, 41, 7, 3, 2741], [197, 111, 53, 73, 55, 40, 6, 2742, 2743, 294, 46, 73, 152, 643, 82, 71, 10, 541], [225, 2744, 569, 434, 225, 2745, 200, 2746, 2747, 2748, 2749, 225, 269, 421, 2750], [5, 54, 2751], [2752, 2753, 2754, 2755, 2756, 2757, 2758, 200, 296, 7, 3, 10, 2759, 138, 2760, 64, 5, 54, 2761, 2762, 2763, 2764, 1, 2765], []]\n"
          ]
        }
      ]
    },
    {
      "cell_type": "code",
      "source": [
        "#Analyze Reviews Length\n",
        "import pandas as pd\n",
        "import matplotlib.pyplot as plt\n",
        "%matplotlib inline\n",
        "\n",
        "comment_len = [len(x) for x in Tokenize_the_words]\n",
        "pd.Series(comment_len).hist()\n",
        "plt.show()\n",
        "pd.Series(comment_len).describe()"
      ],
      "metadata": {
        "colab": {
          "base_uri": "https://localhost:8080/",
          "height": 427
        },
        "id": "Cxwm5jLI-vAL",
        "outputId": "62b2e198-b1dd-4932-f45b-5aa022010adc"
      },
      "execution_count": 285,
      "outputs": [
        {
          "output_type": "display_data",
          "data": {
            "text/plain": [
              "<Figure size 432x288 with 1 Axes>"
            ],
            "image/png": "[encoded data removed]"
          },
          "metadata": {
            "needs_background": "light"
          }
        },
        {
          "output_type": "execute_result",
          "data": {
            "text/plain": [
              "count    501.000000\n",
              "mean      20.065868\n",
              "std       14.462007\n",
              "min        0.000000\n",
              "25%        8.000000\n",
              "50%       20.000000\n",
              "75%       27.000000\n",
              "max       55.000000\n",
              "dtype: float64"
            ]
          },
          "metadata": {},
          "execution_count": 285
        }
      ]
    },
    {
      "cell_type": "code",
      "source": [
        "#Padding / Truncating the remaining data\n",
        "import numpy as np\n",
        "def pad_features(Tokenize_the_words, seq_length):\n",
        "    ''' Return features of Tokenize_the_words, where each review is padded with 0's or truncated to the input seq_length.'''\n",
        "    features = np.zeros((len(Tokenize_the_words), seq_length), dtype = int)\n",
        "    \n",
        "    for i, sentence in enumerate(Tokenize_the_words):\n",
        "        sentence_len = len(sentence)\n",
        "        \n",
        "        if sentence_len <= seq_length:\n",
        "            zeroes = list(np.zeros(seq_length-sentence_len))\n",
        "            new = zeroes+sentence        \n",
        "        elif sentence_len > seq_length:\n",
        "            new = sentence[0:seq_length]\n",
        "        \n",
        "        features[i,:] = np.array(new)\n",
        "    \n",
        "    return features"
      ],
      "metadata": {
        "id": "6Zv5gXonOUoo"
      },
      "execution_count": 286,
      "outputs": []
    },
    {
      "cell_type": "code",
      "source": [
        "\n",
        "pad_features(Tokenize_the_words, 500)"
      ],
      "metadata": {
        "colab": {
          "base_uri": "https://localhost:8080/"
        },
        "id": "oFqvD88WBuHg",
        "outputId": "e5d2e083-b83a-40a6-a923-0d7dcae44d4f"
      },
      "execution_count": 287,
      "outputs": [
        {
          "output_type": "execute_result",
          "data": {
            "text/plain": [
              "array([[   0,    0,    0, ...,    0,    0,  803],\n",
              "       [   0,    0,    0, ...,  232,  293,  806],\n",
              "       [   0,    0,    0, ...,  809,   41,   91],\n",
              "       ...,\n",
              "       [   0,    0,    0, ..., 2764,    1, 2765],\n",
              "       [   0,    0,    0, ...,    0,    0,    0],\n",
              "       [   0,    0,    0, ..., 2770, 2771, 2772]])"
            ]
          },
          "metadata": {},
          "execution_count": 287
        }
      ]
    },
    {
      "cell_type": "code",
      "source": [
        "tensor = pad_features(Tokenize_the_words, 500)\n",
        "final_result = model.predict(tensor)"
      ],
      "metadata": {
        "id": "EcFMRohzNjzD"
      },
      "execution_count": 288,
      "outputs": []
    },
    {
      "cell_type": "code",
      "source": [
        "positive = 0 \n",
        "negative = 0 \n",
        "neutral = 0\n",
        "for i in range(len(final_result)):\n",
        "  if final_result[i] > 0.55555555: \n",
        "    positive = positive + 1\n",
        "  elif final_result[i] < 0.55555555:\n",
        "    negative = negative + 1\n",
        "  else :\n",
        "    neutral = neutral + 1\n",
        "print('positive comment:',positive)\n",
        "print()\n",
        "print('negative comment:',negative)\n",
        "print()\n",
        "print('neutral comment:',neutral)"
      ],
      "metadata": {
        "id": "t-ltCPtjPmnl",
        "colab": {
          "base_uri": "https://localhost:8080/"
        },
        "outputId": "2f3d85d9-492e-4955-9bb6-4aa75d2b0423"
      },
      "execution_count": 289,
      "outputs": [
        {
          "output_type": "stream",
          "name": "stdout",
          "text": [
            "positive comment: 330\n",
            "\n",
            "negative comment: 171\n",
            "\n",
            "neutral comment: 0\n"
          ]
        }
      ]
    },
    {
      "cell_type": "code",
      "source": [
        "from matplotlib import pyplot as plt\n",
        "import numpy as np\n",
        "sentiment = ['positive','NEGATIVE','neutral']\n",
        "data=[positive, negative, neutral]\n",
        "\n",
        "def func(pct, allvalues):\n",
        "    absolute = int(pct / 100.*np.sum(allvalues))\n",
        "    return \"{:.1f}%\\n{:d}\".format(pct, absolute)\n",
        "\n",
        "fig = plt.figure(figsize=(6,6), dpi=100)\n",
        "plt.pie(data, labels= sentiment, autopct = lambda pct: func(pct, data) )\n",
        "plt.title(\"Sentiment analysis study conserning Movies Review\")\n",
        "plt.show()"
      ],
      "metadata": {
        "id": "6TJ5jTfo5jSI",
        "colab": {
          "base_uri": "https://localhost:8080/",
          "height": 512
        },
        "outputId": "39145a6e-8428-488b-ae8d-a282bf2da595"
      },
      "execution_count": 290,
      "outputs": [
        {
          "output_type": "display_data",
          "data": {
            "text/plain": [
              "<Figure size 600x600 with 1 Axes>"
            ],
            "image/png": "[encoded data removed]"
          },
          "metadata": {}
        }
      ]
    },
    {
      "cell_type": "markdown",
      "source": [
        "# Real test"
      ],
      "metadata": {
        "id": "FyFwUNEqnivv"
      }
    },
    {
      "cell_type": "code",
      "source": [
        "wordst = [\"Robert DeNiro plays the most unbelievably intelligent illiterate of all time. This movie is so wasteful of talent, it is truly disgusting.The script is unbelievable. The dialog is unbelievable. Jane Fonda's character is a caricature of herself, and not a funny one. The movie moves at a snail's pace, is photographed in an ill-advised manner, and is insufferably preachy. It also plugs in every cliche in the book. Swoozie Kurtz is excellent in a supporting role, but so what?<br /><br />Equally annoying is this new IMDB rule of requiring ten lines for every review. When a movie is this worthless, it doesn't require ten lines of text to let other readers know that it is a waste of time and tape. Avoid this movie.\",'you are so stupid on this game']"
      ],
      "metadata": {
        "id": "bUupNquk5mtB"
      },
      "execution_count": 30,
      "outputs": []
    },
    {
      "cell_type": "code",
      "source": [
        "from collections import Counter\n",
        "\n",
        "all_text2 = ' '.join(wordst)\n",
        "# create a list of words\n",
        "words = all_text2.split()\n",
        "# Count all the words using Counter Method\n",
        "count_words = Counter(words)\n"
      ],
      "metadata": {
        "id": "5MWBj8YcVk8c"
      },
      "execution_count": 31,
      "outputs": []
    },
    {
      "cell_type": "code",
      "source": [
        "total_words = len(words)\n",
        "sorted_words = count_words.most_common(total_words)\n",
        "print(count_words)"
      ],
      "metadata": {
        "colab": {
          "base_uri": "https://localhost:8080/"
        },
        "id": "nL1CIxx2o5Qe",
        "outputId": "98856ded-6861-4288-da05-e5761b9f3f55"
      },
      "execution_count": 32,
      "outputs": [
        {
          "output_type": "stream",
          "name": "stdout",
          "text": [
            "Counter({'is': 11, 'of': 6, 'a': 6, 'in': 4, 'this': 4, 'movie': 3, 'so': 3, 'it': 3, 'and': 3, 'the': 2, 'unbelievable.': 2, 'The': 2, 'every': 2, 'ten': 2, 'lines': 2, 'Robert': 1, 'DeNiro': 1, 'plays': 1, 'most': 1, 'unbelievably': 1, 'intelligent': 1, 'illiterate': 1, 'all': 1, 'time.': 1, 'This': 1, 'wasteful': 1, 'talent,': 1, 'truly': 1, 'disgusting.The': 1, 'script': 1, 'dialog': 1, 'Jane': 1, \"Fonda's\": 1, 'character': 1, 'caricature': 1, 'herself,': 1, 'not': 1, 'funny': 1, 'one.': 1, 'moves': 1, 'at': 1, \"snail's\": 1, 'pace,': 1, 'photographed': 1, 'an': 1, 'ill-advised': 1, 'manner,': 1, 'insufferably': 1, 'preachy.': 1, 'It': 1, 'also': 1, 'plugs': 1, 'cliche': 1, 'book.': 1, 'Swoozie': 1, 'Kurtz': 1, 'excellent': 1, 'supporting': 1, 'role,': 1, 'but': 1, 'what?<br': 1, '/><br': 1, '/>Equally': 1, 'annoying': 1, 'new': 1, 'IMDB': 1, 'rule': 1, 'requiring': 1, 'for': 1, 'review.': 1, 'When': 1, 'worthless,': 1, \"doesn't\": 1, 'require': 1, 'text': 1, 'to': 1, 'let': 1, 'other': 1, 'readers': 1, 'know': 1, 'that': 1, 'waste': 1, 'time': 1, 'tape.': 1, 'Avoid': 1, 'movie.': 1, 'you': 1, 'are': 1, 'stupid': 1, 'on': 1, 'game': 1})\n"
          ]
        }
      ]
    },
    {
      "cell_type": "code",
      "source": [
        "\n",
        "vocab_to_int = {w:i+1 for i, (w,c) in enumerate(sorted_words)}\n",
        "print(vocab_to_int)"
      ],
      "metadata": {
        "colab": {
          "base_uri": "https://localhost:8080/"
        },
        "id": "M-h0RutQo7Lr",
        "outputId": "e698e158-d3d4-4c10-ffdb-e24d489500a4"
      },
      "execution_count": 33,
      "outputs": [
        {
          "output_type": "stream",
          "name": "stdout",
          "text": [
            "{'is': 1, 'of': 2, 'a': 3, 'in': 4, 'this': 5, 'movie': 6, 'so': 7, 'it': 8, 'and': 9, 'the': 10, 'unbelievable.': 11, 'The': 12, 'every': 13, 'ten': 14, 'lines': 15, 'Robert': 16, 'DeNiro': 17, 'plays': 18, 'most': 19, 'unbelievably': 20, 'intelligent': 21, 'illiterate': 22, 'all': 23, 'time.': 24, 'This': 25, 'wasteful': 26, 'talent,': 27, 'truly': 28, 'disgusting.The': 29, 'script': 30, 'dialog': 31, 'Jane': 32, \"Fonda's\": 33, 'character': 34, 'caricature': 35, 'herself,': 36, 'not': 37, 'funny': 38, 'one.': 39, 'moves': 40, 'at': 41, \"snail's\": 42, 'pace,': 43, 'photographed': 44, 'an': 45, 'ill-advised': 46, 'manner,': 47, 'insufferably': 48, 'preachy.': 49, 'It': 50, 'also': 51, 'plugs': 52, 'cliche': 53, 'book.': 54, 'Swoozie': 55, 'Kurtz': 56, 'excellent': 57, 'supporting': 58, 'role,': 59, 'but': 60, 'what?<br': 61, '/><br': 62, '/>Equally': 63, 'annoying': 64, 'new': 65, 'IMDB': 66, 'rule': 67, 'requiring': 68, 'for': 69, 'review.': 70, 'When': 71, 'worthless,': 72, \"doesn't\": 73, 'require': 74, 'text': 75, 'to': 76, 'let': 77, 'other': 78, 'readers': 79, 'know': 80, 'that': 81, 'waste': 82, 'time': 83, 'tape.': 84, 'Avoid': 85, 'movie.': 86, 'you': 87, 'are': 88, 'stupid': 89, 'on': 90, 'game': 91}\n"
          ]
        }
      ]
    },
    {
      "cell_type": "code",
      "source": [
        "Tokenize_the_words = []\n",
        "for sentence in wordst :\n",
        "  r = [vocab_to_int[w] for w in sentence.split()]\n",
        "  Tokenize_the_words.append(r)\n",
        "print (Tokenize_the_words[0:2])"
      ],
      "metadata": {
        "colab": {
          "base_uri": "https://localhost:8080/"
        },
        "id": "3URrFBJao92f",
        "outputId": "4624fed2-b62a-43f5-de3d-e95bbb015b13"
      },
      "execution_count": 34,
      "outputs": [
        {
          "output_type": "stream",
          "name": "stdout",
          "text": [
            "[[16, 17, 18, 10, 19, 20, 21, 22, 2, 23, 24, 25, 6, 1, 7, 26, 2, 27, 8, 1, 28, 29, 30, 1, 11, 12, 31, 1, 11, 32, 33, 34, 1, 3, 35, 2, 36, 9, 37, 3, 38, 39, 12, 6, 40, 41, 3, 42, 43, 1, 44, 4, 45, 46, 47, 9, 1, 48, 49, 50, 51, 52, 4, 13, 53, 4, 10, 54, 55, 56, 1, 57, 4, 3, 58, 59, 60, 7, 61, 62, 63, 64, 1, 5, 65, 66, 67, 2, 68, 14, 15, 69, 13, 70, 71, 3, 6, 1, 5, 72, 8, 73, 74, 14, 15, 2, 75, 76, 77, 78, 79, 80, 81, 8, 1, 3, 82, 2, 83, 9, 84, 85, 5, 86], [87, 88, 7, 89, 90, 5, 91]]\n"
          ]
        }
      ]
    },
    {
      "cell_type": "code",
      "source": [
        "import numpy as np\n",
        "def pad_features(Tokenize_the_words, seq_length):\n",
        "    ''' Return features of Tokenize_the_words, where each review is padded with 0's or truncated to the input seq_length.'''\n",
        "    features = np.zeros((len(Tokenize_the_words), seq_length), dtype = int)\n",
        "    \n",
        "    for i, sentence in enumerate(Tokenize_the_words):\n",
        "        sentence_len = len(sentence)\n",
        "        \n",
        "        if sentence_len <= seq_length:\n",
        "            zeroes = list(np.zeros(seq_length-sentence_len))\n",
        "            new = zeroes+sentence        \n",
        "        elif sentence_len > seq_length:\n",
        "            new = sentence[0:seq_length]\n",
        "        \n",
        "        features[i,:] = np.array(new)\n",
        "    \n",
        "    return features"
      ],
      "metadata": {
        "id": "0zwPZ_eZVxCG"
      },
      "execution_count": 35,
      "outputs": []
    },
    {
      "cell_type": "code",
      "source": [
        "tensor = pad_features(Tokenize_the_words, 500)\n",
        "final_result = model.predict(tensor)\n",
        "print(final_result)"
      ],
      "metadata": {
        "id": "EHDyp63tWB3P",
        "colab": {
          "base_uri": "https://localhost:8080/"
        },
        "outputId": "f8d6318b-a458-4d12-c189-6753124a1629"
      },
      "execution_count": 36,
      "outputs": [
        {
          "output_type": "stream",
          "name": "stdout",
          "text": [
            "[[0.938721 ]\n",
            " [0.9999716]]\n"
          ]
        }
      ]
    },
    {
      "cell_type": "code",
      "source": [
        "positive = 0 \n",
        "negative = 0 \n",
        "neutral = 0\n",
        "for i in range(len(final_result)):\n",
        "  if final_result[i] > 0.5: \n",
        "    positive = positive + 1\n",
        "  elif final_result[i] < 0.5:\n",
        "    negative = negative + 1\n",
        "  else :\n",
        "    neutral = neutral + 1\n",
        "print('positive comment:',positive)\n",
        "print()\n",
        "print('negative comment:',negative)\n",
        "print()\n",
        "print('neutral comment:',neutral)"
      ],
      "metadata": {
        "colab": {
          "base_uri": "https://localhost:8080/"
        },
        "id": "P9ODkS22padw",
        "outputId": "c18cfc0a-df83-49cf-d99d-682c254880e2"
      },
      "execution_count": 37,
      "outputs": [
        {
          "output_type": "stream",
          "name": "stdout",
          "text": [
            "positive comment: 2\n",
            "\n",
            "negative comment: 0\n",
            "\n",
            "neutral comment: 0\n"
          ]
        }
      ]
    },
    {
      "cell_type": "code",
      "source": [
        "from matplotlib import pyplot as plt\n",
        "import numpy as np\n",
        "sentiment = ['positive','NEGATIVE','neutral']\n",
        "data=[positive, negative, neutral]\n",
        "\n",
        "def func(pct, allvalues):\n",
        "    absolute = int(pct / 100.*np.sum(allvalues))\n",
        "    return \"{:.1f}%\\n{:d}\".format(pct, absolute)\n",
        "\n",
        "fig = plt.figure(figsize=(6,6), dpi=100)\n",
        "plt.pie(data, labels= sentiment, autopct = lambda pct: func(pct, data) )\n",
        "plt.title(\"Sentiment analysis study conserning Movies Review\")\n",
        "plt.show()"
      ],
      "metadata": {
        "colab": {
          "base_uri": "https://localhost:8080/",
          "height": 512
        },
        "id": "dfPDyGuKpfwG",
        "outputId": "403814b8-cef6-40c3-f42a-ca519cf2658a"
      },
      "execution_count": 38,
      "outputs": [
        {
          "output_type": "display_data",
          "data": {
            "text/plain": [
              "<Figure size 600x600 with 1 Axes>"
            ],
            "image/png": "[encoded data removed]"
          },
          "metadata": {}
        }
      ]
    },
    {
      "cell_type": "markdown",
      "metadata": {
        "id": "JvBUJvBApCPx"
      },
      "source": [
        "3. Perform sentiment analysis"
      ]
    },
    {
      "cell_type": "markdown",
      "source": [
        "# Sentimental study on 2022 Elective study"
      ],
      "metadata": {
        "id": "Xkm8wsQ_8mD3"
      }
    },
    {
      "cell_type": "markdown",
      "source": [
        "the goal of this study is to predict the next president of France of the election of 2022 based on 1000 tweeter reviews about the topic twitter ,\n",
        "there are mainly 12 candidats which are:\n",
        "\n",
        "*   Nathalie Arthaud \n",
        "*   Nicolas Dupont-Aignan\n",
        "*   Anne Hidalgo\n",
        "*   Yannick Jadot\n",
        "*   Jean Lassalle\n",
        "*   Marine Le Pen\n",
        "*   Emmanuel Macron\n",
        "*   Jean-Luc Mélenchon\n",
        "*   Valérie Pécresse\n",
        "*   Philippe Poutou\n",
        "*   Fabien Roussel\n",
        "*   Eric Zemmour\n"
      ],
      "metadata": {
        "id": "yvNNrTG48xjJ"
      }
    },
    {
      "cell_type": "code",
      "source": [
        "candidats = ['Nathalie Arthaud','Nicolas Dupont-Aignan','Anne Hidalgo','Yannick Jadot','Jean Lassalle','Marine Le Pen','Emmanuel Macron'\n",
        ",'Jean-Luc Mélenchon','Valérie Pécresse','Philippe Poutou','Fabien Roussel','Eric Zemmour']\n",
        "\n",
        "#important features\n",
        "import snscrape.modules.twitter as sntwitter\n",
        "import pandas as pd\n",
        "import progressbar\n",
        "from time import sleep\n",
        "from datetime import datetime\n",
        "import os\n",
        "import numpy as np\n",
        "from matplotlib import pyplot as plt\n",
        "from collections import Counter\n",
        "#choose a keyword\n",
        "movie_dict = {'bitcoin': ['bitcoin since:2022-01-01 until:2022-04-23', 500]}\n",
        "\n",
        "\n",
        "#build a filter\n",
        "today = datetime.today().strftime('%Y%m%d')[2:]+'_'\n",
        "for index, movie_name in enumerate(movie_dict):\n",
        "    print(movie_name, '%')\n",
        "    tweets_list1 = []\n",
        "    bar = progressbar.ProgressBar(maxval=movie_dict[movie_name][1]+2, widgets=[progressbar.Bar('=', '[', ']'), ' ', progressbar.Percentage()])\n",
        "    bar.start()\n",
        "    for i,tweet in enumerate(sntwitter.TwitterSearchScraper(f'{movie_dict[movie_name][0]}').get_items()): \n",
        "      #declare a username\n",
        "        bar.update(i+1)\n",
        "        if i>movie_dict[movie_name][1]: \n",
        "          #number of tweets you want to scrape\n",
        "            break\n",
        "        #print(movie_name, i, tweet)\n",
        "        tweets_list1.append([tweet.date, tweet.id, tweet.content, tweet.username]) \n",
        "        #declare the attributes to be returned\n",
        "    tweets_df1 = pd.DataFrame(tweets_list1, columns=['Datetime', 'Tweet Id', 'Text', 'Username'])\n",
        "\n",
        "    tweets_df1[['Datetime', 'Text']].to_csv(f'{index}.csv')\n",
        "    bar.finish()\n",
        "    #save the comments in csv files\n",
        "\n",
        "#when importing empty rows, they are transformed to nan, so we need to drop them here\n",
        "df = pd.read_csv('/content/0.csv')[['Text']]\n",
        "#df\n",
        "\n",
        "\n",
        "#get rid of links and hashtags\n",
        "df[\"Text\"] = df[\"Text\"].apply(lambda x : ' '.join([s for s in x.split(' ') if s.find('@') == -1 and s.find('www') == -1 and s.find('https') == -1]))\n",
        "#get rid of non-ascii characters\n",
        "df = df.replace(r'\\W+', ' ', regex=True)\n",
        "#df\n",
        "\n",
        "#convert the csv file on to a list[]\n",
        "example=df['Text'].values.tolist()\n",
        "for i in range( len(example)):\n",
        "  example[i-1]= example[i-1].lower()\n",
        "#print(example)\n",
        "\n",
        "#build a word counter\n",
        "\n",
        "all_text2 = ' '.join(example)\n",
        "# create a list of words\n",
        "words = all_text2.split()\n",
        "# Count all the words using Counter Method\n",
        "count_words = Counter(words)\n",
        "\n",
        "total_words = len(words)\n",
        "sorted_words = count_words.most_common(total_words)\n",
        "#print(count_words)\n",
        "\n",
        "#index each word\n",
        "vocab_to_int = {w:i+1 for i, (w,c) in enumerate(sorted_words)}\n",
        "#print(vocab_to_int)\n",
        "\n",
        "#Tokenize the words on each sentence\n",
        "Tokenize_the_words = []\n",
        "for sentence in example :\n",
        "  r = [vocab_to_int[w] for w in sentence.split()]\n",
        "  Tokenize_the_words.append(r)\n",
        "#print (Tokenize_the_words[0:500])\n",
        "#Padding / Truncating the remaining data\n",
        "\n",
        "def pad_features(Tokenize_the_words, seq_length):\n",
        "    ''' Return features of Tokenize_the_words, where each review is padded with 0's or truncated to the input seq_length.'''\n",
        "    features = np.zeros((len(Tokenize_the_words), seq_length), dtype = int)\n",
        "    \n",
        "    for i, sentence in enumerate(Tokenize_the_words):\n",
        "        sentence_len = len(sentence)\n",
        "        \n",
        "        if sentence_len <= seq_length:\n",
        "            zeroes = list(np.zeros(seq_length-sentence_len))\n",
        "            new = zeroes+sentence        \n",
        "        elif sentence_len > seq_length:\n",
        "            new = sentence[0:seq_length]\n",
        "        \n",
        "        features[i,:] = np.array(new)\n",
        "    \n",
        "    return features\n",
        "\n",
        "tensor = pad_features(Tokenize_the_words, 500)\n",
        "final_result = model.predict(tensor)\n",
        "\n",
        "positive = 0 \n",
        "negative = 0 \n",
        "neutral = 0\n",
        "for i in range(len(final_result)):\n",
        "  if final_result[i] < 0.55555555: \n",
        "    positive = positive + 1\n",
        "  elif final_result[i] > 0.55555555:\n",
        "    negative = negative + 1\n",
        "  else :\n",
        "    neutral = neutral + 1\n",
        "print('positive comment:',positive)\n",
        "print()\n",
        "print('negative comment:',negative)\n",
        "print()\n",
        "print('neutral comment:',neutral)\n",
        "\n",
        "sentiment = ['positive','NEGATIVE','neutral']\n",
        "data=[positive, negative, neutral]\n",
        "\n",
        "def func(pct, allvalues):\n",
        "    absolute = int(pct / 100.*np.sum(allvalues))\n",
        "    return \"{:.1f}%\\n{:d}\".format(pct, absolute)\n",
        "\n",
        "fig = plt.figure(figsize=(6,6), dpi=100)\n",
        "plt.pie(data, labels= sentiment, autopct = lambda pct: func(pct, data) )\n",
        "plt.title(\"Sentiment analysis study conserning Movies Review\")\n",
        "plt.show()"
      ],
      "metadata": {
        "colab": {
          "base_uri": "https://localhost:8080/",
          "height": 636
        },
        "id": "JSwbTTdz_qV4",
        "outputId": "b87af167-2d77-4251-b2ff-c1e6eb523dd3"
      },
      "execution_count": 203,
      "outputs": [
        {
          "output_type": "stream",
          "name": "stderr",
          "text": [
            "\r                                                                               \r\r[                                                                        ] N/A%"
          ]
        },
        {
          "output_type": "stream",
          "name": "stdout",
          "text": [
            "bitcoin %\n"
          ]
        },
        {
          "output_type": "stream",
          "name": "stderr",
          "text": [
            "[========================================================================] 100%\n"
          ]
        },
        {
          "output_type": "stream",
          "name": "stdout",
          "text": [
            "positive comment: 325\n",
            "\n",
            "negative comment: 176\n",
            "\n",
            "neutral comment: 0\n"
          ]
        },
        {
          "output_type": "display_data",
          "data": {
            "text/plain": [
              "<Figure size 600x600 with 1 Axes>"
            ],
            "image/png": "[encoded data removed]"
          },
          "metadata": {}
        }
      ]
    }
  ],
  "metadata": {
    "colab": {
      "collapsed_sections": [
        "NJyEOuLElsek",
        "FyFwUNEqnivv",
        "Xkm8wsQ_8mD3"
      ],
      "name": "21SF03328-CHAMS EDDINE LOUHMADI(NLP Model).ipynb",
      "provenance": [],
      "authorship_tag": "ABX9TyOFhyfgDW4AplI4MbFazpSk",
      "include_colab_link": true
    },
    "kernelspec": {
      "display_name": "Python 3",
      "name": "python3"
    },
    "language_info": {
      "name": "python"
    }
  },
  "nbformat": 4,
  "nbformat_minor": 0
}