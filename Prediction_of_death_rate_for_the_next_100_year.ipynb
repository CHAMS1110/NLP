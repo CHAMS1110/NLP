{
  "nbformat": 4,
  "nbformat_minor": 0,
  "metadata": {
    "colab": {
      "provenance": [],
      "authorship_tag": "ABX9TyM6EkyZBpgBbTay0sNxOymS",
      "include_colab_link": true
    },
    "kernelspec": {
      "name": "python3",
      "display_name": "Python 3"
    },
    "language_info": {
      "name": "python"
    },
    "accelerator": "TPU",
    "gpuClass": "standard"
  },
  "cells": [
    {
      "cell_type": "markdown",
      "metadata": {
        "id": "view-in-github",
        "colab_type": "text"
      },
      "source": [
        "<a href=\"https://colab.research.google.com/github/CHAMS1110/NLP/blob/main/Prediction_of_death_rate_for_the_next_100_year.ipynb\" target=\"_parent\"><img src=\"https://colab.research.google.com/assets/colab-badge.svg\" alt=\"Open In Colab\"/></a>"
      ]
    },
    {
      "cell_type": "markdown",
      "source": [
        "# 1. Importing Required Libraries for numerical analysis and prediction of stock prices\n"
      ],
      "metadata": {
        "id": "Y_ZRgQRqLoJp"
      }
    },
    {
      "cell_type": "code",
      "source": [
        "import numpy as np\n",
        "import matplotlib.pyplot as plt\n",
        "import plotly.express as px\n",
        "import pandas as pd \n",
        "from sklearn.preprocessing import MinMaxScaler\n",
        "from sklearn.metrics import mean_squared_error\n",
        "from sklearn import metrics \n",
        "from keras.models import Sequential\n",
        "from keras.layers import Dense, LSTM\n",
        "import math"
      ],
      "metadata": {
        "id": "RmXJaaQYmAz7"
      },
      "execution_count": 2,
      "outputs": []
    },
    {
      "cell_type": "markdown",
      "source": [
        "# 2. Importing the Numerical dataset and performing Exploratory Analysis"
      ],
      "metadata": {
        "id": "nPGtm88yMR_D"
      }
    },
    {
      "cell_type": "code",
      "source": [
        "# Dataframe for exploratory analysis\n",
        "df=pd.read_csv('number-of-deaths-per-year.csv')\n",
        "df.head()"
      ],
      "metadata": {
        "colab": {
          "base_uri": "https://localhost:8080/",
          "height": 206
        },
        "id": "iF-9CATbm86x",
        "outputId": "aad7ced7-6d55-418a-a58c-fcd381edf15f"
      },
      "execution_count": 5,
      "outputs": [
        {
          "output_type": "execute_result",
          "data": {
            "text/plain": [
              "   Year    Deaths\n",
              "0  1950  48788536\n",
              "1  1951  48514550\n",
              "2  1952  47646612\n",
              "3  1953  47499084\n",
              "4  1954  47002804"
            ],
            "text/html": [
              "\n",
              "  <div id=\"df-cc82f205-e1b4-4bab-962c-7b084dff902f\">\n",
              "    <div class=\"colab-df-container\">\n",
              "      <div>\n",
              "<style scoped>\n",
              "    .dataframe tbody tr th:only-of-type {\n",
              "        vertical-align: middle;\n",
              "    }\n",
              "\n",
              "    .dataframe tbody tr th {\n",
              "        vertical-align: top;\n",
              "    }\n",
              "\n",
              "    .dataframe thead th {\n",
              "        text-align: right;\n",
              "    }\n",
              "</style>\n",
              "<table border=\"1\" class=\"dataframe\">\n",
              "  <thead>\n",
              "    <tr style=\"text-align: right;\">\n",
              "      <th></th>\n",
              "      <th>Year</th>\n",
              "      <th>Deaths</th>\n",
              "    </tr>\n",
              "  </thead>\n",
              "  <tbody>\n",
              "    <tr>\n",
              "      <th>0</th>\n",
              "      <td>1950</td>\n",
              "      <td>48788536</td>\n",
              "    </tr>\n",
              "    <tr>\n",
              "      <th>1</th>\n",
              "      <td>1951</td>\n",
              "      <td>48514550</td>\n",
              "    </tr>\n",
              "    <tr>\n",
              "      <th>2</th>\n",
              "      <td>1952</td>\n",
              "      <td>47646612</td>\n",
              "    </tr>\n",
              "    <tr>\n",
              "      <th>3</th>\n",
              "      <td>1953</td>\n",
              "      <td>47499084</td>\n",
              "    </tr>\n",
              "    <tr>\n",
              "      <th>4</th>\n",
              "      <td>1954</td>\n",
              "      <td>47002804</td>\n",
              "    </tr>\n",
              "  </tbody>\n",
              "</table>\n",
              "</div>\n",
              "      <button class=\"colab-df-convert\" onclick=\"convertToInteractive('df-cc82f205-e1b4-4bab-962c-7b084dff902f')\"\n",
              "              title=\"Convert this dataframe to an interactive table.\"\n",
              "              style=\"display:none;\">\n",
              "        \n",
              "  <svg xmlns=\"http://www.w3.org/2000/svg\" height=\"24px\"viewBox=\"0 0 24 24\"\n",
              "       width=\"24px\">\n",
              "    <path d=\"M0 0h24v24H0V0z\" fill=\"none\"/>\n",
              "    <path d=\"M18.56 5.44l.94 2.06.94-2.06 2.06-.94-2.06-.94-.94-2.06-.94 2.06-2.06.94zm-11 1L8.5 8.5l.94-2.06 2.06-.94-2.06-.94L8.5 2.5l-.94 2.06-2.06.94zm10 10l.94 2.06.94-2.06 2.06-.94-2.06-.94-.94-2.06-.94 2.06-2.06.94z\"/><path d=\"M17.41 7.96l-1.37-1.37c-.4-.4-.92-.59-1.43-.59-.52 0-1.04.2-1.43.59L10.3 9.45l-7.72 7.72c-.78.78-.78 2.05 0 2.83L4 21.41c.39.39.9.59 1.41.59.51 0 1.02-.2 1.41-.59l7.78-7.78 2.81-2.81c.8-.78.8-2.07 0-2.86zM5.41 20L4 18.59l7.72-7.72 1.47 1.35L5.41 20z\"/>\n",
              "  </svg>\n",
              "      </button>\n",
              "      \n",
              "  <style>\n",
              "    .colab-df-container {\n",
              "      display:flex;\n",
              "      flex-wrap:wrap;\n",
              "      gap: 12px;\n",
              "    }\n",
              "\n",
              "    .colab-df-convert {\n",
              "      background-color: #E8F0FE;\n",
              "      border: none;\n",
              "      border-radius: 50%;\n",
              "      cursor: pointer;\n",
              "      display: none;\n",
              "      fill: #1967D2;\n",
              "      height: 32px;\n",
              "      padding: 0 0 0 0;\n",
              "      width: 32px;\n",
              "    }\n",
              "\n",
              "    .colab-df-convert:hover {\n",
              "      background-color: #E2EBFA;\n",
              "      box-shadow: 0px 1px 2px rgba(60, 64, 67, 0.3), 0px 1px 3px 1px rgba(60, 64, 67, 0.15);\n",
              "      fill: #174EA6;\n",
              "    }\n",
              "\n",
              "    [theme=dark] .colab-df-convert {\n",
              "      background-color: #3B4455;\n",
              "      fill: #D2E3FC;\n",
              "    }\n",
              "\n",
              "    [theme=dark] .colab-df-convert:hover {\n",
              "      background-color: #434B5C;\n",
              "      box-shadow: 0px 1px 3px 1px rgba(0, 0, 0, 0.15);\n",
              "      filter: drop-shadow(0px 1px 2px rgba(0, 0, 0, 0.3));\n",
              "      fill: #FFFFFF;\n",
              "    }\n",
              "  </style>\n",
              "\n",
              "      <script>\n",
              "        const buttonEl =\n",
              "          document.querySelector('#df-cc82f205-e1b4-4bab-962c-7b084dff902f button.colab-df-convert');\n",
              "        buttonEl.style.display =\n",
              "          google.colab.kernel.accessAllowed ? 'block' : 'none';\n",
              "\n",
              "        async function convertToInteractive(key) {\n",
              "          const element = document.querySelector('#df-cc82f205-e1b4-4bab-962c-7b084dff902f');\n",
              "          const dataTable =\n",
              "            await google.colab.kernel.invokeFunction('convertToInteractive',\n",
              "                                                     [key], {});\n",
              "          if (!dataTable) return;\n",
              "\n",
              "          const docLinkHtml = 'Like what you see? Visit the ' +\n",
              "            '<a target=\"_blank\" href=https://colab.research.google.com/notebooks/data_table.ipynb>data table notebook</a>'\n",
              "            + ' to learn more about interactive tables.';\n",
              "          element.innerHTML = '';\n",
              "          dataTable['output_type'] = 'display_data';\n",
              "          await google.colab.output.renderOutput(dataTable, element);\n",
              "          const docLink = document.createElement('div');\n",
              "          docLink.innerHTML = docLinkHtml;\n",
              "          element.appendChild(docLink);\n",
              "        }\n",
              "      </script>\n",
              "    </div>\n",
              "  </div>\n",
              "  "
            ]
          },
          "metadata": {},
          "execution_count": 5
        }
      ]
    },
    {
      "cell_type": "code",
      "source": [
        "df.info()"
      ],
      "metadata": {
        "colab": {
          "base_uri": "https://localhost:8080/"
        },
        "id": "jm0SoQF0oZrc",
        "outputId": "5099d896-50b2-452c-b505-c4af93e52686"
      },
      "execution_count": 6,
      "outputs": [
        {
          "output_type": "stream",
          "name": "stdout",
          "text": [
            "<class 'pandas.core.frame.DataFrame'>\n",
            "RangeIndex: 151 entries, 0 to 150\n",
            "Data columns (total 2 columns):\n",
            " #   Column  Non-Null Count  Dtype\n",
            "---  ------  --------------  -----\n",
            " 0   Year    151 non-null    int64\n",
            " 1   Deaths  151 non-null    int64\n",
            "dtypes: int64(2)\n",
            "memory usage: 2.5 KB\n"
          ]
        }
      ]
    },
    {
      "cell_type": "code",
      "source": [
        "fig = px.line(df, x = 'Year', y = 'Deaths', title='Death rate per year')\n",
        "#fig1 = px.line(df, x = 'Year', y = 'Estimated', title='Death rate per year')\n",
        "fig.show()\n",
        "#fig1.show()"
      ],
      "metadata": {
        "colab": {
          "base_uri": "https://localhost:8080/",
          "height": 542
        },
        "id": "tCn5hRtVpXSE",
        "outputId": "c106ab83-c244-4834-a93f-ea771340f8dd"
      },
      "execution_count": 7,
      "outputs": [
        {
          "output_type": "display_data",
          "data": {
            "text/html": [
              "<html>\n",
              "<head><meta charset=\"utf-8\" /></head>\n",
              "<body>\n",
              "    <div>            <script src=\"https://cdnjs.cloudflare.com/ajax/libs/mathjax/2.7.5/MathJax.js?config=TeX-AMS-MML_SVG\"></script><script type=\"text/javascript\">if (window.MathJax) {MathJax.Hub.Config({SVG: {font: \"STIX-Web\"}});}</script>                <script type=\"text/javascript\">window.PlotlyConfig = {MathJaxConfig: 'local'};</script>\n",
              "        <script src=\"https://cdn.plot.ly/plotly-2.8.3.min.js\"></script>                <div id=\"5bab3515-b8b9-4bf5-aba2-6c97f4aa6beb\" class=\"plotly-graph-div\" style=\"height:525px; width:100%;\"></div>            <script type=\"text/javascript\">                                    window.PLOTLYENV=window.PLOTLYENV || {};                                    if (document.getElementById(\"5bab3515-b8b9-4bf5-aba2-6c97f4aa6beb\")) {                    Plotly.newPlot(                        \"5bab3515-b8b9-4bf5-aba2-6c97f4aa6beb\",                        [{\"hovertemplate\":\"Year=%{x}<br>Deaths=%{y}<extra></extra>\",\"legendgroup\":\"\",\"line\":{\"color\":\"#636efa\",\"dash\":\"solid\"},\"marker\":{\"symbol\":\"circle\"},\"mode\":\"lines\",\"name\":\"\",\"orientation\":\"v\",\"showlegend\":false,\"x\":[1950,1951,1952,1953,1954,1955,1956,1957,1958,1959,1960,1961,1962,1963,1964,1965,1966,1967,1968,1969,1970,1971,1972,1973,1974,1975,1976,1977,1978,1979,1980,1981,1982,1983,1984,1985,1986,1987,1988,1989,1990,1991,1992,1993,1994,1995,1996,1997,1998,1999,2000,2001,2002,2003,2004,2005,2006,2007,2008,2009,2010,2011,2012,2013,2014,2015,2016,2017,2018,2019,2020,2021,2022,2023,2024,2025,2026,2027,2028,2029,2030,2031,2032,2033,2034,2035,2036,2037,2038,2039,2040,2041,2042,2043,2044,2045,2046,2047,2048,2049,2050,2051,2052,2053,2054,2055,2056,2057,2058,2059,2060,2061,2062,2063,2064,2065,2066,2067,2068,2069,2070,2071,2072,2073,2074,2075,2076,2077,2078,2079,2080,2081,2082,2083,2084,2085,2086,2087,2088,2089,2090,2091,2092,2093,2094,2095,2096,2097,2098,2099,2100],\"xaxis\":\"x\",\"y\":[48788536,48514550,47646612,47499084,47002804,46966096,46806576,47269070,46782736,51327052,54973676,50003184,46406404,47279570,47065424,48459856,48043572,47915490,47947976,48234880,48534130,49683950,47961810,47680360,47493920,47592760,47407650,46745920,46859944,46913596,47316612,47388184,47561960,48133880,48341284,48685436,48487100,48634084,49284176,49064190,49619696,50082060,50181616,50769036,51519240,51355460,51518770,51459176,51761764,51996610,52099820,52095280,52481444,52858470,52965050,53213356,53015852,53391816,54037660,53910188,54329196,54393800,54789780,55034444,55217576,55893036,56200612,56965956,57351676,57938524,63174308,69248160,67096572,60760148,60953908,61936810,62928940,63948976,65001670,66078556,67172550,68306260,69476760,70669150,71892120,73137320,74385600,75649200,76921970,78193560,79467010,80716504,81970110,83228150,84466900,85687870,86882940,88093656,89273650,90427750,91583400,92717680,93840430,94951860,96039360,97129640,98213900,99248800,100258830,101241330,102193336,103125540,104015830,104845176,105670744,106453860,107242104,108002440,108750970,109481870,110223480,110924890,111663280,112377620,113084910,113780020,114458990,115104264,115739560,116343496,116894090,117413700,117868320,118255830,118635080,118945000,119213384,119462820,119702450,119904920,120124130,120344590,120591500,120845110,121104536,121383336,121680890,121985850,122274470,122537590,122811670],\"yaxis\":\"y\",\"type\":\"scatter\"}],                        {\"template\":{\"data\":{\"bar\":[{\"error_x\":{\"color\":\"#2a3f5f\"},\"error_y\":{\"color\":\"#2a3f5f\"},\"marker\":{\"line\":{\"color\":\"#E5ECF6\",\"width\":0.5},\"pattern\":{\"fillmode\":\"overlay\",\"size\":10,\"solidity\":0.2}},\"type\":\"bar\"}],\"barpolar\":[{\"marker\":{\"line\":{\"color\":\"#E5ECF6\",\"width\":0.5},\"pattern\":{\"fillmode\":\"overlay\",\"size\":10,\"solidity\":0.2}},\"type\":\"barpolar\"}],\"carpet\":[{\"aaxis\":{\"endlinecolor\":\"#2a3f5f\",\"gridcolor\":\"white\",\"linecolor\":\"white\",\"minorgridcolor\":\"white\",\"startlinecolor\":\"#2a3f5f\"},\"baxis\":{\"endlinecolor\":\"#2a3f5f\",\"gridcolor\":\"white\",\"linecolor\":\"white\",\"minorgridcolor\":\"white\",\"startlinecolor\":\"#2a3f5f\"},\"type\":\"carpet\"}],\"choropleth\":[{\"colorbar\":{\"outlinewidth\":0,\"ticks\":\"\"},\"type\":\"choropleth\"}],\"contour\":[{\"colorbar\":{\"outlinewidth\":0,\"ticks\":\"\"},\"colorscale\":[[0.0,\"#0d0887\"],[0.1111111111111111,\"#46039f\"],[0.2222222222222222,\"#7201a8\"],[0.3333333333333333,\"#9c179e\"],[0.4444444444444444,\"#bd3786\"],[0.5555555555555556,\"#d8576b\"],[0.6666666666666666,\"#ed7953\"],[0.7777777777777778,\"#fb9f3a\"],[0.8888888888888888,\"#fdca26\"],[1.0,\"#f0f921\"]],\"type\":\"contour\"}],\"contourcarpet\":[{\"colorbar\":{\"outlinewidth\":0,\"ticks\":\"\"},\"type\":\"contourcarpet\"}],\"heatmap\":[{\"colorbar\":{\"outlinewidth\":0,\"ticks\":\"\"},\"colorscale\":[[0.0,\"#0d0887\"],[0.1111111111111111,\"#46039f\"],[0.2222222222222222,\"#7201a8\"],[0.3333333333333333,\"#9c179e\"],[0.4444444444444444,\"#bd3786\"],[0.5555555555555556,\"#d8576b\"],[0.6666666666666666,\"#ed7953\"],[0.7777777777777778,\"#fb9f3a\"],[0.8888888888888888,\"#fdca26\"],[1.0,\"#f0f921\"]],\"type\":\"heatmap\"}],\"heatmapgl\":[{\"colorbar\":{\"outlinewidth\":0,\"ticks\":\"\"},\"colorscale\":[[0.0,\"#0d0887\"],[0.1111111111111111,\"#46039f\"],[0.2222222222222222,\"#7201a8\"],[0.3333333333333333,\"#9c179e\"],[0.4444444444444444,\"#bd3786\"],[0.5555555555555556,\"#d8576b\"],[0.6666666666666666,\"#ed7953\"],[0.7777777777777778,\"#fb9f3a\"],[0.8888888888888888,\"#fdca26\"],[1.0,\"#f0f921\"]],\"type\":\"heatmapgl\"}],\"histogram\":[{\"marker\":{\"pattern\":{\"fillmode\":\"overlay\",\"size\":10,\"solidity\":0.2}},\"type\":\"histogram\"}],\"histogram2d\":[{\"colorbar\":{\"outlinewidth\":0,\"ticks\":\"\"},\"colorscale\":[[0.0,\"#0d0887\"],[0.1111111111111111,\"#46039f\"],[0.2222222222222222,\"#7201a8\"],[0.3333333333333333,\"#9c179e\"],[0.4444444444444444,\"#bd3786\"],[0.5555555555555556,\"#d8576b\"],[0.6666666666666666,\"#ed7953\"],[0.7777777777777778,\"#fb9f3a\"],[0.8888888888888888,\"#fdca26\"],[1.0,\"#f0f921\"]],\"type\":\"histogram2d\"}],\"histogram2dcontour\":[{\"colorbar\":{\"outlinewidth\":0,\"ticks\":\"\"},\"colorscale\":[[0.0,\"#0d0887\"],[0.1111111111111111,\"#46039f\"],[0.2222222222222222,\"#7201a8\"],[0.3333333333333333,\"#9c179e\"],[0.4444444444444444,\"#bd3786\"],[0.5555555555555556,\"#d8576b\"],[0.6666666666666666,\"#ed7953\"],[0.7777777777777778,\"#fb9f3a\"],[0.8888888888888888,\"#fdca26\"],[1.0,\"#f0f921\"]],\"type\":\"histogram2dcontour\"}],\"mesh3d\":[{\"colorbar\":{\"outlinewidth\":0,\"ticks\":\"\"},\"type\":\"mesh3d\"}],\"parcoords\":[{\"line\":{\"colorbar\":{\"outlinewidth\":0,\"ticks\":\"\"}},\"type\":\"parcoords\"}],\"pie\":[{\"automargin\":true,\"type\":\"pie\"}],\"scatter\":[{\"marker\":{\"colorbar\":{\"outlinewidth\":0,\"ticks\":\"\"}},\"type\":\"scatter\"}],\"scatter3d\":[{\"line\":{\"colorbar\":{\"outlinewidth\":0,\"ticks\":\"\"}},\"marker\":{\"colorbar\":{\"outlinewidth\":0,\"ticks\":\"\"}},\"type\":\"scatter3d\"}],\"scattercarpet\":[{\"marker\":{\"colorbar\":{\"outlinewidth\":0,\"ticks\":\"\"}},\"type\":\"scattercarpet\"}],\"scattergeo\":[{\"marker\":{\"colorbar\":{\"outlinewidth\":0,\"ticks\":\"\"}},\"type\":\"scattergeo\"}],\"scattergl\":[{\"marker\":{\"colorbar\":{\"outlinewidth\":0,\"ticks\":\"\"}},\"type\":\"scattergl\"}],\"scattermapbox\":[{\"marker\":{\"colorbar\":{\"outlinewidth\":0,\"ticks\":\"\"}},\"type\":\"scattermapbox\"}],\"scatterpolar\":[{\"marker\":{\"colorbar\":{\"outlinewidth\":0,\"ticks\":\"\"}},\"type\":\"scatterpolar\"}],\"scatterpolargl\":[{\"marker\":{\"colorbar\":{\"outlinewidth\":0,\"ticks\":\"\"}},\"type\":\"scatterpolargl\"}],\"scatterternary\":[{\"marker\":{\"colorbar\":{\"outlinewidth\":0,\"ticks\":\"\"}},\"type\":\"scatterternary\"}],\"surface\":[{\"colorbar\":{\"outlinewidth\":0,\"ticks\":\"\"},\"colorscale\":[[0.0,\"#0d0887\"],[0.1111111111111111,\"#46039f\"],[0.2222222222222222,\"#7201a8\"],[0.3333333333333333,\"#9c179e\"],[0.4444444444444444,\"#bd3786\"],[0.5555555555555556,\"#d8576b\"],[0.6666666666666666,\"#ed7953\"],[0.7777777777777778,\"#fb9f3a\"],[0.8888888888888888,\"#fdca26\"],[1.0,\"#f0f921\"]],\"type\":\"surface\"}],\"table\":[{\"cells\":{\"fill\":{\"color\":\"#EBF0F8\"},\"line\":{\"color\":\"white\"}},\"header\":{\"fill\":{\"color\":\"#C8D4E3\"},\"line\":{\"color\":\"white\"}},\"type\":\"table\"}]},\"layout\":{\"annotationdefaults\":{\"arrowcolor\":\"#2a3f5f\",\"arrowhead\":0,\"arrowwidth\":1},\"autotypenumbers\":\"strict\",\"coloraxis\":{\"colorbar\":{\"outlinewidth\":0,\"ticks\":\"\"}},\"colorscale\":{\"diverging\":[[0,\"#8e0152\"],[0.1,\"#c51b7d\"],[0.2,\"#de77ae\"],[0.3,\"#f1b6da\"],[0.4,\"#fde0ef\"],[0.5,\"#f7f7f7\"],[0.6,\"#e6f5d0\"],[0.7,\"#b8e186\"],[0.8,\"#7fbc41\"],[0.9,\"#4d9221\"],[1,\"#276419\"]],\"sequential\":[[0.0,\"#0d0887\"],[0.1111111111111111,\"#46039f\"],[0.2222222222222222,\"#7201a8\"],[0.3333333333333333,\"#9c179e\"],[0.4444444444444444,\"#bd3786\"],[0.5555555555555556,\"#d8576b\"],[0.6666666666666666,\"#ed7953\"],[0.7777777777777778,\"#fb9f3a\"],[0.8888888888888888,\"#fdca26\"],[1.0,\"#f0f921\"]],\"sequentialminus\":[[0.0,\"#0d0887\"],[0.1111111111111111,\"#46039f\"],[0.2222222222222222,\"#7201a8\"],[0.3333333333333333,\"#9c179e\"],[0.4444444444444444,\"#bd3786\"],[0.5555555555555556,\"#d8576b\"],[0.6666666666666666,\"#ed7953\"],[0.7777777777777778,\"#fb9f3a\"],[0.8888888888888888,\"#fdca26\"],[1.0,\"#f0f921\"]]},\"colorway\":[\"#636efa\",\"#EF553B\",\"#00cc96\",\"#ab63fa\",\"#FFA15A\",\"#19d3f3\",\"#FF6692\",\"#B6E880\",\"#FF97FF\",\"#FECB52\"],\"font\":{\"color\":\"#2a3f5f\"},\"geo\":{\"bgcolor\":\"white\",\"lakecolor\":\"white\",\"landcolor\":\"#E5ECF6\",\"showlakes\":true,\"showland\":true,\"subunitcolor\":\"white\"},\"hoverlabel\":{\"align\":\"left\"},\"hovermode\":\"closest\",\"mapbox\":{\"style\":\"light\"},\"paper_bgcolor\":\"white\",\"plot_bgcolor\":\"#E5ECF6\",\"polar\":{\"angularaxis\":{\"gridcolor\":\"white\",\"linecolor\":\"white\",\"ticks\":\"\"},\"bgcolor\":\"#E5ECF6\",\"radialaxis\":{\"gridcolor\":\"white\",\"linecolor\":\"white\",\"ticks\":\"\"}},\"scene\":{\"xaxis\":{\"backgroundcolor\":\"#E5ECF6\",\"gridcolor\":\"white\",\"gridwidth\":2,\"linecolor\":\"white\",\"showbackground\":true,\"ticks\":\"\",\"zerolinecolor\":\"white\"},\"yaxis\":{\"backgroundcolor\":\"#E5ECF6\",\"gridcolor\":\"white\",\"gridwidth\":2,\"linecolor\":\"white\",\"showbackground\":true,\"ticks\":\"\",\"zerolinecolor\":\"white\"},\"zaxis\":{\"backgroundcolor\":\"#E5ECF6\",\"gridcolor\":\"white\",\"gridwidth\":2,\"linecolor\":\"white\",\"showbackground\":true,\"ticks\":\"\",\"zerolinecolor\":\"white\"}},\"shapedefaults\":{\"line\":{\"color\":\"#2a3f5f\"}},\"ternary\":{\"aaxis\":{\"gridcolor\":\"white\",\"linecolor\":\"white\",\"ticks\":\"\"},\"baxis\":{\"gridcolor\":\"white\",\"linecolor\":\"white\",\"ticks\":\"\"},\"bgcolor\":\"#E5ECF6\",\"caxis\":{\"gridcolor\":\"white\",\"linecolor\":\"white\",\"ticks\":\"\"}},\"title\":{\"x\":0.05},\"xaxis\":{\"automargin\":true,\"gridcolor\":\"white\",\"linecolor\":\"white\",\"ticks\":\"\",\"title\":{\"standoff\":15},\"zerolinecolor\":\"white\",\"zerolinewidth\":2},\"yaxis\":{\"automargin\":true,\"gridcolor\":\"white\",\"linecolor\":\"white\",\"ticks\":\"\",\"title\":{\"standoff\":15},\"zerolinecolor\":\"white\",\"zerolinewidth\":2}}},\"xaxis\":{\"anchor\":\"y\",\"domain\":[0.0,1.0],\"title\":{\"text\":\"Year\"}},\"yaxis\":{\"anchor\":\"x\",\"domain\":[0.0,1.0],\"title\":{\"text\":\"Deaths\"}},\"legend\":{\"tracegroupgap\":0},\"title\":{\"text\":\"Death rate per year\"}},                        {\"responsive\": true}                    ).then(function(){\n",
              "                            \n",
              "var gd = document.getElementById('5bab3515-b8b9-4bf5-aba2-6c97f4aa6beb');\n",
              "var x = new MutationObserver(function (mutations, observer) {{\n",
              "        var display = window.getComputedStyle(gd).display;\n",
              "        if (!display || display === 'none') {{\n",
              "            console.log([gd, 'removed!']);\n",
              "            Plotly.purge(gd);\n",
              "            observer.disconnect();\n",
              "        }}\n",
              "}});\n",
              "\n",
              "// Listen for the removal of the full notebook cells\n",
              "var notebookContainer = gd.closest('#notebook-container');\n",
              "if (notebookContainer) {{\n",
              "    x.observe(notebookContainer, {childList: true});\n",
              "}}\n",
              "\n",
              "// Listen for the clearing of the current output cell\n",
              "var outputEl = gd.closest('.output');\n",
              "if (outputEl) {{\n",
              "    x.observe(outputEl, {childList: true});\n",
              "}}\n",
              "\n",
              "                        })                };                            </script>        </div>\n",
              "</body>\n",
              "</html>"
            ]
          },
          "metadata": {}
        }
      ]
    },
    {
      "cell_type": "markdown",
      "source": [
        "#3. Creating a dataframe for storing the Closing stock data per year"
      ],
      "metadata": {
        "id": "zFDP8i4ZMe8X"
      }
    },
    {
      "cell_type": "code",
      "source": [
        "# convert an array of values into a dataset matrix\n",
        "def create_dataset(df2, look_back=1):\n",
        "\tdataX, dataY = [], []\n",
        "\tfor i in range(len(df2)-look_back-1):\n",
        "\t\ta = df2[i:(i+look_back), 0]\n",
        "\t\tdataX.append(a)\n",
        "\t\tdataY.append(df2[i + look_back, 0])\n",
        "\treturn np.array(dataX), np.array(dataY)"
      ],
      "metadata": {
        "id": "tZzCuw-tPshR"
      },
      "execution_count": 8,
      "outputs": []
    },
    {
      "cell_type": "code",
      "source": [
        "df2 = pd.read_csv('number-of-deaths-per-year.csv', usecols=[1], engine='python')\n",
        "df2.dropna(inplace=True)\n",
        "df2 = df2.values\n",
        "df2 = df2.astype('float32')"
      ],
      "metadata": {
        "id": "jT-Jd6NXPuf3"
      },
      "execution_count": 9,
      "outputs": []
    },
    {
      "cell_type": "markdown",
      "source": [
        "#4. Data Normalization and Division into Training and Test sets"
      ],
      "metadata": {
        "id": "oaJecC8XMlzs"
      }
    },
    {
      "cell_type": "code",
      "source": [
        "# normalize the dataset\n",
        "scaler = MinMaxScaler(feature_range=(0, 1))\n",
        "df2 = scaler.fit_transform(df2)\n",
        "\n",
        "# split into train and test sets\n",
        "train_size = int(len(df2) * 0.50)\n",
        "test_size = len(df2) - train_size\n",
        "train, test = df2[0:train_size,:], df2[train_size:len(df2),:]"
      ],
      "metadata": {
        "id": "nTIK8heaQIXU"
      },
      "execution_count": 10,
      "outputs": []
    },
    {
      "cell_type": "code",
      "source": [
        "# reshape into X=t and Y=t+1\n",
        "look_back = 2\n",
        "trainX, trainY = create_dataset(train, look_back)\n",
        "testX, testY = create_dataset(test, look_back)\n",
        "# reshape input to be [samples, time steps, features]\n",
        "trainX = np.reshape(trainX, (trainX.shape[0], trainX.shape[1], 1))\n",
        "testX = np.reshape(testX, (testX.shape[0], testX.shape[1], 1))"
      ],
      "metadata": {
        "id": "vD4s38zNQ2NC"
      },
      "execution_count": 11,
      "outputs": []
    },
    {
      "cell_type": "markdown",
      "source": [
        "#5. Creating a LSTM Neural Network Model for Numerical Analysis"
      ],
      "metadata": {
        "id": "_KE6Elp8MsLI"
      }
    },
    {
      "cell_type": "code",
      "source": [
        "# create and fit the LSTM network\n",
        "model = Sequential()\n",
        "model.add(LSTM(7, input_shape=(look_back, 1)))\n",
        "model.add(Dense(1))\n",
        "model.compile(loss='mean_squared_error', optimizer='adam')\n",
        "model.fit(trainX, trainY, epochs=100, batch_size=5, verbose=2)"
      ],
      "metadata": {
        "colab": {
          "base_uri": "https://localhost:8080/"
        },
        "id": "rs0SlSBSQ5zS",
        "outputId": "338161cc-4e4c-4cb3-ec50-ebba847dd966"
      },
      "execution_count": 12,
      "outputs": [
        {
          "output_type": "stream",
          "name": "stdout",
          "text": [
            "Epoch 1/100\n",
            "15/15 - 2s - loss: 0.0071 - 2s/epoch - 164ms/step\n",
            "Epoch 2/100\n",
            "15/15 - 0s - loss: 0.0046 - 36ms/epoch - 2ms/step\n",
            "Epoch 3/100\n",
            "15/15 - 0s - loss: 0.0039 - 37ms/epoch - 2ms/step\n",
            "Epoch 4/100\n",
            "15/15 - 0s - loss: 0.0038 - 43ms/epoch - 3ms/step\n",
            "Epoch 5/100\n",
            "15/15 - 0s - loss: 0.0038 - 39ms/epoch - 3ms/step\n",
            "Epoch 6/100\n",
            "15/15 - 0s - loss: 0.0036 - 46ms/epoch - 3ms/step\n",
            "Epoch 7/100\n",
            "15/15 - 0s - loss: 0.0035 - 38ms/epoch - 3ms/step\n",
            "Epoch 8/100\n",
            "15/15 - 0s - loss: 0.0035 - 37ms/epoch - 2ms/step\n",
            "Epoch 9/100\n",
            "15/15 - 0s - loss: 0.0033 - 36ms/epoch - 2ms/step\n",
            "Epoch 10/100\n",
            "15/15 - 0s - loss: 0.0032 - 37ms/epoch - 2ms/step\n",
            "Epoch 11/100\n",
            "15/15 - 0s - loss: 0.0031 - 37ms/epoch - 2ms/step\n",
            "Epoch 12/100\n",
            "15/15 - 0s - loss: 0.0030 - 38ms/epoch - 3ms/step\n",
            "Epoch 13/100\n",
            "15/15 - 0s - loss: 0.0030 - 38ms/epoch - 3ms/step\n",
            "Epoch 14/100\n",
            "15/15 - 0s - loss: 0.0029 - 44ms/epoch - 3ms/step\n",
            "Epoch 15/100\n",
            "15/15 - 0s - loss: 0.0028 - 40ms/epoch - 3ms/step\n",
            "Epoch 16/100\n",
            "15/15 - 0s - loss: 0.0027 - 38ms/epoch - 3ms/step\n",
            "Epoch 17/100\n",
            "15/15 - 0s - loss: 0.0026 - 37ms/epoch - 2ms/step\n",
            "Epoch 18/100\n",
            "15/15 - 0s - loss: 0.0025 - 47ms/epoch - 3ms/step\n",
            "Epoch 19/100\n",
            "15/15 - 0s - loss: 0.0024 - 39ms/epoch - 3ms/step\n",
            "Epoch 20/100\n",
            "15/15 - 0s - loss: 0.0023 - 45ms/epoch - 3ms/step\n",
            "Epoch 21/100\n",
            "15/15 - 0s - loss: 0.0022 - 39ms/epoch - 3ms/step\n",
            "Epoch 22/100\n",
            "15/15 - 0s - loss: 0.0021 - 41ms/epoch - 3ms/step\n",
            "Epoch 23/100\n",
            "15/15 - 0s - loss: 0.0020 - 45ms/epoch - 3ms/step\n",
            "Epoch 24/100\n",
            "15/15 - 0s - loss: 0.0020 - 43ms/epoch - 3ms/step\n",
            "Epoch 25/100\n",
            "15/15 - 0s - loss: 0.0019 - 37ms/epoch - 2ms/step\n",
            "Epoch 26/100\n",
            "15/15 - 0s - loss: 0.0018 - 47ms/epoch - 3ms/step\n",
            "Epoch 27/100\n",
            "15/15 - 0s - loss: 0.0017 - 41ms/epoch - 3ms/step\n",
            "Epoch 28/100\n",
            "15/15 - 0s - loss: 0.0016 - 38ms/epoch - 3ms/step\n",
            "Epoch 29/100\n",
            "15/15 - 0s - loss: 0.0015 - 43ms/epoch - 3ms/step\n",
            "Epoch 30/100\n",
            "15/15 - 0s - loss: 0.0014 - 37ms/epoch - 2ms/step\n",
            "Epoch 31/100\n",
            "15/15 - 0s - loss: 0.0014 - 39ms/epoch - 3ms/step\n",
            "Epoch 32/100\n",
            "15/15 - 0s - loss: 0.0013 - 37ms/epoch - 2ms/step\n",
            "Epoch 33/100\n",
            "15/15 - 0s - loss: 0.0012 - 43ms/epoch - 3ms/step\n",
            "Epoch 34/100\n",
            "15/15 - 0s - loss: 0.0012 - 39ms/epoch - 3ms/step\n",
            "Epoch 35/100\n",
            "15/15 - 0s - loss: 0.0012 - 38ms/epoch - 3ms/step\n",
            "Epoch 36/100\n",
            "15/15 - 0s - loss: 0.0011 - 43ms/epoch - 3ms/step\n",
            "Epoch 37/100\n",
            "15/15 - 0s - loss: 0.0010 - 38ms/epoch - 3ms/step\n",
            "Epoch 38/100\n",
            "15/15 - 0s - loss: 9.7239e-04 - 37ms/epoch - 2ms/step\n",
            "Epoch 39/100\n",
            "15/15 - 0s - loss: 9.3631e-04 - 39ms/epoch - 3ms/step\n",
            "Epoch 40/100\n",
            "15/15 - 0s - loss: 9.0316e-04 - 38ms/epoch - 3ms/step\n",
            "Epoch 41/100\n",
            "15/15 - 0s - loss: 8.7004e-04 - 47ms/epoch - 3ms/step\n",
            "Epoch 42/100\n",
            "15/15 - 0s - loss: 8.4018e-04 - 46ms/epoch - 3ms/step\n",
            "Epoch 43/100\n",
            "15/15 - 0s - loss: 8.1327e-04 - 41ms/epoch - 3ms/step\n",
            "Epoch 44/100\n",
            "15/15 - 0s - loss: 7.8890e-04 - 39ms/epoch - 3ms/step\n",
            "Epoch 45/100\n",
            "15/15 - 0s - loss: 7.7665e-04 - 38ms/epoch - 3ms/step\n",
            "Epoch 46/100\n",
            "15/15 - 0s - loss: 7.5846e-04 - 37ms/epoch - 2ms/step\n",
            "Epoch 47/100\n",
            "15/15 - 0s - loss: 7.6903e-04 - 38ms/epoch - 3ms/step\n",
            "Epoch 48/100\n",
            "15/15 - 0s - loss: 7.6177e-04 - 37ms/epoch - 2ms/step\n",
            "Epoch 49/100\n",
            "15/15 - 0s - loss: 7.4106e-04 - 38ms/epoch - 3ms/step\n",
            "Epoch 50/100\n",
            "15/15 - 0s - loss: 7.3417e-04 - 39ms/epoch - 3ms/step\n",
            "Epoch 51/100\n",
            "15/15 - 0s - loss: 7.6250e-04 - 36ms/epoch - 2ms/step\n",
            "Epoch 52/100\n",
            "15/15 - 0s - loss: 7.3544e-04 - 45ms/epoch - 3ms/step\n",
            "Epoch 53/100\n",
            "15/15 - 0s - loss: 6.8541e-04 - 37ms/epoch - 2ms/step\n",
            "Epoch 54/100\n",
            "15/15 - 0s - loss: 7.2619e-04 - 37ms/epoch - 2ms/step\n",
            "Epoch 55/100\n",
            "15/15 - 0s - loss: 7.1368e-04 - 42ms/epoch - 3ms/step\n",
            "Epoch 56/100\n",
            "15/15 - 0s - loss: 7.1352e-04 - 38ms/epoch - 3ms/step\n",
            "Epoch 57/100\n",
            "15/15 - 0s - loss: 7.0540e-04 - 40ms/epoch - 3ms/step\n",
            "Epoch 58/100\n",
            "15/15 - 0s - loss: 7.1200e-04 - 36ms/epoch - 2ms/step\n",
            "Epoch 59/100\n",
            "15/15 - 0s - loss: 7.0428e-04 - 41ms/epoch - 3ms/step\n",
            "Epoch 60/100\n",
            "15/15 - 0s - loss: 7.4362e-04 - 40ms/epoch - 3ms/step\n",
            "Epoch 61/100\n",
            "15/15 - 0s - loss: 7.0178e-04 - 41ms/epoch - 3ms/step\n",
            "Epoch 62/100\n",
            "15/15 - 0s - loss: 7.2095e-04 - 40ms/epoch - 3ms/step\n",
            "Epoch 63/100\n",
            "15/15 - 0s - loss: 6.9547e-04 - 38ms/epoch - 3ms/step\n",
            "Epoch 64/100\n",
            "15/15 - 0s - loss: 6.9758e-04 - 41ms/epoch - 3ms/step\n",
            "Epoch 65/100\n",
            "15/15 - 0s - loss: 7.1430e-04 - 48ms/epoch - 3ms/step\n",
            "Epoch 66/100\n",
            "15/15 - 0s - loss: 6.9824e-04 - 45ms/epoch - 3ms/step\n",
            "Epoch 67/100\n",
            "15/15 - 0s - loss: 7.1253e-04 - 39ms/epoch - 3ms/step\n",
            "Epoch 68/100\n",
            "15/15 - 0s - loss: 7.0632e-04 - 42ms/epoch - 3ms/step\n",
            "Epoch 69/100\n",
            "15/15 - 0s - loss: 7.0608e-04 - 39ms/epoch - 3ms/step\n",
            "Epoch 70/100\n",
            "15/15 - 0s - loss: 7.0421e-04 - 37ms/epoch - 2ms/step\n",
            "Epoch 71/100\n",
            "15/15 - 0s - loss: 7.0373e-04 - 38ms/epoch - 3ms/step\n",
            "Epoch 72/100\n",
            "15/15 - 0s - loss: 6.9992e-04 - 37ms/epoch - 2ms/step\n",
            "Epoch 73/100\n",
            "15/15 - 0s - loss: 7.0544e-04 - 47ms/epoch - 3ms/step\n",
            "Epoch 74/100\n",
            "15/15 - 0s - loss: 6.9653e-04 - 41ms/epoch - 3ms/step\n",
            "Epoch 75/100\n",
            "15/15 - 0s - loss: 6.9127e-04 - 42ms/epoch - 3ms/step\n",
            "Epoch 76/100\n",
            "15/15 - 0s - loss: 7.0218e-04 - 40ms/epoch - 3ms/step\n",
            "Epoch 77/100\n",
            "15/15 - 0s - loss: 6.9319e-04 - 40ms/epoch - 3ms/step\n",
            "Epoch 78/100\n",
            "15/15 - 0s - loss: 6.9358e-04 - 44ms/epoch - 3ms/step\n",
            "Epoch 79/100\n",
            "15/15 - 0s - loss: 6.9318e-04 - 39ms/epoch - 3ms/step\n",
            "Epoch 80/100\n",
            "15/15 - 0s - loss: 7.1852e-04 - 40ms/epoch - 3ms/step\n",
            "Epoch 81/100\n",
            "15/15 - 0s - loss: 6.9059e-04 - 38ms/epoch - 3ms/step\n",
            "Epoch 82/100\n",
            "15/15 - 0s - loss: 6.9879e-04 - 55ms/epoch - 4ms/step\n",
            "Epoch 83/100\n",
            "15/15 - 0s - loss: 6.9860e-04 - 38ms/epoch - 3ms/step\n",
            "Epoch 84/100\n",
            "15/15 - 0s - loss: 6.8807e-04 - 45ms/epoch - 3ms/step\n",
            "Epoch 85/100\n",
            "15/15 - 0s - loss: 6.8976e-04 - 36ms/epoch - 2ms/step\n",
            "Epoch 86/100\n",
            "15/15 - 0s - loss: 6.9184e-04 - 36ms/epoch - 2ms/step\n",
            "Epoch 87/100\n",
            "15/15 - 0s - loss: 6.8722e-04 - 37ms/epoch - 2ms/step\n",
            "Epoch 88/100\n",
            "15/15 - 0s - loss: 6.8717e-04 - 47ms/epoch - 3ms/step\n",
            "Epoch 89/100\n",
            "15/15 - 0s - loss: 6.8207e-04 - 39ms/epoch - 3ms/step\n",
            "Epoch 90/100\n",
            "15/15 - 0s - loss: 7.0408e-04 - 39ms/epoch - 3ms/step\n",
            "Epoch 91/100\n",
            "15/15 - 0s - loss: 6.9869e-04 - 45ms/epoch - 3ms/step\n",
            "Epoch 92/100\n",
            "15/15 - 0s - loss: 6.8963e-04 - 40ms/epoch - 3ms/step\n",
            "Epoch 93/100\n",
            "15/15 - 0s - loss: 7.0748e-04 - 37ms/epoch - 2ms/step\n",
            "Epoch 94/100\n",
            "15/15 - 0s - loss: 7.0045e-04 - 36ms/epoch - 2ms/step\n",
            "Epoch 95/100\n",
            "15/15 - 0s - loss: 6.8926e-04 - 38ms/epoch - 3ms/step\n",
            "Epoch 96/100\n",
            "15/15 - 0s - loss: 6.8765e-04 - 38ms/epoch - 3ms/step\n",
            "Epoch 97/100\n",
            "15/15 - 0s - loss: 6.7695e-04 - 38ms/epoch - 3ms/step\n",
            "Epoch 98/100\n",
            "15/15 - 0s - loss: 6.9287e-04 - 41ms/epoch - 3ms/step\n",
            "Epoch 99/100\n",
            "15/15 - 0s - loss: 6.8390e-04 - 35ms/epoch - 2ms/step\n",
            "Epoch 100/100\n",
            "15/15 - 0s - loss: 6.8306e-04 - 42ms/epoch - 3ms/step\n"
          ]
        },
        {
          "output_type": "execute_result",
          "data": {
            "text/plain": [
              "<keras.callbacks.History at 0x7f47255b7bd0>"
            ]
          },
          "metadata": {},
          "execution_count": 12
        }
      ]
    },
    {
      "cell_type": "code",
      "source": [
        "# make predictions\n",
        "trainPredict = model.predict(trainX)\n",
        "testPredict = model.predict(testX)\n",
        "# invert predictions\n",
        "trainPredict = scaler.inverse_transform(trainPredict)\n",
        "trainY = scaler.inverse_transform([trainY])\n",
        "testPredict = scaler.inverse_transform(testPredict)\n",
        "testY = scaler.inverse_transform([testY])"
      ],
      "metadata": {
        "colab": {
          "base_uri": "https://localhost:8080/"
        },
        "id": "H4LkoreGRAjJ",
        "outputId": "24f6a7cf-75e8-4a4c-b6e4-2b713d12c355"
      },
      "execution_count": 13,
      "outputs": [
        {
          "output_type": "stream",
          "name": "stdout",
          "text": [
            "3/3 [==============================] - 0s 4ms/step\n",
            "3/3 [==============================] - 0s 4ms/step\n"
          ]
        }
      ]
    },
    {
      "cell_type": "markdown",
      "source": [
        "#6. Making Predictions of the Model"
      ],
      "metadata": {
        "id": "EKPeY-OgM35J"
      }
    },
    {
      "cell_type": "code",
      "source": [
        "# shift train predictions for plotting\n",
        "trainPredictPlot = np.empty_like(df2)\n",
        "trainPredictPlot[:, :] = np.nan\n",
        "trainPredictPlot[look_back:len(trainPredict)+look_back, :] = trainPredict\n",
        "# shift test predictions for plotting\n",
        "testPredictPlot = np.empty_like(df2)\n",
        "testPredictPlot[:, :] = np.nan\n",
        "testPredictPlot[len(trainPredict)+(look_back*2)+1:len(df2)-1, :] = testPredict\n",
        "# plot baseline and predictions\n",
        "plt.plot(scaler.inverse_transform(df2), label = 'Actual Data')\n",
        "plt.title('Estimation of Number of death until 2100')\n",
        "plt.xlabel('Year')\n",
        "plt.ylabel('Amount of death times 10**8')\n",
        "plt.plot(trainPredictPlot,color='#DE3163', label = 'Train Predicted Data')\n",
        "plt.plot(testPredictPlot, color='#FFC300', label = 'Test Predicted Data')\n",
        "plt.legend(loc='best')\n",
        "plt.show()"
      ],
      "metadata": {
        "colab": {
          "base_uri": "https://localhost:8080/",
          "height": 295
        },
        "id": "d3Y8fHV5REHh",
        "outputId": "b94ab2ae-aa8e-4795-c4c7-c5d4786e1453"
      },
      "execution_count": 14,
      "outputs": [
        {
          "output_type": "display_data",
          "data": {
            "text/plain": [
              "<Figure size 432x288 with 1 Axes>"
            ],
            "image/png": "[encoded data removed]"
          },
          "metadata": {
            "needs_background": "light"
          }
        }
      ]
    },
    {
      "cell_type": "code",
      "source": [
        "# calculate root mean squared error\n",
        "trainScore = math.sqrt(mean_squared_error(trainY[0], trainPredict[:,0]))\n",
        "print(\"Root mean square error of Training  = \",trainScore,\" RMSE\")\n",
        "testScore = math.sqrt(mean_squared_error(testY[0], testPredict[:,0]))\n",
        "print(\"Root mean square error of Testing = \",testScore,\" RMSE\")\n"
      ],
      "metadata": {
        "colab": {
          "base_uri": "https://localhost:8080/"
        },
        "id": "HVG1YUaGSMkE",
        "outputId": "ae3971de-3474-4c4b-f823-fcdef3492205"
      },
      "execution_count": 32,
      "outputs": [
        {
          "output_type": "stream",
          "name": "stdout",
          "text": [
            "Root mean square error of Training  =  1986684.394489506  RMSE\n",
            "Root mean square error of Testing =  1384880.7442590042  RMSE\n"
          ]
        }
      ]
    }
  ]
}